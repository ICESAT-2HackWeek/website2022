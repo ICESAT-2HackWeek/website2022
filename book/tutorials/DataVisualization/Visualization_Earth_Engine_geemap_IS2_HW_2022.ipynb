{
 "cells": [
  {
   "cell_type": "markdown",
   "id": "suffering-union",
   "metadata": {
    "tags": []
   },
   "source": [
    "# Interactive Visualizion with Open Altimetry & Google Earth Engine\n",
    "\n",
    "## Learning Objectives\n",
    "- Load ICESat-2 data using the OpenAltimetry API. \n",
    "- Query Google Earth Engine for geospatial raster data and display it along with ICESat-2 ground tracks on an interactive map.\n",
    "- Better understand what you are looking at in ATL03 features without downloading a bunch of files."
   ]
  },
  {
   "cell_type": "markdown",
   "id": "649d863c-5ad1-4b9f-9fa0-416ff04396a4",
   "metadata": {},
   "source": [
    "## Computing environment\n",
    "\n",
    "We'll be using the following Python libraries in this notebook:"
   ]
  },
  {
   "cell_type": "code",
   "execution_count": null,
   "id": "2a5720d5-d805-4c24-a92e-a2238805cdbf",
   "metadata": {},
   "outputs": [],
   "source": [
    "%matplotlib widget\n",
    "import os\n",
    "import ee\n",
    "import geemap\n",
    "import requests\n",
    "import numpy as np\n",
    "import matplotlib.pylab as plt\n",
    "from datetime import datetime\n",
    "from datetime import timedelta\n",
    "import rasterio as rio\n",
    "from rasterio import plot\n",
    "from rasterio import warp"
   ]
  },
  {
   "cell_type": "markdown",
   "id": "854c2d0e-b10c-4b18-a81a-dca7e14e9ac4",
   "metadata": {},
   "source": [
    "    \n",
    "The import below is a class that I wrote myself. It helps us read and store data from the OpenAltimetry API.  \n",
    "If you are interested in how this works, you can find the code in `utils/oa.py`."
   ]
  },
  {
   "cell_type": "code",
   "execution_count": null,
   "id": "15a93f7d-eb10-43a0-bff1-4185f483b152",
   "metadata": {},
   "outputs": [],
   "source": [
    "from utils.oa import dataCollector"
   ]
  },
  {
   "cell_type": "markdown",
   "id": "ebd24061-0682-492d-81de-f212c82b73ae",
   "metadata": {},
   "source": [
    "## Google Earth Engine Authentication and Initialization\n",
    "GEE requires you to authenticate your access, so if `ee.Initialize()` does not work you first need to run `ee.Authenticate()`. This gives you a link at which you can use your google account that is associated with GEE to get an authorization code. Copy the authorization code into the input field and hit *enter* to complete authentication. "
   ]
  },
  {
   "cell_type": "code",
   "execution_count": null,
   "id": "43ab62f4-b763-41df-a62a-0e41910a4db6",
   "metadata": {},
   "outputs": [],
   "source": [
    "try:\n",
    "    ee.Initialize()\n",
    "except: \n",
    "    ee.Authenticate()\n",
    "    ee.Initialize()"
   ]
  },
  {
   "cell_type": "markdown",
   "id": "775cdba2-3411-4f86-a254-cf9842d6a200",
   "metadata": {},
   "source": [
    "## Downloading data from the OpenAltimetry API\n",
    "\n",
    "Let's say we have found some data that looks weird to us, and we don't know what's going on.\n",
    "\n",
    "![gif showing how to get to the data in OpenAltimetry](https://user-images.githubusercontent.com/23487320/159029794-748ff020-32a7-4794-958d-d27340ffd6ca.gif)\n",
    "\n",
    "### A short explanation of how I got the data:\n",
    "I went to [openaltimetry.org](https://openaltimetry.org/) and selected **BROWSE ICESAT-2 DATA**. Then I selected **ATL 06** (Land Ice Height) on the top right, and switched the projection🌎 to **Antarctic**. Then I selected **January 16, 2020** in the calendar📅 on the bottom left, and toggled the **cloud**☁️ button to show MODIS imagery of that date. I then zoomed in on my region of interest (Nivlisen Ice Shelf). Looks like there's a cloud in MODIS, but ICESat-2 has data. I wonder what this cloud is hiding?🤔 \n",
    "\n",
    "To find out, I clicked on **SELECT A REGION** on the top left, and drew a rectangle around that mysterious cloud. When right-clicking on that rectangle, I could select **View Elevation profile**. This opened a new tab, and showed me ATL06 and ATL08 elevations. \n",
    "\n",
    "It looks like ATL06 can't decide where the surface is, and ATL08 tells me that there's a forest canopy on this ice shelf in Antarctica?? To get to the bottom of this, I scrolled all the way down and selected 🛈**Get API URL**. The website confirms that the *\"API endpoint was copied to clipboard.\"* Now I can use this to access the data myself. \n",
    "\n",
    "*Note: Instead of trying to find Nivlisen Ice Shelf yourself, you can access the OpenAltimetry page shown above by going to [this annotation🏷️](https://openaltimetry.org/data/icesat2/?annoId=501&shareKey=3407f280d15816afe4bf77cbb719210e). Just left-click on the red box and select \"View Elevation Profile\".*"
   ]
  },
  {
   "cell_type": "markdown",
   "id": "9f8fc7cb-ad5a-429c-ba60-8a2fcd5e6d04",
   "metadata": {},
   "source": [
    "### Getting the OpenAltimetry info into python\n",
    "All we need to do is to paste the API URL that we copied from the webpage into a string. \n",
    "We also need to specify which beam we would like to look at. The **GT2R** ground track looks funky, so let's look at that one!"
   ]
  },
  {
   "cell_type": "code",
   "execution_count": null,
   "id": "f89a250d-cd9a-4577-8810-10cecc081634",
   "metadata": {},
   "outputs": [],
   "source": [
    "# paste the API URL from OpenAltimetry below, and specify the beam you are interested in\n",
    "oa_api_url = 'http://openaltimetry.org/data/api/icesat2/atl03?date=2020-01-16&minx=12.107692195781404&miny=-70.34956862465471&maxx=12.426364789894341&maxy=-70.2449105354736&trackId=312&beamName=gt3r&beamName=gt3l&beamName=gt2r&beamName=gt2l&beamName=gt1r&beamName=gt1l&outputFormat=json'\n",
    "gtx = 'gt2r'"
   ]
  },
  {
   "cell_type": "markdown",
   "id": "45d5b63c-c41d-448a-949d-09680e5b45e4",
   "metadata": {},
   "source": [
    "We can now initialize a `dataCollector` object, using the copy-pasted OpenAltimetry API URL, and the beam we would like to look at. "
   ]
  },
  {
   "cell_type": "code",
   "execution_count": null,
   "id": "99d0fe7a-bd9e-4e61-92c4-51940e033a49",
   "metadata": {},
   "outputs": [],
   "source": [
    "is2data = dataCollector(oaurl=oa_api_url,beam=gtx, verbose=True)"
   ]
  },
  {
   "cell_type": "markdown",
   "id": "4fe1b4b5-273b-4083-8e06-24d383bb0775",
   "metadata": {},
   "source": [
    "Alternatively, we could use a date, track number, beam, and lat/lon bounding box as input to the `dataCollector`."
   ]
  },
  {
   "cell_type": "code",
   "execution_count": null,
   "id": "d934716a-7c38-428c-85d5-d81833e960c5",
   "metadata": {},
   "outputs": [],
   "source": [
    "latlims = [-70.34957, -70.24491]\n",
    "lonlims = [12.10769, 12.42636]\n",
    "rgt = 312\n",
    "gtx = 'gt2r'\n",
    "date = '2020-01-16'\n",
    "is2data = dataCollector(date=date, latlims=latlims, lonlims=lonlims, track=rgt, beam=gtx, verbose=True)"
   ]
  },
  {
   "cell_type": "markdown",
   "id": "f66b36e9-1d1f-4daf-9290-bfc11bf26f0f",
   "metadata": {},
   "source": [
    "Note that this also constructs the API url for us."
   ]
  },
  {
   "cell_type": "markdown",
   "id": "5a6116aa-1019-474f-a099-3248517f2fbb",
   "metadata": {},
   "source": [
    "### Requesting the data from the OpenAltimetry API\n",
    "Here we use the `requestData()` function of the `dataCollector` class, which is defined in `utils/oa.py`. It downloads ATL03, ATL06 and ATL08 data based on the inputs with which we initialized our `dataCollector`, and writes them to pandas dataframes."
   ]
  },
  {
   "cell_type": "code",
   "execution_count": null,
   "id": "ac7dbc12-4634-424f-a532-b7eaa12df3b9",
   "metadata": {},
   "outputs": [],
   "source": [
    "is2data.requestData(verbose=True)"
   ]
  },
  {
   "cell_type": "markdown",
   "id": "a99aba7d-e923-486c-92bc-f7b918949d7d",
   "metadata": {},
   "source": [
    "The data are now stored as data frames in our `dataCollector` object. To verify this, we can run the cell below."
   ]
  },
  {
   "cell_type": "code",
   "execution_count": null,
   "id": "09a444e4-8a69-4c76-9272-7320e6fe4a94",
   "metadata": {},
   "outputs": [],
   "source": [
    "vars(is2data)"
   ]
  },
  {
   "cell_type": "markdown",
   "id": "13cee4e0-1dd4-47a9-ad8a-8383af5d4590",
   "metadata": {},
   "source": [
    "## Plotting the ATL03, ATL06 and ATL08 data"
   ]
  },
  {
   "cell_type": "markdown",
   "id": "d52f702e-d0bd-41c6-b176-7d20355dc6e5",
   "metadata": {},
   "source": [
    "Now let's plot this data. Here, we are just creating an empty figure `fig` with axes `ax`."
   ]
  },
  {
   "cell_type": "code",
   "execution_count": null,
   "id": "69ff212e-5222-4f0e-91a0-1591be1c2714",
   "metadata": {},
   "outputs": [],
   "source": [
    "# create the figure and axis\n",
    "fig, ax = plt.subplots(figsize=[10,4])"
   ]
  },
  {
   "cell_type": "markdown",
   "id": "c34b2c53-a708-46ab-a389-1422a0ec03f1",
   "metadata": {},
   "source": [
    "Let's plot ATL06 elevation versus latitude on these axes above."
   ]
  },
  {
   "cell_type": "code",
   "execution_count": null,
   "id": "0322fbbe-7f73-4581-9fc7-de515d2316c8",
   "metadata": {},
   "outputs": [],
   "source": [
    "atl06, = ax.plot(is2data.atl06.lat, is2data.atl06.h, label='ATL06')"
   ]
  },
  {
   "cell_type": "markdown",
   "id": "4ecb365e-feab-477a-b403-66d4131d969e",
   "metadata": {},
   "source": [
    "Similarly, we can add ATL08 to the plot. Let's make this one dashed by adding `linestyle='--'`."
   ]
  },
  {
   "cell_type": "code",
   "execution_count": null,
   "id": "2c84f602-1894-403e-a807-357aac856fa0",
   "metadata": {},
   "outputs": [],
   "source": [
    "atl08, = ax.plot(is2data.atl08.lat, is2data.atl08.h, label='ATL08', linestyle='--')"
   ]
  },
  {
   "cell_type": "markdown",
   "id": "56be68c7-2aab-41d0-bd69-00827143eed2",
   "metadata": {},
   "source": [
    "For ATL03, we want a scatter plot."
   ]
  },
  {
   "cell_type": "code",
   "execution_count": null,
   "id": "62ba8fd2-e5cb-4266-956a-0911ac4ce222",
   "metadata": {},
   "outputs": [],
   "source": [
    "atl03 = ax.scatter(is2data.atl03.lat, is2data.atl03.h, s=1, color='black', label='ATL03')"
   ]
  },
  {
   "cell_type": "markdown",
   "id": "7f6ccf8a-100a-4710-8dac-d8d632febae1",
   "metadata": {},
   "source": [
    "Now this doesn't look so great. We're not interested in all these noise photons, so we need to adjust the extent of the axes. \n",
    "We can do this interactively on the plot. "
   ]
  },
  {
   "cell_type": "markdown",
   "id": "231462be-821e-460c-ac76-214644803401",
   "metadata": {},
   "source": [
    "Alternatively, we could adjust the axes to whichever values we like by calling something like the following:"
   ]
  },
  {
   "cell_type": "code",
   "execution_count": null,
   "id": "8defac4d-ea70-4aa4-9449-f2ce02ac96bf",
   "metadata": {},
   "outputs": [],
   "source": [
    "ax.set_xlim((-70.34, -70.25))\n",
    "ax.set_ylim((23, 47))"
   ]
  },
  {
   "cell_type": "markdown",
   "id": "267ec820-9c24-49d8-a3a8-0186406f61b6",
   "metadata": {},
   "source": [
    "Have you ever lost points on a problem set because you didn't label your axes? Let's label them axes!  \n",
    "...and let's throw in a fun title for good measure too. "
   ]
  },
  {
   "cell_type": "code",
   "execution_count": null,
   "id": "73dad605-585b-4a9d-8329-900905c92060",
   "metadata": {},
   "outputs": [],
   "source": [
    "ax.set_xlabel('latitude')\n",
    "ax.set_ylabel('elevation in meters')\n",
    "ax.set_title('Some ICESat-2 data I found on OpenAltimetry!')"
   ]
  },
  {
   "cell_type": "markdown",
   "id": "baf084dc-18a2-44ca-b971-6a44ef59fa27",
   "metadata": {},
   "source": [
    "To know what we're looking at, we need a legend as well. "
   ]
  },
  {
   "cell_type": "code",
   "execution_count": null,
   "id": "05dd2af7-309b-42ee-921b-67064f4bb113",
   "metadata": {},
   "outputs": [],
   "source": [
    "ax.legend(loc='lower right')"
   ]
  },
  {
   "cell_type": "markdown",
   "id": "bfafd596-06d2-435f-af64-5e2742e7d13d",
   "metadata": {},
   "source": [
    "...and we can do all sorts of other funky stuff. Here it's nice to have some context about the data. (Because we don't want to find this plot somewhere in a year from now just to realize we have no idea where the data came from...)"
   ]
  },
  {
   "cell_type": "code",
   "execution_count": null,
   "id": "5d1de358-101b-4a7e-a457-f81e06e6fd54",
   "metadata": {},
   "outputs": [],
   "source": [
    "# add some text to provide info on what is plotted\n",
    "info = 'ICESat-2 track {track:d}-{beam:s} on {date:s}\\n({lon:.4f}E, {lat:.4f}N)'.format(track=is2data.track, \n",
    "                                                                                        beam=is2data.beam, \n",
    "                                                                                        date=is2data.date, \n",
    "                                                                                        lon=np.mean(is2data.lonlims), \n",
    "                                                                                        lat=np.mean(is2data.latlims))\n",
    "infotext = ax.text(0.01, 0.03, info,\n",
    "                   horizontalalignment='left', \n",
    "                   verticalalignment='bottom', \n",
    "                   transform=ax.transAxes,\n",
    "                   bbox=dict(edgecolor=None, facecolor='white', alpha=0.9, linewidth=0))"
   ]
  },
  {
   "cell_type": "code",
   "execution_count": null,
   "id": "1838c881-ad54-4cb6-8d61-5556243f467b",
   "metadata": {},
   "outputs": [],
   "source": [
    "fig.tight_layout()"
   ]
  },
  {
   "cell_type": "code",
   "execution_count": null,
   "id": "87f36627-7a54-4285-86af-71432bc5e17e",
   "metadata": {},
   "outputs": [],
   "source": [
    "fig"
   ]
  },
  {
   "cell_type": "markdown",
   "id": "cfe32439-99f3-4bd8-a482-fc740700ea67",
   "metadata": {},
   "source": [
    "## Saving the Plot to a file"
   ]
  },
  {
   "cell_type": "code",
   "execution_count": null,
   "id": "0596bea0-ab01-40d3-88f8-226654eb7373",
   "metadata": {},
   "outputs": [],
   "source": [
    "fig.savefig('my-plot.jpg')"
   ]
  },
  {
   "cell_type": "markdown",
   "id": "348bfbe7-806f-4a7b-9b64-b3b35c3555d3",
   "metadata": {},
   "source": [
    "This is not really publication quality, so we can adjust the resolution using the `dpi` argument."
   ]
  },
  {
   "cell_type": "code",
   "execution_count": null,
   "id": "a96d52b7-49be-4573-8ffd-76a0f0a5dffd",
   "metadata": {},
   "outputs": [],
   "source": [
    "fig.savefig('my-plot-better-resolution.jpg',dpi=300)"
   ]
  },
  {
   "cell_type": "markdown",
   "id": "8b591354-c887-477c-86c7-4bdc708c8944",
   "metadata": {},
   "source": [
    "To make plots easier to produce, the `dataCollector` class also has a method to plot the data that we downloaded. "
   ]
  },
  {
   "cell_type": "code",
   "execution_count": null,
   "id": "7f665878-80ee-4884-91da-ea975636cc66",
   "metadata": {},
   "outputs": [],
   "source": [
    "fig = is2data.plotData()"
   ]
  },
  {
   "cell_type": "markdown",
   "id": "079ee4d8-239e-4781-9663-7fdd8046f8f0",
   "metadata": {},
   "source": [
    "Let's wrap this all into a function!"
   ]
  },
  {
   "cell_type": "code",
   "execution_count": null,
   "id": "83cd9314-d94b-4f3d-b643-e78350da265d",
   "metadata": {},
   "outputs": [],
   "source": [
    "def plot_from_oa_url(url,gtx,title='ICESat-2 Data'):\n",
    "    mydata = dataCollector(oaurl=url,beam=gtx)\n",
    "    mydata.requestData()\n",
    "    myplot = mydata.plotData(title=title)\n",
    "    return (myplot, mydata)"
   ]
  },
  {
   "cell_type": "markdown",
   "id": "71019d21-9751-4cce-bd21-40d49d7aa11d",
   "metadata": {
    "tags": []
   },
   "source": [
    "## Exercise 1 \n",
    "**Find some data from openaltimetry that you would like to read into python, and plot it here.**\n",
    "\n",
    "Look for small-scale features, where ATL03 photon cloud may give us some information that we would not get from ATL08 or ATL06 (Say a few hundred meters to 20 kilometers along-track. *Hint: OpenAltimetry has a scale bar.*)\n",
    "\n",
    "If you don't know where to start with OpenAltimetry, you can look at any of these annotations below:\n",
    "- Like mountains? Look at gt2l [here](http://openaltimetry.org/data/icesat2/?annoId=260&shareKey=6bcd62fe2f581f61c4a1b4b5a4f07de5).\n",
    "- Like the ocean? Look at gt1r [here](http://openaltimetry.org/data/icesat2/?annoId=505&shareKey=4345379a3318b8c055d026723ca60162).\n",
    "- Like the previous example but don't wanna go to Antarctica? Look at gt3l [here](http://openaltimetry.org/data/icesat2/?annoId=260&shareKey=6bcd62fe2f581f61c4a1b4b5a4f07de5).\n",
    "- Curious about more ice shelf suff? Look at gt3r [here](http://openaltimetry.org/data/icesat2/?annoId=207&shareKey=e90e9fb891a716064f5cc8b0e13f750a).\n",
    "- Can you tell what's going on in gt3r [here](http://openaltimetry.org/data/icesat2/?annoId=504&shareKey=aae14eeca098358c6f9e686ca659a93e)? "
   ]
  },
  {
   "cell_type": "code",
   "execution_count": null,
   "id": "c79b606c-8dd5-4aa5-bc27-320f4c05dc1f",
   "metadata": {},
   "outputs": [],
   "source": [
    "##### YOUR CODE GOES HERE\n",
    "# url = 'http://???.org/??'\n",
    "# gtx = 'gt??'\n",
    "# myplot, mydata = plot_from_oa_url(url=url, gtx=gtx, title='<your title here>')\n",
    "# myplot.savefig('geemap_tutorial_exercise1.jpg', dpi=300)\n",
    "# myplot"
   ]
  },
  {
   "cell_type": "code",
   "execution_count": null,
   "id": "816c413d-ac88-4a00-a693-b31ea6e72976",
   "metadata": {},
   "outputs": [],
   "source": [
    "url = 'http://openaltimetry.org/data/api/icesat2/atl03?date=2020-01-16&minx=12.107692195781404&miny=-70.34956862465471&maxx=12.426364789894341&maxy=-70.2449105354736&trackId=312&beamName=gt3r&beamName=gt3l&beamName=gt2r&beamName=gt2l&beamName=gt1r&beamName=gt1l&outputFormat=json'\n",
    "gtx = 'gt2r'\n",
    "myplot, mydata = plot_from_oa_url(url=url, gtx=gtx, title='Exciting Data!!!')\n",
    "myplot.savefig('geemap_tutorial_exercise1.jpg', dpi=300)"
   ]
  },
  {
   "cell_type": "markdown",
   "id": "1bb301f1-3f21-4c83-bb89-8b383afde5fd",
   "metadata": {
    "tags": []
   },
   "source": [
    "## Ground Track Stats\n",
    "So far we have only seen the data in elevation vs. latitude space. It's probably good to know what the scale on the x-axis is here in units that we're familiar with. "
   ]
  },
  {
   "cell_type": "code",
   "execution_count": null,
   "id": "17832d30-25f9-454c-98ea-1b908f20b37a",
   "metadata": {},
   "outputs": [],
   "source": [
    "def dist_latlon2meters(lat1, lon1, lat2, lon2):\n",
    "    # returns the distance between two coordinate points - (lon1, lat1) and (lon2, lat2) along the earth's surface in meters.\n",
    "    R = 6371000\n",
    "    def deg2rad(deg):\n",
    "        return deg * (np.pi/180)\n",
    "    dlat = deg2rad(lat2-lat1)\n",
    "    dlon = deg2rad(lon2-lon1)\n",
    "    a = np.sin(dlat/2) * np.sin(dlat/2) + np.cos(deg2rad(lat1)) * np.cos(deg2rad(lat2)) * np.sin(dlon/2) * np.sin(dlon/2)\n",
    "    c = 2 * np.arctan2(np.sqrt(a), np.sqrt(1-a))\n",
    "    return R * c\n",
    "\n",
    "lat1, lat2 = mydata.atl08.lat[0], mydata.atl08.lat.iloc[-1]\n",
    "lon1, lon2 = mydata.atl08.lon[0], mydata.atl08.lon.iloc[-1]\n",
    "\n",
    "ground_track_length = dist_latlon2meters(lat1, lon1, lat2, lon2)\n",
    "print('The ground track is about %.1f kilometers long.' % (ground_track_length/1e3))"
   ]
  },
  {
   "cell_type": "markdown",
   "id": "b372f394-e926-4727-be33-e4abfe2b7da1",
   "metadata": {},
   "source": [
    "## Google Earth Engine\n",
    "\n",
    "Google Earth Engine (GEE) has a large [catalog](https://developers.google.com/earth-engine/datasets) of geospatial raster data, which is ready for analysis in the cloud. It also comes with an online JavaScript code editor.  \n",
    "<img src=\"misc/gee_codeeditor.png\" alt=\"gif showing how to get to the data in OpenAltimetry\" width=\"600px\">  \n",
    "But since we all seem to be using python, it would be nice to have these capabilities available in our Jupyter comfort zone...\n",
    "\n",
    "Thankfully, there is a [python API for GEE](https://developers.google.com/earth-engine/tutorials/community/intro-to-python-api), which we have imported using `import ee` earlier. It doesn't come with an interactive map, but the python package [geemap](https://geemap.org/) has us covered!"
   ]
  },
  {
   "cell_type": "markdown",
   "id": "bc00f341-5c4e-444c-944b-d0028537ed3f",
   "metadata": {},
   "source": [
    "## Show a ground track on a map\n",
    "We can start working on our map by calling `geemap.Map()`. This just gives us a world map with a standard basemap. "
   ]
  },
  {
   "cell_type": "code",
   "execution_count": null,
   "id": "103e7f08-8b1b-4270-9463-a2f7355d12ee",
   "metadata": {},
   "outputs": [],
   "source": [
    "Map = geemap.Map()\n",
    "Map"
   ]
  },
  {
   "cell_type": "markdown",
   "id": "63bc84b6-6493-48b8-859e-978ac5b3458b",
   "metadata": {},
   "source": [
    "Now we need to add our ICESat-2 gound track to that map. Let's use the lon/lat coordinates of the ATL08 data product for this.  \n",
    "We also need to specify which **Coordinate Reference System (CRS)** our data is in. The longitude/latitude system that we are all quite familiar with is referenced by [`EPSG:4326`](https://epsg.io/4326). To add the ground track to the map we need to turn it into an [Earth Engine \"Feature Collection\"](https://developers.google.com/earth-engine/guides/feature_collections)."
   ]
  },
  {
   "cell_type": "code",
   "execution_count": null,
   "id": "d7ac4275-4765-457b-8cc3-022ce06276cb",
   "metadata": {},
   "outputs": [],
   "source": [
    "ground_track_coordinates = list(zip(mydata.atl08.lon, mydata.atl08.lat))\n",
    "ground_track_projection = 'EPSG:4326' # <-- this specifies that our data longitude/latitude in degrees [https://epsg.io/4326]\n",
    "gtx_feature = ee.FeatureCollection(ee.Geometry.LineString(coords=ground_track_coordinates, \n",
    "                                      proj=ground_track_projection, \n",
    "                                      geodesic=True))\n",
    "gtx_feature"
   ]
  },
  {
   "cell_type": "markdown",
   "id": "53bb4fd5-8a09-4eed-a11b-9a4f0d00fa8e",
   "metadata": {},
   "source": [
    "Now that we have it in the right format, we can add it as a **layer** to the map."
   ]
  },
  {
   "cell_type": "code",
   "execution_count": null,
   "id": "4369e40f-1351-4682-8cbf-e44fef6f5075",
   "metadata": {},
   "outputs": [],
   "source": [
    "Map.addLayer(gtx_feature, {'color': 'red'}, 'ground track')"
   ]
  },
  {
   "cell_type": "markdown",
   "id": "72a3b592-d573-47a7-bc6a-c21f7c0b51be",
   "metadata": {},
   "source": [
    "According to the cell above this should be a red line. But we still can't see it, because we first need to tell the map where to look for it.  \n",
    "Let's calculate the center longitude and latitude, and center the map on it. "
   ]
  },
  {
   "cell_type": "code",
   "execution_count": null,
   "id": "b07915ed-6a23-4bef-8ba2-c5e538272773",
   "metadata": {},
   "outputs": [],
   "source": [
    "center_lon = (lon1 + lon2) / 2\n",
    "center_lat = (lat1 + lat2) / 2\n",
    "Map.setCenter(center_lon, center_lat, zoom=2);"
   ]
  },
  {
   "cell_type": "markdown",
   "id": "b7544cb7-05b1-4837-b188-6713d26a28a8",
   "metadata": {},
   "source": [
    "So we actually couldn't see it because it was in Antarctica (of all places!).  \n",
    "Unfortunately the basemap here doesn't give us much more information. Let's add a satellite imagery basemap.\n",
    "This is a good time to look at the layer control on the top right."
   ]
  },
  {
   "cell_type": "code",
   "execution_count": null,
   "id": "a6593ecd-3190-4b6c-ae5b-d2de95073ffb",
   "metadata": {},
   "outputs": [],
   "source": [
    "Map.add_basemap('SATELLITE') # <-- this adds a layer called 'Google Satellite'\n",
    "Map.layer_opacity(name='Google Satellite', value=0.5)\n",
    "Map.setCenter(center_lon, center_lat, zoom=7);"
   ]
  },
  {
   "cell_type": "markdown",
   "id": "3e4d2b98-09b3-41d4-9570-4ed72474d564",
   "metadata": {},
   "source": [
    "Okay, we're on an ice shelf!\n",
    "But the basemap was plotted over the ground track, so let's add that back again on top of it."
   ]
  },
  {
   "cell_type": "code",
   "execution_count": null,
   "id": "6a7de5eb-3b06-44f7-8265-9e394467c9ff",
   "metadata": {},
   "outputs": [],
   "source": [
    "Map.addLayer(gtx_feature,{'color': 'red'},'ground track')"
   ]
  },
  {
   "cell_type": "markdown",
   "id": "0720d654-510a-44ad-9db4-08cdc471af74",
   "metadata": {},
   "source": [
    "...looks like this basemap still doesn't give us any more clues about the nature of this weird ICESat-2 data. Let's dig deeper."
   ]
  },
  {
   "cell_type": "markdown",
   "id": "70662307-98f3-45fd-9361-705e67f23df4",
   "metadata": {},
   "source": [
    "## Query for Sentinel-2 and Landsat 8 images\n",
    "Both of these satellites take images of most places on our planet every week or so. Maybe these images can tell us what was happening here around the same time that ICESat-2 acquired our data?\n",
    "\n",
    "The imagery scenes of both satellites (amongst many more) live in image collections on Google Earth Engine.  \n",
    "You can find all collections here: https://developers.google.com/earth-engine/datasets/catalog/"
   ]
  },
  {
   "cell_type": "markdown",
   "id": "e18ac9c0-435e-4cdc-817f-eaf42dce0ec8",
   "metadata": {},
   "source": [
    "Let's have a look at Landsat 8 first. The above link tells us we can find some images under `'LANDSAT/LC08/C01/T2'`."
   ]
  },
  {
   "cell_type": "code",
   "execution_count": null,
   "id": "f62c7039-e5c5-4508-b201-705e443fd060",
   "metadata": {},
   "outputs": [],
   "source": [
    "collection_name1 = 'LANDSAT/LC08/C01/T2'  # Landsat 8 earth engine collection \n",
    "# https://developers.google.com/earth-engine/datasets/catalog/LANDSAT_LC08_C01_T2"
   ]
  },
  {
   "cell_type": "markdown",
   "id": "7bbc89c7-32ee-4987-959b-967f7864406f",
   "metadata": {},
   "source": [
    "### Access an image collection\n",
    "To access the collection, we call `ee.ImageCollection`:"
   ]
  },
  {
   "cell_type": "code",
   "execution_count": null,
   "id": "ad160256-a37f-4cbe-9883-a31b6cff9a1c",
   "metadata": {},
   "outputs": [],
   "source": [
    "collection = ee.ImageCollection(collection_name1)\n",
    "collection"
   ]
  },
  {
   "cell_type": "markdown",
   "id": "6a209202-d6f4-49e8-8ed8-897eea2c31b2",
   "metadata": {},
   "source": [
    "Can we find out how many images there are in total?"
   ]
  },
  {
   "cell_type": "code",
   "execution_count": null,
   "id": "e23f6824-649f-49c2-8a48-a7d72addd1e1",
   "metadata": {},
   "outputs": [],
   "source": [
    "number_of_scenes = collection.size()\n",
    "number_of_scenes"
   ]
  },
  {
   "cell_type": "markdown",
   "id": "eb8cbde4-428b-4d87-b359-1ec7bf59ce59",
   "metadata": {},
   "source": [
    "Actually, asking for the size of the collection does not do anything on the client side (our local machine). It just tells Earth Engine on the server-side that this variable refers to the size of the collection, which we may need later to do some analysis on the server.\n",
    "\n",
    "To get this information to our own machine, we need to call `.getInfo()`. *(This takes a while...)*"
   ]
  },
  {
   "cell_type": "code",
   "execution_count": null,
   "id": "4e994850-8774-418f-a743-111b0078aaaa",
   "metadata": {},
   "outputs": [],
   "source": [
    "number_of_scenes = collection.size().getInfo()\n",
    "number_of_scenes"
   ]
  },
  {
   "cell_type": "markdown",
   "id": "5fb82a89-1c28-4677-a4d5-e5a5192f758f",
   "metadata": {},
   "source": [
    "### Filter an image collection\n",
    "Who wants to look at almost a million pictures? I don't. So let's try to narrow it down.  \n",
    "Let's start with only images that overlap with the center of our ground track. "
   ]
  },
  {
   "cell_type": "code",
   "execution_count": null,
   "id": "064ade06-e299-4cd5-9bf9-288249378965",
   "metadata": {},
   "outputs": [],
   "source": [
    "# the point of interest (center of the track) as an Earth Engine Geometry\n",
    "point_of_interest = ee.Geometry.Point(center_lon, center_lat)"
   ]
  },
  {
   "cell_type": "code",
   "execution_count": null,
   "id": "9b0af602-44a5-42e7-9ed3-639aac62385c",
   "metadata": {},
   "outputs": [],
   "source": [
    "collection = collection.filterBounds(point_of_interest)"
   ]
  },
  {
   "cell_type": "code",
   "execution_count": null,
   "id": "9904414e-a8d7-4253-921b-7623d6eebad4",
   "metadata": {},
   "outputs": [],
   "source": [
    "print('There are {number:d} images in the spatially filtered collection.'.format(number=collection.size().getInfo()))"
   ]
  },
  {
   "cell_type": "markdown",
   "id": "9c9ba0bd-0461-4d90-956a-4df61ee061a9",
   "metadata": {},
   "source": [
    "Much better! Now let's only look at images that were taken soon before or after ICESat-2 passed over this spot."
   ]
  },
  {
   "cell_type": "code",
   "execution_count": null,
   "id": "5956ab1e-acc3-4350-9ee0-920b3ee90c27",
   "metadata": {},
   "outputs": [],
   "source": [
    "days_buffer_imagery = 15"
   ]
  },
  {
   "cell_type": "code",
   "execution_count": null,
   "id": "9115991a-f70b-4d5a-95a7-3040edc280dc",
   "metadata": {},
   "outputs": [],
   "source": [
    "dateformat = '%Y-%m-%d'\n",
    "datetime_requested = datetime.strptime(mydata.date, dateformat)\n",
    "search_start = (datetime_requested - timedelta(days=days_buffer_imagery)).strftime(dateformat)\n",
    "search_end = (datetime_requested + timedelta(days=days_buffer_imagery)).strftime(dateformat)\n",
    "print('Search for imagery from {start:s} to {end:s}.'.format(start=search_start, end=search_end))"
   ]
  },
  {
   "cell_type": "code",
   "execution_count": null,
   "id": "9c939bf2-ddef-4b90-9eb2-448b40a26979",
   "metadata": {},
   "outputs": [],
   "source": [
    "collection = collection.filterDate(search_start, search_end)"
   ]
  },
  {
   "cell_type": "code",
   "execution_count": null,
   "id": "8dd46818-839a-41bc-b8c6-e4eaf39b51cb",
   "metadata": {},
   "outputs": [],
   "source": [
    "print('There are {number:d} images in the spatially filtered collection.'.format(number=collection.size().getInfo()))"
   ]
  },
  {
   "cell_type": "markdown",
   "id": "1b2d4ece-c487-4b5b-b343-c90ae6e7e00b",
   "metadata": {},
   "source": [
    "We can also sort the collection by date (`'system:time_start'`), to make things a little less messy moving forward."
   ]
  },
  {
   "cell_type": "code",
   "execution_count": null,
   "id": "0a777356-f1b4-437d-8513-7f2fe3697c78",
   "metadata": {},
   "outputs": [],
   "source": [
    "collection = collection.sort('system:time_start') "
   ]
  },
  {
   "cell_type": "markdown",
   "id": "b8da5c10-d4ee-4848-8348-7b0de28680ce",
   "metadata": {},
   "source": [
    "### Get image collection info\n",
    "Again, we need to use `.getInfo()` to actually see any information on our end. "
   ]
  },
  {
   "cell_type": "code",
   "execution_count": null,
   "id": "5e527cb2-09d1-4a4e-a2ef-0a6ce0ecb1a0",
   "metadata": {},
   "outputs": [],
   "source": [
    "info = collection.getInfo()"
   ]
  },
  {
   "cell_type": "markdown",
   "id": "787de986-beda-49b4-b8a6-271313c12660",
   "metadata": {},
   "source": [
    "This is a python dictionary. "
   ]
  },
  {
   "cell_type": "code",
   "execution_count": null,
   "id": "d25f657e-20e6-4b75-bd18-5b05b9241e78",
   "metadata": {},
   "outputs": [],
   "source": [
    "type(info)"
   ]
  },
  {
   "cell_type": "markdown",
   "id": "72c08c16-ab5e-4690-bf5e-0b713129311d",
   "metadata": {},
   "source": [
    "Let's see what's inside!"
   ]
  },
  {
   "cell_type": "code",
   "execution_count": null,
   "id": "98790908-57ee-4d0e-8af0-d21a4c669a47",
   "metadata": {},
   "outputs": [],
   "source": [
    "info.keys()"
   ]
  },
  {
   "cell_type": "markdown",
   "id": "56abe1ff-73f7-4563-a882-9e3cda5a1651",
   "metadata": {},
   "source": [
    "`'features'` sounds like it could hold information about the images we are trying to find..."
   ]
  },
  {
   "cell_type": "code",
   "execution_count": null,
   "id": "eb535bd7-381d-4141-96f3-aa27bfc70c14",
   "metadata": {},
   "outputs": [],
   "source": [
    "type(info['features'])"
   ]
  },
  {
   "cell_type": "code",
   "execution_count": null,
   "id": "230ab1e9-adfc-4185-9d10-4b0107604191",
   "metadata": {},
   "outputs": [],
   "source": [
    "len(info['features'])"
   ]
  },
  {
   "cell_type": "markdown",
   "id": "7769fc7d-c2cf-4b4b-b0df-d68e8fc4e6d1",
   "metadata": {},
   "source": [
    "A list of 10 things! Those are probably the 10 images in the collection. Let's pick the first one and dig deeper!"
   ]
  },
  {
   "cell_type": "code",
   "execution_count": null,
   "id": "1b964b1f-8b43-4cc9-9b06-308a6bdfbc50",
   "metadata": {},
   "outputs": [],
   "source": [
    "feature_number = 0\n",
    "info['features'][0].keys()"
   ]
  },
  {
   "cell_type": "code",
   "execution_count": null,
   "id": "965aefd7-925c-4d03-b429-5866177a48b3",
   "metadata": {},
   "outputs": [],
   "source": [
    "info['features'][feature_number]['id']"
   ]
  },
  {
   "cell_type": "markdown",
   "id": "09ef5770-049e-4a1c-953d-96867ef9827b",
   "metadata": {},
   "source": [
    "Looks like we found a reference to a Landsat image! Let's look at the `'bands'`."
   ]
  },
  {
   "cell_type": "code",
   "execution_count": null,
   "id": "416fead2-54e8-4000-af39-401507ffb2bb",
   "metadata": {},
   "outputs": [],
   "source": [
    "for band in info['features'][feature_number]['bands']:\n",
    "    print(band['id'], end=', ')"
   ]
  },
  {
   "cell_type": "markdown",
   "id": "fcd49faa-73d4-4e2b-a8d6-7b24e0eb0ed8",
   "metadata": {},
   "source": [
    "`'properties'` could be useful too! "
   ]
  },
  {
   "cell_type": "code",
   "execution_count": null,
   "id": "936a0f73-4d44-49ec-b7c6-74cd6347ef8a",
   "metadata": {},
   "outputs": [],
   "source": [
    "info['features'][0]['properties'].keys()"
   ]
  },
  {
   "cell_type": "markdown",
   "id": "dc1579b5-d655-4a66-b677-b3e6fc0c3348",
   "metadata": {},
   "source": [
    "That's a lot going on right there! But `'LANDSAT_PRODUCT_ID'` is probably useful. Let's go through all our features and print the product id."
   ]
  },
  {
   "cell_type": "code",
   "execution_count": null,
   "id": "573d7608-a4f4-4f42-b68a-e92396bd8274",
   "metadata": {},
   "outputs": [],
   "source": [
    "for feature in info['features']:\n",
    "    print(feature['properties']['LANDSAT_PRODUCT_ID'])"
   ]
  },
  {
   "cell_type": "markdown",
   "id": "eda8d314-5e71-443b-858d-7824cd85da03",
   "metadata": {},
   "source": [
    "### Access images by ID \n",
    "Turns out we can access images from the `'image collection'` by their `'id'`.  "
   ]
  },
  {
   "cell_type": "code",
   "execution_count": null,
   "id": "931e6cf5-637f-4f6f-9df2-3b9faf585627",
   "metadata": {},
   "outputs": [],
   "source": [
    "this_id = info['features'][feature_number]['id']\n",
    "print(this_id)\n",
    "myImage = ee.Image(this_id)\n",
    "myImage"
   ]
  },
  {
   "cell_type": "markdown",
   "id": "f7984f68-db42-45b8-95b2-c38d0ba13119",
   "metadata": {},
   "source": [
    "### Add a Landsat image to the map\n",
    "The visible bands in Landsat 8 are `'B2'`:blue, `'B3'`:green, `'B4'`:red.  \n",
    "So to show a \"true color\" RGB composite image on the map, we need to select these bands in the R-G-B order: "
   ]
  },
  {
   "cell_type": "code",
   "execution_count": null,
   "id": "ac7d9c1a-19df-4c19-9e76-e3a170e89fcc",
   "metadata": {},
   "outputs": [],
   "source": [
    "myImage_RGB = myImage.select('B4', 'B3', 'B2')\n",
    "Map.addLayer(myImage_RGB, name='my image')"
   ]
  },
  {
   "cell_type": "markdown",
   "id": "0bab4471-149c-4a9b-9874-a20ad061def2",
   "metadata": {},
   "source": [
    "This seems to have worked. But there's clouds everywhere. We can try another random image: "
   ]
  },
  {
   "cell_type": "code",
   "execution_count": null,
   "id": "30bc3872-87b3-46a9-8052-1178aec3fe32",
   "metadata": {},
   "outputs": [],
   "source": [
    "feature_number = 5\n",
    "myImage = ee.Image(info['features'][feature_number]['id'])\n",
    "myImage_RGB = myImage.select('B4', 'B3', 'B2')\n",
    "Map.addLayer(myImage_RGB, name='my other image')\n",
    "Map.addLayer(gtx_feature,{'color': 'red'},'ground track')"
   ]
  },
  {
   "cell_type": "markdown",
   "id": "923a4baf-3a29-4000-ba56-fdde4298fc8f",
   "metadata": {},
   "source": [
    "**More clouds...** "
   ]
  },
  {
   "cell_type": "markdown",
   "id": "91154e9a-5d14-416d-a386-0aa94194131d",
   "metadata": {},
   "source": [
    "### Add multiple images as layers\n",
    "We need a better approach to get anywhere here.  \n",
    "Let's start over with a new map, and add all the images we have as different layers. "
   ]
  },
  {
   "cell_type": "code",
   "execution_count": null,
   "id": "cb7626d0-f4a1-437e-93b9-f32df3b2292a",
   "metadata": {},
   "outputs": [],
   "source": [
    "Map = geemap.Map()\n",
    "Map.add_basemap('SATELLITE')\n",
    "\n",
    "for i, feature in enumerate(info['features']):\n",
    "    image_id = feature['id']\n",
    "    reference = '%02d: %s' % (i, image_id)\n",
    "    print(reference)\n",
    "    myImage_RGB = ee.Image(image_id).select('B4', 'B3', 'B2')\n",
    "    Map.addLayer(myImage_RGB, name=reference, shown=False)\n",
    "\n",
    "Map.addLayer(gtx_feature,{'color': 'red'},'ground track')\n",
    "Map.centerObject(gtx_feature, zoom=10)\n",
    "Map"
   ]
  },
  {
   "cell_type": "markdown",
   "id": "c7cab318-3a7e-419d-8133-62dafed0d1ba",
   "metadata": {},
   "source": [
    "**The fifth image looks good!** Let's go ahead and download that one.  \n",
    "From the print statements above we see that it's id is `LANDSAT/LC08/C01/T2/LC08_165110_20200114`"
   ]
  },
  {
   "cell_type": "markdown",
   "id": "7bae6e97-808e-4167-9667-6d2a4cb817ed",
   "metadata": {},
   "source": [
    "### Download images from Earth Engine\n",
    "\n",
    "We can use [`.getDownloadUrl()`](https://developers.google.com/earth-engine/apidocs/ee-image-getdownloadurl) on an Earth Engine image.  \n",
    "\n",
    "It needs a CRS (here we use [`'EPSG:3031'` (WGS 84 / Antarctic Polar Stereographic)](https://epsg.io/3031) because we know we are in Antarctica. It also asks for a scale, which is just the pixel size in meters (30 m for Landsat 8 visible bands). It also asks for the region we would like to export; here we use a [`.buffer`](https://developers.google.com/earth-engine/apidocs/ee-geometry-buffer) around the center.\n",
    "\n",
    "*(Note: This function can only be effectively used for small download jobs because there is a request size limit. Here, we only download a small region around the ground track, and convert the image to an 8-bit RGB composite to keep file size low. For larger jobs you should use [`Export.image.toDrive`](https://developers.google.com/earth-engine/apidocs/export-image-todrive))*"
   ]
  },
  {
   "cell_type": "code",
   "execution_count": null,
   "id": "6a2cefeb-9046-4e21-b6fe-5c92a483d6ad",
   "metadata": {},
   "outputs": [],
   "source": [
    "selected_image_id = 'LANDSAT/LC08/C01/T2/LC08_165110_20200114'\n",
    "rgb = ee.Image(selected_image_id).select('B4', 'B3', 'B2')\n",
    "\n",
    "buffer_around_center_meters = ground_track_length*0.7\n",
    "download_region = point_of_interest.buffer(buffer_around_center_meters)\n",
    "rgbmax = rgb.reduce(ee.Reducer.max()).reduceRegion(reducer=ee.Reducer.max(), geometry=download_region, bestEffort=True, maxPixels=1e6)\n",
    "rgbmin = rgb.reduce(ee.Reducer.min()).reduceRegion(reducer=ee.Reducer.min(), geometry=download_region, bestEffort=True, maxPixels=1e6)\n",
    "rgb = rgb.unitScale(ee.Number(rgbmin.get('min')), ee.Number(rgbmax.get('max'))).clamp(0.0, 1.0).multiply(255).uint8()\n",
    "\n",
    "rgb_info = rgb.getInfo()\n",
    "downloadURL = rgb.getDownloadUrl({'name': 'mySatelliteImage',\n",
    "                                  'crs': 'EPSG:3031',\n",
    "                                  'scale': rgb_info['bands'][0]['crs_transform'][0],\n",
    "                                  'region': download_region,\n",
    "                                  'filePerBand': False,\n",
    "                                  'format': 'GEO_TIFF'})\n",
    "\n",
    "downloadURL"
   ]
  },
  {
   "cell_type": "markdown",
   "id": "d7b13ec5-8485-4ba4-b133-b6591191ff48",
   "metadata": {},
   "source": [
    "We can save the content of the download URL with the [`requests`](https://docs.python-requests.org/en/latest/) library. "
   ]
  },
  {
   "cell_type": "code",
   "execution_count": null,
   "id": "d1b5aa88-42b2-47da-b8e1-2ad3cf1610c7",
   "metadata": {},
   "outputs": [],
   "source": [
    "response = requests.get(downloadURL)\n",
    "filename = 'my-satellite-image.tif'\n",
    "with open(filename, 'wb') as f:\n",
    "    f.write(response.content)"
   ]
  },
  {
   "cell_type": "markdown",
   "id": "4c68cc8f-2443-40ff-84a4-abffd388afd8",
   "metadata": {},
   "source": [
    "### Open a GeoTIFF in rasterio\n",
    "Now that we have saved the file, we can open it locally with the [`rasterio`](https://rasterio.readthedocs.io/en/latest/intro.html) library."
   ]
  },
  {
   "cell_type": "code",
   "execution_count": null,
   "id": "c8e9ad72-1d4b-4b65-9d81-5cf9d5ea988f",
   "metadata": {},
   "outputs": [],
   "source": [
    "myImage = rio.open(filename)\n",
    "myImage"
   ]
  },
  {
   "cell_type": "markdown",
   "id": "76a6fea7-889a-4929-ad9b-952c52132405",
   "metadata": {},
   "source": [
    "### Plot a GeoTIFF in Matplotlib\n",
    "Now we can easily plot the image in a matplotlib figure, just using the [`rasterio.plot()`](https://rasterio.readthedocs.io/en/latest/api/rasterio.plot.html) module. "
   ]
  },
  {
   "cell_type": "code",
   "execution_count": null,
   "id": "97060ec9-4ad9-41cd-a82f-7b27db2c6683",
   "metadata": {},
   "outputs": [],
   "source": [
    "fig, ax = plt.subplots(figsize=[6,6])\n",
    "plot.show(myImage, ax=ax)"
   ]
  },
  {
   "cell_type": "markdown",
   "id": "93053a50-33d5-4913-8861-ba3ae8c77041",
   "metadata": {},
   "source": [
    "### transform the ground track into the image CRS\n",
    "Because our plot is now in the Antarctic Polar Stereographic Coordrinate Reference System, we need to project the coordinates of the ground track from lon/lat values. The [`rasterio.warp.transform`](https://rasterio.readthedocs.io/en/latest/api/rasterio.warp.html) function has us covered. From then on, it's just plotting in Matplotlib. "
   ]
  },
  {
   "cell_type": "code",
   "execution_count": null,
   "id": "dc97e817-9d8d-49c1-a28f-25fba224a357",
   "metadata": {},
   "outputs": [],
   "source": [
    "gtx_x, gtx_y = warp.transform(src_crs='epsg:4326', dst_crs=myImage.crs, xs=mydata.atl08.lon, ys=mydata.atl08.lat)\n",
    "ax.plot(gtx_x, gtx_y, color='red', linestyle='-')\n",
    "ax.axis('off')\n",
    "fig"
   ]
  },
  {
   "cell_type": "markdown",
   "id": "525a1d29-e0de-4ae4-b9e6-03047f399101",
   "metadata": {},
   "source": [
    "## Putting it all together\n",
    "The code above is found more concisely in two more methods: \n",
    "- `dataCollector.makeGEEmap(days_buffer=25)`\n",
    "- `dataCollector.plotDataAndMap(scene_id, crs='EPSG:3857', title='ICESat-2 Data')`\n",
    "We can now do everything we did in this tutorial in a few lines!"
   ]
  },
  {
   "cell_type": "code",
   "execution_count": null,
   "id": "029369f3-f102-484a-be3e-317d9eb40a9d",
   "metadata": {},
   "outputs": [],
   "source": [
    "mydata.makeGEEmap()"
   ]
  },
  {
   "cell_type": "code",
   "execution_count": null,
   "id": "3fc93fe7-6ebc-49d9-9798-619ac88e8bb7",
   "metadata": {},
   "outputs": [],
   "source": [
    "myProductId = 'LANDSAT/LC08/C01/T2/LC08_165110_20200114' # <-- copy-pasted from above, after looking at the layers in the map\n",
    "figure = mydata.plotDataAndMap(myProductId)"
   ]
  },
  {
   "cell_type": "markdown",
   "id": "07d0ba00-9f6a-4e43-9503-68c7e39f2717",
   "metadata": {},
   "source": [
    "## Exercise 2\n",
    "**Plot your data from before with a suitable satellite image.**\n",
    "\n",
    "Use the OpenAltimetry API URL that you already pasted in Exercise 1 for this. Edit the code below and paste it here again."
   ]
  },
  {
   "cell_type": "code",
   "execution_count": null,
   "id": "d9a69575-d44f-4768-a426-12343aa013de",
   "metadata": {},
   "outputs": [],
   "source": [
    "##### YOUR CODE GOES HERE\n",
    "# url = 'http://???.org/??'\n",
    "# gtx = 'gt??'\n",
    "# yourData = dataCollector(oaurl=url, beam=gtx)\n",
    "# yourData.makeGEEmap()"
   ]
  },
  {
   "cell_type": "code",
   "execution_count": null,
   "id": "cbe14667-a7ae-4f63-82f8-47189a815f09",
   "metadata": {},
   "outputs": [],
   "source": [
    "##### MORE OF YOUR CODE GOES HERE\n",
    "# scene_id='<paste the scene id corresponding to whichever image from the GEE map you would like to use>'\n",
    "# fig = yourData.plotDataAndMap(scene_id, title='<your figure title goes here>')\n",
    "# fig.savefig('geemap_tutorial_exercise2.jpg', dpi=300) "
   ]
  },
  {
   "cell_type": "markdown",
   "id": "surrounded-amateur",
   "metadata": {},
   "source": [
    "## Summary\n",
    "\n",
    " 🎉 Congratulations! You've completed this tutorial and have seen how we can put ICESat-2 photon-level data into context using Google Earth Engine and the OpenAltimetry API. \n",
    " \n",
    "You can explore a few more use cases for this code (and possible solutions for Exercise 2) in [this notebook](Visualization_geemap_use_examples.ipynb)."
   ]
  },
  {
   "cell_type": "markdown",
   "id": "749f5c79-19d7-48ac-9421-852c3c83cc5f",
   "metadata": {},
   "source": [
    "## References\n",
    "\n",
    "To further explore the topics of this tutorial see the following detailed documentation:\n",
    "\n",
    "* [The OpenAltimetry API](https://openaltimetry.org/data/swagger-ui/)\n",
    "* [Google Earth Engine JavaScript and Python Guides](https://developers.google.com/earth-engine/guides)\n",
    "* [The geemap package](https://geemap.org/) and [tutorials](https://geemap.org/tutorials/)"
   ]
  }
 ],
 "metadata": {
  "kernelspec": {
   "display_name": "Python 3 (ipykernel)",
   "language": "python",
   "name": "python3"
  },
  "language_info": {
   "codemirror_mode": {
    "name": "ipython",
    "version": 3
   },
   "file_extension": ".py",
   "mimetype": "text/x-python",
   "name": "python",
   "nbconvert_exporter": "python",
   "pygments_lexer": "ipython3",
   "version": "3.9.10"
  }
 },
 "nbformat": 4,
 "nbformat_minor": 5
}
