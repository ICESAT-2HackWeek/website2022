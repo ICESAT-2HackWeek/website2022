{
 "cells": [
  {
   "cell_type": "markdown",
   "id": "7354388a-0758-432b-ad9c-d56a208671e9",
   "metadata": {},
   "source": [
    "<img src='./img/nsidc_logo.png'/>\n",
    "\n",
    "# Data Discovery and Access via **earthdata** library\n",
    "\n",
    "\n",
    "### Credits\n",
    "* Notebook by: Luis Lopez and Mikala Beig\n",
    "* Source material: [earthdata demo notebook](https://github.com/nsidc/earthdata) by Luis Lopez\n",
    "\n",
    "## Objective\n",
    "\n",
    "* Use programmatic data access to discover and access NASA DAAC data using the **earthdata** library .\n",
    "\n",
    "---\n",
    "\n",
    "## Motivation and Background\n",
    "**earthdata**  uses NASA APIs to search, preview and access NASA datasets on-prem and in the cloud (with 4 lines of Python!).\n",
    "\n",
    "There are many ways to access NASA datasets. We can use the Earthdata Search portal. We can use DAAC specific portals or tools.\n",
    "We could even use data.gov! These web portals are great but... they are not designed for programmatic access and reproducible workflows. \n",
    "This is extremely important in the age of the cloud and reproducible open science.\n",
    "\n",
    "The good news is that NASA also exposes APIs that allows us to search, transform and access data in a programmatic way. \n",
    "There are already some very useful client libraries for these APIs:\n",
    "\n",
    "* python-cmr\n",
    "* eo-metadata-tools\n",
    "* harmony-py\n",
    "* Hyrax (OpenDAP)\n",
    "* cmr-stac\n",
    "* others\n",
    "\n",
    "Each of these libraries has amazing features and some similarities. \n",
    "* [cmr-stac](https://medium.com/pangeo/intake-stac-nasa-4cd78d6246b7) is probably the best option for a streamlined workflow from dataset search and discovery to efficiently loading data using python libraries like pandas or xarray.\n",
    "* [*Harmony-py*](https://harmony.earthdata.nasa.gov/) is the more capable client if we want to pre process the data beforehand(reformat NetCDF to Zarr, reproject, subset). Unfortunately not all datasets are yet covered by Harmony.\n",
    "\n",
    "In this context, **earthdata** aims to be a simple library that can deal with the important parts of the metadata so we can access or download data without having to worry if a given dataset is on-prem or in the cloud.\n",
    "\n",
    "\n",
    "### Key Steps for Programmatic Data Access\n",
    "\n",
    "There are a few key steps for accessing data from the NASA DAAC APIs:\n",
    "1. Authenticate with NASA Earthdata Login (and for cloud-hosted data with AWS access keys and token).\n",
    "2. Query CMR to find data using spatial and temporal filters.\n",
    "3. Order and download your data\n",
    "\n",
    "\n",
    "We'll go through each of these steps during this tutorial, at the end summarizing how `earthdata` streamlines this process into a minimal number of lines of code.\n",
    "\n",
    "___\n",
    "___\n"
   ]
  },
  {
   "cell_type": "markdown",
   "id": "befc4e32",
   "metadata": {},
   "source": [
    "### **Step 0. Import classes**"
   ]
  },
  {
   "cell_type": "code",
   "execution_count": 1,
   "id": "7b6cd246",
   "metadata": {},
   "outputs": [],
   "source": [
    "# Import classes from earthdata\n",
    "\n",
    "from earthdata import Auth, DataCollections, DataGranules, Accessor"
   ]
  },
  {
   "cell_type": "markdown",
   "id": "19793657",
   "metadata": {
    "tags": []
   },
   "source": [
    "### **Step 1. Earthdata login**\n",
    "\n",
    "To access data using the <library name> library it is necessary to log into [Earthdata Login](https://urs.earthdata.nasa.gov/). To do this, enter your NASA Earthdata credentials in the next step after executing the following code cell.\n",
    "\n",
    "**Note**: If you don't have NASA Earthdata credentials you have to register first at the link above. You don't need to be a NASA employee to register with NASA Earthdata!  Note that if you did not enter your Earthdata Login username and email into the form in the pre-Hackweek email, you will not be on the ICESat-2 cloud data early access list and you will not have access to ICESat-2 data in the cloud.  You will still have access to all publicly available data sets.\n",
    "\n"
   ]
  },
  {
   "cell_type": "code",
   "execution_count": 2,
   "id": "325f7acf",
   "metadata": {},
   "outputs": [
    {
     "name": "stdin",
     "output_type": "stream",
     "text": [
      "Enter your Earthdata Login username:  mbeig\n",
      "Enter your Earthdata password:  ···············\n"
     ]
    },
    {
     "name": "stdout",
     "output_type": "stream",
     "text": [
      "You're now authenticated with NASA Earthdata Login\n"
     ]
    },
    {
     "data": {
      "text/plain": [
       "True"
      ]
     },
     "execution_count": 2,
     "metadata": {},
     "output_type": "execute_result"
    }
   ],
   "source": [
    "# Some explanation here about this step...  we instantiate an authentication object with...  <not sure of language here.>\n",
    "auth = Auth()\n",
    "auth.login()"
   ]
  },
  {
   "cell_type": "markdown",
   "id": "af4712ea",
   "metadata": {},
   "source": [
    "### **Step 2 Query the Common Metadata Repository (CMR)**\n",
    "\n",
    "### Query CMR for Data Collections\n",
    "\n",
    "\n",
    "You can narrow your search in CMR by filtering on keyword, temporal range, area of interest, and data provider (among other things), e.g.:\n",
    "- temporal(\"2016-01-01\", \"2020-12-12\")\n",
    "- keyword('fire')\n",
    "- bounding_box(-134.7,58.9,-133.9,59.2)\n",
    "- provider(\"NSIDC_ECS\")\n"
   ]
  },
  {
   "cell_type": "markdown",
   "id": "16d02a99",
   "metadata": {},
   "source": [
    "Example:  Set up a Query object that will return all NSIDC cloud hosted collections (NSIDC_CPRD = cloud hosted, NSIDC_ECS = on prem).  **Important Note** Because the NSIDC cloud data are behind restricted access, you need to pass the \"auth\" instance even when only querying CMR"
   ]
  },
  {
   "cell_type": "code",
   "execution_count": null,
   "id": "68e8eafb",
   "metadata": {},
   "outputs": [],
   "source": [
    "Query = DataCollections(auth).provider(\"NSIDC_CPRD\")"
   ]
  },
  {
   "cell_type": "markdown",
   "id": "6d7c89cd",
   "metadata": {},
   "source": [
    "Find out how many Query hits were returned using the 'hits' methods."
   ]
  },
  {
   "cell_type": "code",
   "execution_count": null,
   "id": "f45a54a0",
   "metadata": {},
   "outputs": [],
   "source": [
    "print(f'Collections found: {Query.hits()}') "
   ]
  },
  {
   "cell_type": "markdown",
   "id": "8628b76b",
   "metadata": {},
   "source": [
    "Oh no!  What!?  Zero hits? :(   \n",
    "\n",
    "The 'hits' method above will print out the number of query hits, but only for publicly available data sets.  \n",
    "Because cloud hosted ICESat-2 data are not yet publicly available, CMR will return \"0\" hits, if you filtered DataCollections by provider = NSIDC_CPRD.\n",
    "For now we need an alternative method of seeing how many cloud data sets are available at NSIDC.  We can create a collections object (we're going to want one of \n",
    "these soon anyhow) and print the len() of the collections object to see the true number of hits \n",
    "\n",
    "Create a collections object"
   ]
  },
  {
   "cell_type": "code",
   "execution_count": null,
   "id": "bf397b0a",
   "metadata": {},
   "outputs": [],
   "source": [
    "collections = Query.get()\n",
    "\n",
    "# Print the length of the object to determine the number of hits.\n",
    "\n",
    "print(len(collections))"
   ]
  },
  {
   "cell_type": "markdown",
   "id": "32e799fe",
   "metadata": {},
   "source": [
    "Identify the data sets returned in your query.  You can extract information from CMR about the data sets by using the 'fields' method.  You can filter out which UMM fields to print,  e.g. ShortName or Abstract, or you can grab all of the UMM fields using \"*\""
   ]
  },
  {
   "cell_type": "code",
   "execution_count": null,
   "id": "f4f6ee53",
   "metadata": {},
   "outputs": [],
   "source": [
    "collections = Query.fields(['ShortName','Abstract']).get()\n",
    "# Inspect 5 results printing just the ShortName and Abstract\n",
    "print(collections[0:5])"
   ]
  },
  {
   "cell_type": "markdown",
   "id": "defc69ee",
   "metadata": {},
   "source": [
    "Typically we'd like to narrow down our search by more than just 'provider'.  Examples below employ more methods to filter data."
   ]
  },
  {
   "cell_type": "code",
   "execution_count": null,
   "id": "4b3ceda6",
   "metadata": {},
   "outputs": [],
   "source": [
    "# Query = DataCollections(auth).keyword('fire').temporal(\"2016-01-01\", \"2020-12-12\")\n",
    "#Query = DataCollections(auth).keyword('GEDI').bounding_box(-134.7,58.9,-133.9,59.2)\n",
    "#Query = DataCollections(auth).keyword('elevation').bounding_box(-134.7,58.9,-133.9,59.2).provider(\"NSIDC_ECS\")\n",
    "Query = DataCollections(auth).keyword('ice').bounding_box(-134.7,58.9,-133.9,59.2).provider(\"NSIDC_ECS\")\n",
    "\n",
    "print(f'Collections found: {Query.hits()}')\n",
    "\n",
    "collections = Query.fields(['ShortName']).get()\n",
    "# Inspect 5 results printing just the ShortName and Abstract\n",
    "print(collections[0:5])"
   ]
  },
  {
   "cell_type": "markdown",
   "id": "38db791f",
   "metadata": {},
   "source": [
    "The results from DataCollections (and DataGranules) are enhanced python dict objects.  We can select what metadata fields from CMR to display this way as well."
   ]
  },
  {
   "cell_type": "code",
   "execution_count": null,
   "id": "13e2d14b",
   "metadata": {},
   "outputs": [],
   "source": [
    "collections[0][\"umm.ShortName\"]\n",
    "#collections[0][\"meta.concept-id\"]\n",
    "#collections[0][\"umm.RelatedUrls\"]"
   ]
  },
  {
   "cell_type": "markdown",
   "id": "b0b9a79b",
   "metadata": {},
   "source": [
    "The DataCollections class returns python dictionaries with some handy methods.\n",
    "\n",
    "```python \n",
    "collection.concept_id() # returns the concept-id, used to search for data granules\n",
    "collection.abstract() # returns the abstract\n",
    "collection.landing_page() # returns the landing page if present in the UMM fields\n",
    "collection.get_data() # returns the portal where data can be accessed.\n",
    "```\n",
    "\n",
    "The same results can be obtained using the `dict` syntax:\n",
    "\n",
    "```python\n",
    "collection[\"meta\"][\"concept-id\"] # concept-id\n",
    "collection[\"umm\"][\"RelatedUrls\"] # URLs, with GET DATA, LANDING PAGE etc\n",
    "```\n"
   ]
  },
  {
   "cell_type": "code",
   "execution_count": null,
   "id": "c84c1c16",
   "metadata": {},
   "outputs": [],
   "source": [
    "collections[0][\"meta\"][\"concept-id\"]"
   ]
  },
  {
   "cell_type": "code",
   "execution_count": null,
   "id": "1037bffa",
   "metadata": {},
   "outputs": [],
   "source": [
    "collections[0].concept_id()"
   ]
  },
  {
   "cell_type": "code",
   "execution_count": null,
   "id": "827d1a1d",
   "metadata": {},
   "outputs": [],
   "source": [
    "#  earthdata allows discovery and access to data at any DAAC, and to data on prem or in the cloud.   \n",
    "\n",
    "# Query = DataCollections(auth).provider('POCLOUD')\n",
    "Query = DataCollections().provider(\"POCLOUD\")\n",
    "\n",
    "print(f'Collections found: {Query.hits()}')\n",
    "collections = Query.fields(['ShortName']).get(20)\n",
    "# Printing 3 collection\n",
    "collections[0:3]"
   ]
  },
  {
   "cell_type": "code",
   "execution_count": null,
   "id": "df349d2b",
   "metadata": {},
   "outputs": [],
   "source": [
    "# Printing the concept-id for the first 10 collections\n",
    "concept_ids = [collection.concept_id() for collection in collections[0:10]]"
   ]
  },
  {
   "cell_type": "code",
   "execution_count": null,
   "id": "aa766694",
   "metadata": {},
   "outputs": [],
   "source": [
    "print(concept_ids)"
   ]
  },
  {
   "cell_type": "markdown",
   "id": "1f01964b",
   "metadata": {},
   "source": [
    "### Query CMR for Data Granules\n",
    "\n",
    "The DataGranules class provides similar functionality as the collection class. Concept IDs are unique identifiers for data sets (collections). To query for granules from the exact data set and version in which you are interested, query granules using concept-id.\n",
    "You can search data granules using a short name but that could (more likely will) return different versions of the same data granules. Even when specifying both short name and version number, a query won't distinguish between on prem or cloud hosted granules.\n",
    "\n",
    "In this example we're querying for 20 data granules from ICESat-2  [ATL03](https://nsidc.org/data/ATL03/versions/) version `005` dataset. "
   ]
  },
  {
   "cell_type": "code",
   "execution_count": null,
   "id": "de4a5bb0",
   "metadata": {},
   "outputs": [],
   "source": [
    "# Generally speaking we won't need the auth instance for queries to collections and granules\n",
    "# Query = DataGranules().short_name('ATL03').version(\"003\").bounding_box(-134.7,58.9,-133.9,59.2)\n",
    "\n",
    "Query = DataGranules(auth).short_name('ATL03').version(\"005\").bounding_box(-134.7,58.9,-133.9,59.2)\n",
    "granules = Query.get(20)\n",
    "print(granules[0:10])\n"
   ]
  },
  {
   "cell_type": "code",
   "execution_count": null,
   "id": "f70ddaf3",
   "metadata": {},
   "outputs": [],
   "source": [
    "In this query we use the concept-id for cloud-hosted ATL03 v005 granules."
   ]
  },
  {
   "cell_type": "code",
   "execution_count": null,
   "id": "57fd7c69",
   "metadata": {},
   "outputs": [],
   "source": [
    "Query = DataGranules(auth).concept_id('C2153572325-NSIDC_CPRD')\n",
    "granules = Query.get(10)\n",
    "print(Query.hits())\n",
    "print(len(granules))"
   ]
  },
  {
   "cell_type": "markdown",
   "id": "323f632e",
   "metadata": {},
   "source": [
    "## Pretty printing data granules\n",
    "\n",
    "Since we are in a notebook we can take advantage of it to see a more user friendly version of the granules with the built-in function `display`\n",
    "This will render browse image for the granule if available and eventually will have a similar representation as the one from the Earthdata search portal"
   ]
  },
  {
   "cell_type": "code",
   "execution_count": null,
   "id": "01b71376",
   "metadata": {},
   "outputs": [],
   "source": [
    "# printing 2 granules using display\n",
    "[display(granule) for granule in granules[0:2]]"
   ]
  },
  {
   "cell_type": "markdown",
   "id": "2098cf78",
   "metadata": {},
   "source": [
    "### Spatiotemporal queries\n",
    "\n",
    "As mentioned above, granules and collection classes accept the same spatial and temporal arguments as CMR so we can search for granules that match spatiotemporal criteria.  Below are some additional examples of applying these methods.\n",
    "\n"
   ]
  },
  {
   "cell_type": "code",
   "execution_count": null,
   "id": "61f8ca9b",
   "metadata": {},
   "outputs": [],
   "source": [
    "Query = DataGranules().short_name(\"ATL03\").temporal(\"2020-03-01\", \"2020-03-30\").bounding_box(-134.7,58.9,-133.9,59.2).version(\"005\")\n",
    "# Always inspects the hits before retrieving the granule metadata, just because it's very verbose.\n",
    "print(f\"Granules found: {Query.hits()}\")"
   ]
  },
  {
   "cell_type": "code",
   "execution_count": null,
   "id": "e07a3e27",
   "metadata": {},
   "outputs": [],
   "source": [
    "#bounding box over Alaska/Canada border for ATL06?\n",
    "Query = DataGranules(auth).concept_id(\"C2153572325-NSIDC_CPRD\").temporal(\"2020-03-01\", \"2020-03-30\").bounding_box(-134.7,58.9,-133.9,59.2)\n",
    "#bounding box over north Greenland/Arctic Ocean for ATL10 v005 \n",
    "#Query = DataGranules(auth).concept_id(\"C2162009387-NSIDC_ECS\").temporal(\"2020-03-01\", \"2020-03-30\").bounding_box(-113.9,81.6,-49.2,86.7)\n",
    "# Always inspects the hits before retrieving the granule metadata, just because it's very verbose.\n",
    "print(f\"Granules found: {Query.hits()}\")\n",
    "granules = Query.get(10)\n",
    "print(len(granules))"
   ]
  },
  {
   "cell_type": "code",
   "execution_count": null,
   "id": "f712e869",
   "metadata": {},
   "outputs": [],
   "source": [
    "# Now we can print some info about these granules using the built-in methods\n",
    "granules = Query.get(4)\n",
    "data_links = [{'links': g.data_links(), 'size (MB):': g.size()} for g in granules]\n",
    "data_links"
   ]
  },
  {
   "cell_type": "code",
   "execution_count": null,
   "id": "92904d81",
   "metadata": {},
   "outputs": [],
   "source": [
    "# More datasets to try\n",
    "\n",
    "# C1908348134-LPDAAC_ECS: GEDI L2A Elevation and Height Metrics Data Global Footprint Level V002\n",
    "# C1968980609-POCLOUD: Sentinel-6A MF Jason-CS L2 P4 Altimeter Low Resolution (LR) STC Ocean Surface Topography\n",
    "# C1575731655-LPDAAC_ECS: ASTER Global Digital Elevation Model NetCDF V003\n",
    "# Query = DataGranules(auth).short_name('ATL03').version(\"003\")\n",
    "Query = DataGranules().short_name('ATL03').version(\"004\").bounding_box(-134.7,58.9,-133.9,59.2)\n",
    "# Query = DataGranules().concept_id(\"C1575731655-LPDAAC_ECS\").bounding_box(-134.7,58.9,-133.9,59.2)\n",
    "print(f\"Granules found: {Query.hits()}\")"
   ]
  },
  {
   "cell_type": "code",
   "execution_count": null,
   "id": "62eb4abb",
   "metadata": {},
   "outputs": [],
   "source": [
    "# Not all granules have data previews, if they do, the granule class will show up to 2 preview images while using Jupyter's display() function\n",
    "granules = Query.get(10)\n",
    "[display(g) for g in granules[0:5]]"
   ]
  },
  {
   "cell_type": "code",
   "execution_count": null,
   "id": "1d2805b5",
   "metadata": {},
   "outputs": [],
   "source": [
    "# Granules are python dictionaries, with fancy nested key/value notation and some extra built-in methods.\n",
    "granules[0][\"umm.TemporalExtent.RangeDateTime\"]"
   ]
  },
  {
   "cell_type": "code",
   "execution_count": null,
   "id": "8cdbffa9",
   "metadata": {},
   "outputs": [],
   "source": [
    "# Size in MB\n",
    "data_links = [{'links': g.data_links(), 'size (MB):': g.size()} for g in granules]\n",
    "data_links"
   ]
  },
  {
   "cell_type": "markdown",
   "id": "429f1f69",
   "metadata": {},
   "source": [
    "## **Step 3. Accessing the data**\n",
    "\n",
    "The cloud is not something magical, but having infrastructure on-demand is quite handy to have for many scientific workflows, especially if the data already lives in \"the cloud\".\n",
    "As for NASA, data migration started in 2020 and will continue into the foreseeable future. Not all, but most of NASA data will be available in AWS object simple storage service or S3.\n",
    "\n",
    "To work with this data the first thing we need to do is to get the proper credentials for accessing data in their S3 buckets. These credentials are on a per-DAAC base and last a mere 1 hour. In the near future the Auth class will keep track of this to regenerate the credentials as needed.\n",
    "\n",
    "With `earthdata` a researcher can get the files regardless if they are on-prem or cloud based with the same API call, although an important consideration is that if we want to access data in the cloud we must run the code in the cloud. This is because some S3 buckets are configured to only allow direct access (s3:// links) if the requester is in the same zone, `us-west-2`.\n",
    "\n",
    "## On-prem access  📡\n",
    "\n",
    "DAAC hosted data"
   ]
  },
  {
   "cell_type": "code",
   "execution_count": null,
   "id": "3aae2335",
   "metadata": {},
   "outputs": [],
   "source": [
    "# If we want to start the notebook from here we need to execute this cell and uncomment the lines below\n",
    "# Accessing not necessarily means downloading, specially in the cloud.\n",
    "from earthdata import Auth, DataGranules, DataCollections, Accessor\n",
    "auth = Auth()\n",
    "auth.login()\n",
    "access = Accessor(auth)"
   ]
  },
  {
   "cell_type": "code",
   "execution_count": null,
   "id": "85e3ed41",
   "metadata": {},
   "outputs": [],
   "source": [
    "#bounding box is over big chunk of western Canada\n",
    "Query = DataGranules().concept_id(\"C1997321091-NSIDC_ECS\").bounding_box(-134.7,54.9,-100.9,69.2)\n",
    "print(f\"Granule hits: {Query.hits()}\")\n",
    "# getting more than 6,000 metadata records for demo purposes is going to slow us down a bit so let's get only 100\n",
    "granules = Query.get(100)"
   ]
  },
  {
   "cell_type": "code",
   "execution_count": null,
   "id": "aaa4c4ce",
   "metadata": {},
   "outputs": [],
   "source": [
    "# don't need to use 'display' here for granules, because it will automatically use d\n",
    "\n",
    "granules[0]"
   ]
  },
  {
   "cell_type": "code",
   "execution_count": null,
   "id": "9a1dc689",
   "metadata": {},
   "outputs": [],
   "source": [
    "%%time\n",
    "# accessing the data on prem means downloading it if we are in a local environment or \"uploading them\" if we are in the cloud.\n",
    "files = access.get(granules_by_size[4:5], \"./data/demo-atl03\")"
   ]
  },
  {
   "cell_type": "code",
   "execution_count": null,
   "id": "dd0e362d",
   "metadata": {},
   "outputs": [],
   "source": [
    "import xarray as xr\n",
    "\n",
    "ds = xr.open_mfdataset('./data/demo-atl03/ATL03_20181021222823_03560103_004_01.h5')\n",
    "\n",
    "ds"
   ]
  },
  {
   "cell_type": "markdown",
   "id": "0186602f",
   "metadata": {},
   "source": [
    "## Cloud access ☁️\n",
    "\n",
    "Same API, just a different place"
   ]
  },
  {
   "cell_type": "code",
   "execution_count": null,
   "id": "440a3cae",
   "metadata": {},
   "outputs": [],
   "source": [
    "Query = DataGranules().concept_id(\"C1968980609-POCLOUD\").bounding_box(-134.7,54.9,-100.9,69.2)\n",
    "print(f\"Granule hits: {Query.hits()}\")\n",
    "cloud_granules = Query.get(100)\n",
    "# is this a cloud hosted data granule?\n",
    "cloud_granules[0].cloud_hosted"
   ]
  },
  {
   "cell_type": "code",
   "execution_count": null,
   "id": "5d98e323",
   "metadata": {},
   "outputs": [],
   "source": []
  },
  {
   "cell_type": "markdown",
   "id": "77784e4c",
   "metadata": {},
   "source": [
    "### **Handy methods that work on DataGranules**"
   ]
  },
  {
   "cell_type": "code",
   "execution_count": null,
   "id": "ad33e23f",
   "metadata": {},
   "outputs": [],
   "source": [
    "# Does this granule belong to a cloud-based collection?\n",
    "granules[0].cloud_hosted"
   ]
  },
  {
   "cell_type": "code",
   "execution_count": null,
   "id": "ccd6cd97",
   "metadata": {},
   "outputs": [],
   "source": [
    "# since the response is an array of dictionaries we can do pythonic things like ordering the granules by size\n",
    "import operator\n",
    "granules_by_size = sorted(granules, key=operator.itemgetter(\"size\"))\n",
    "# now our array is sorted by size from less to more. Let's print the first 10\n",
    "granules_by_size[0:5]"
   ]
  },
  {
   "cell_type": "code",
   "execution_count": null,
   "id": "0050ef4b",
   "metadata": {},
   "outputs": [],
   "source": []
  }
 ],
 "metadata": {
  "kernelspec": {
   "display_name": "Python 3 (ipykernel)",
   "language": "python",
   "name": "python3"
  },
  "language_info": {
   "codemirror_mode": {
    "name": "ipython",
    "version": 3
   },
   "file_extension": ".py",
   "mimetype": "text/x-python",
   "name": "python",
   "nbconvert_exporter": "python",
   "pygments_lexer": "ipython3",
   "version": "3.8.12"
  }
 },
 "nbformat": 4,
 "nbformat_minor": 5
}
