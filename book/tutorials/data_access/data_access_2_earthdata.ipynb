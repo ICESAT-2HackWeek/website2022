{
 "cells": [
  {
   "cell_type": "markdown",
   "id": "e011c231-feff-4a53-a080-7b3193ecb20d",
   "metadata": {},
   "source": [
    "<img src='./img/nsidc_logo.png'/>\n",
    "\n",
    "# Data Discovery and Access via **earthdata** library\n",
    "\n",
    "\n",
    "### Credits\n",
    "* Notebook by: Luis Lopez and Mikala Beig\n",
    "* Source material: [earthdata demo notebook](https://github.com/nsidc/earthdata) by Luis Lopez\n",
    "\n",
    "## Objective\n",
    "\n",
    "* Use programmatic data access to discover and access NASA DAAC data using the **earthdata** library .\n",
    "\n",
    "---\n",
    "\n",
    "## Motivation and Background\n",
    "TL;DR **earthdata**  uses NASA APIs to search, preview and access NASA datasets on-prem and in the cloud (with 4 lines of Python!).\n",
    "___\n",
    "\n",
    "There are many ways to access NASA datasets, we can use the Earthdata search portal. We can use DAAC specific portals or tools.\n",
    "We can use Open Altimetry. These web portals are powerful but... they are not designed for programmatic access and reproducible workflows. \n",
    "This is extremely important in the age of the cloud and reproducible open science.\n",
    "\n",
    "The good news is that NASA also exposes APIs that allows us to search, transform and access data in a programmatic way. \n",
    "There are already some very useful client libraries for these APIs:\n",
    "\n",
    "* icepyx\n",
    "* python-cmr\n",
    "* eo-metadata-tools\n",
    "* harmony-py\n",
    "* Hyrax (OpenDAP)\n",
    "* cmr-stac\n",
    "* others\n",
    "\n",
    "Each of these libraries has amazing features and some similarities. \n",
    "\n",
    "In this context, **earthdata** aims to be a simple library that can deal with the important parts of the metadata so we can access or download data without having to worry if a given dataset is on-prem or in the cloud.  earthdata is a work in progress and improving often.  You are encouraged to contribute to this opensource library. \n",
    "\n",
    "Some important strengths of earthdata library:\n",
    "* Discovery and access to on prem and cloud-hosted data\n",
    "* Access to data across all of NASA DAACs.\n",
    "* Easy handling of S3 credentials for direct access to cloud-hosted data.\n",
    "\n",
    "### Key Steps for Programmatic Data Access\n",
    "\n",
    "There are a few key steps for accessing data from the NASA DAAC APIs:\n",
    "1. Authenticate with NASA Earthdata Login (and for cloud-hosted data with AWS access keys and token).\n",
    "2. Query CMR to find data using filters, such as spatial extent and temporal range.\n",
    "3. Order and download your data by interacting with DAAC APIs.\n",
    "\n",
    "\n",
    "We'll go through each of these steps during this tutorial, at the end summarizing how `earthdata` streamlines this process into a minimal number of lines of code.\n",
    "\n",
    "___\n",
    "___\n"
   ]
  },
  {
   "cell_type": "markdown",
   "id": "bd22bd49-0d9b-4dd4-a8ec-5b451ce76ea7",
   "metadata": {},
   "source": [
    "### **Step 0. Import classes**"
   ]
  },
  {
   "cell_type": "code",
   "execution_count": null,
   "id": "c4524c77-8686-4bcc-bc4c-d38e1635707d",
   "metadata": {},
   "outputs": [],
   "source": [
    "# Import classes from earthdata\n",
    "\n",
    "from earthdata import Auth, DataCollections, DataGranules, Store"
   ]
  },
  {
   "cell_type": "markdown",
   "id": "5d79668b-18f5-4d5a-b458-a16694238de1",
   "metadata": {
    "tags": []
   },
   "source": [
    "### **Step 1. Earthdata login**\n",
    "\n",
    "To access data using the <library name> library it is necessary to log into [Earthdata Login](https://urs.earthdata.nasa.gov/). To do this, enter your NASA Earthdata credentials in the next step after executing the following code cell.\n",
    "\n",
    "**Note**: If you don't have NASA Earthdata credentials you have to register first at the link above. You don't need to be a NASA employee to register with NASA Earthdata!  Note that if you did not enter your Earthdata Login username and email into the form in the pre-Hackweek email, you will not be on the ICESat-2 cloud data early access list and you will not have access to ICESat-2 data in the cloud.  You will still have access to all publicly available data sets.\n"
   ]
  },
  {
   "cell_type": "code",
   "execution_count": null,
   "id": "8bc9b103-29f6-460b-aeb2-b6467bed0c36",
   "metadata": {},
   "outputs": [],
   "source": [
    "#Entering our Earthdata Login credentials.  \n",
    "\n",
    "auth = Auth()\n",
    "\n",
    "try: \n",
    "    auth.login(strategy='netrc')\n",
    "except:\n",
    "    auth.login(strategy='interactive')\n",
    "    \n",
    "auth.login()"
   ]
  },
  {
   "cell_type": "markdown",
   "id": "f0228b4b-7a5b-4501-acd6-da99cefc363a",
   "metadata": {
    "tags": []
   },
   "source": [
    "### **Step 2. Query the Common Metadata Repository (CMR)**\n",
    "\n",
    "### Query CMR for Data Collections\n",
    "\n",
    "The DataCollection class can query CMR for any collection (collection = data set) using all of CMR's Query parameters and has built-in accessors for the common ones.\n",
    "This makes it ideal for one liners and easier notation.\n",
    "\n",
    "This means we can narrow our search in CMR by filtering on keyword, temporal range, area of interest, and data provider, e.g.:\n",
    "- temporal(\"2016-01-01\", \"2020-12-12\")\n",
    "- keyword('fire')\n",
    "- bounding_box(-134.7,58.9,-133.9,59.2)\n",
    "- provider(\"NSIDC_ECS\")\n"
   ]
  },
  {
   "cell_type": "markdown",
   "id": "3c89803e-0a70-4257-a837-984fd7c01492",
   "metadata": {},
   "source": [
    "We're going to go through a couple of examples of querying CMR and accessing data - the first for accessing on prem data and the second for accessing cloud-hosted data.\n",
    "\n",
    "The first thing we'll do is set up our query object."
   ]
  },
  {
   "cell_type": "code",
   "execution_count": null,
   "id": "3e369141-1cca-48a1-891f-9b198abc130b",
   "metadata": {
    "tags": []
   },
   "outputs": [],
   "source": [
    "Query = DataCollections().keyword('land ice').bounding_box(-134.7,58.9,-133.9,59.2).provider(\"NSIDC_ECS\")\n",
    "\n",
    "print(f'Collections found: {Query.hits()}')"
   ]
  },
  {
   "cell_type": "code",
   "execution_count": null,
   "id": "24ff366f-bab7-4457-9bcb-d7409cfe7d57",
   "metadata": {},
   "outputs": [],
   "source": [
    "# We can create a collections object from our query.\n",
    "\n",
    "collections = Query.get(10)\n",
    "\n",
    "# Inspect 1st result.\n",
    "\n",
    "print(collections[0:1])"
   ]
  },
  {
   "cell_type": "code",
   "execution_count": null,
   "id": "2f2dc47c-cf87-4ff0-b3bb-d394bee8dcfd",
   "metadata": {},
   "outputs": [],
   "source": [
    "# To reduce the number of metadata fields displayed, we can select which UMM fields to print when creating our collections object\n",
    "\n",
    "collections = Query.fields(['ShortName','Abstract']).get(5)\n",
    "\n",
    "# Inspect 5 results printing just the ShortName and Abstract\n",
    "\n",
    "print(collections[0:5])"
   ]
  },
  {
   "cell_type": "markdown",
   "id": "db0e0ec6-8a44-4bcd-b767-7ca54e1679d2",
   "metadata": {},
   "source": [
    "The results from DataCollections are enhanced python dict objects.  We can select which metadata fields from CMR to display."
   ]
  },
  {
   "cell_type": "markdown",
   "id": "69a0f4cf-9320-498c-9059-846005138e1c",
   "metadata": {},
   "source": [
    "The concept ID is an important parameter in CMR.  It's a unique identifier for a data collection (collection = data set).  We'll use the concept ID when querying for data granules (granules = files) below."
   ]
  },
  {
   "cell_type": "code",
   "execution_count": null,
   "id": "d8685291-c3db-4665-be52-4c782f7b673e",
   "metadata": {},
   "outputs": [],
   "source": [
    "collections[0][\"meta.concept-id\"]"
   ]
  },
  {
   "cell_type": "code",
   "execution_count": null,
   "id": "2f9d2d4b-d5a9-4743-97be-9a096299462d",
   "metadata": {},
   "outputs": [],
   "source": [
    "collections[0][\"umm.ShortName\"]"
   ]
  },
  {
   "cell_type": "code",
   "execution_count": null,
   "id": "3dc32dcd-1a74-4eb6-83d2-8e27074d791a",
   "metadata": {},
   "outputs": [],
   "source": [
    "collections[0][\"umm.RelatedUrls\"]"
   ]
  },
  {
   "cell_type": "markdown",
   "id": "2a9b2f73-8dd2-4ba3-93d0-8628d0ba3e23",
   "metadata": {},
   "source": [
    "### Query CMR for Data Granules\n",
    "\n",
    "The DataGranules class provides similar functionality as the collection class. As mentioned above, concept IDs are unique identifiers for data sets (collections). To query for granules from the exact data set and version in which you are interested, query granules using concept-id.\n",
    "You can search data granules using a short name but that could (more likely will) return different versions of the same data granules. Even when specifying both short name and version number, a query won't distinguish between on prem or cloud hosted granules.\n",
    "\n",
    "In this example we're querying for 20 data granules from ICESat-2  [ATL03](https://nsidc.org/data/ATL03/versions/) version `005` dataset. "
   ]
  },
  {
   "cell_type": "code",
   "execution_count": null,
   "id": "aff190ab-5a19-4dcf-9d17-e728c0c2b177",
   "metadata": {},
   "outputs": [],
   "source": [
    "# Generally speaking we won't need the auth instance for *queries* to collections and granules, unless the data set is under restricted access (like NSIDC_CPRD).\n",
    "\n",
    "Query = DataGranules().concept_id('C2144439155-NSIDC_ECS').bounding_box(-134.7,58.9,-133.9,59.2).temporal(\"2020-03-01\", \"2020-03-30\")\n",
    "print(f'Granules found: {Query.hits()}')\n"
   ]
  },
  {
   "cell_type": "code",
   "execution_count": null,
   "id": "12494cb1-0a62-41d0-8eb5-7ffd72c0efc3",
   "metadata": {},
   "outputs": [],
   "source": [
    "granules = Query.get()\n",
    "print(granules[0:4])"
   ]
  },
  {
   "cell_type": "markdown",
   "id": "e82d123a-5c17-4543-b887-16900bac905f",
   "metadata": {},
   "source": [
    "## Pretty printing data granules\n",
    "\n",
    "Since we are in a notebook we can take advantage of it to see a more user friendly version of the granules with the built-in function `display`\n",
    "This will render browse image for the granule if available and eventually will have a similar representation as the one from the Earthdata search portal"
   ]
  },
  {
   "cell_type": "code",
   "execution_count": null,
   "id": "81a1fa13-6245-43d2-b33a-0d504e3b36cd",
   "metadata": {},
   "outputs": [],
   "source": [
    "# printing 2 granules using display\n",
    "[display(granule) for granule in granules[0:2]]"
   ]
  },
  {
   "cell_type": "markdown",
   "id": "f53fc9e1-900c-4662-bdb0-0f4ec72d7c70",
   "metadata": {},
   "source": [
    "## **Step 3. Accessing the data**\n",
    "\n",
    "## On-prem access  📡\n",
    "\n",
    "DAAC hosted data"
   ]
  },
  {
   "cell_type": "code",
   "execution_count": null,
   "id": "d0aa3d8a-5fbb-4b78-a483-6dd592599770",
   "metadata": {},
   "outputs": [],
   "source": [
    "%%time\n",
    "# accessing the data on prem means downloading it if we are in a local environment or \"uploading them\" if we are in the cloud.\n",
    "access = Store(auth)\n",
    "files = access.get(granules[1:2], local_path = \"./data/demo-atl06\")"
   ]
  },
  {
   "cell_type": "markdown",
   "id": "57e4dd8d-787b-4487-8759-fa3ad30aa204",
   "metadata": {},
   "source": [
    "## Cloud access ☁️\n",
    "\n",
    "Same API, just a different place\n",
    "\n",
    "The cloud is not something magical, but having infrastructure on-demand is quite handy to have for many scientific workflows, especially if the data already lives in \"the cloud\".\n",
    "As for NASA, data migration started in 2020 and will continue into the foreseeable future. Not all, but most of NASA data will be available in Amazon Web Services object simple storage service or AWS S3.\n",
    "\n",
    "To work with this data the first thing we need to do is to get the proper credentials for accessing data in their S3 buckets. These credentials are on a per-DAAC basis and last a mere 1 hour. In the near future the Auth class will keep track of this to regenerate the credentials as needed.\n",
    "\n",
    "With `earthdata` a researcher can get the files regardless if they are on-prem or cloud based with the same API call, although an important consideration is that if we want direct access to data in the cloud we must run the code in the cloud. This is because some S3 buckets are configured to only allow direct access (s3:// links) if the requester is in the same zone, `us-west-2`.\n"
   ]
  },
  {
   "cell_type": "code",
   "execution_count": null,
   "id": "71724da5-0463-432f-b60a-204bf6173f8d",
   "metadata": {},
   "outputs": [],
   "source": [
    "Query = DataCollections(auth).keyword('land ice').bounding_box(-134.7,58.9,-133.9,59.2).provider(\"NSIDC_CPRD\")\n",
    "\n",
    "print(f'Collections found: {Query.hits()}') "
   ]
  },
  {
   "cell_type": "markdown",
   "id": "f81fbb94-d10c-411b-834c-26e367e57c08",
   "metadata": {},
   "source": [
    "Oh no!  What!?  Zero hits? :(   \n",
    "\n",
    "The 'hits' method above will tell you the number of query hits, but only for publicly available data sets.  \n",
    "Because cloud hosted ICESat-2 data are not yet publicly available, CMR will return \"0\" hits, if you filtered DataCollections by provider = NSIDC_CPRD.\n",
    "For now we need an alternative method of seeing how many cloud data sets are available at NSIDC.  This is only temporary until cloud-hosted ICESat-2 become publicly availble. We can create a collections object (we're going to want one of \n",
    "these soon anyhow) and print the len() of the collections object to see the true number of hit.\n",
    "\n",
    "Create a collections object"
   ]
  },
  {
   "cell_type": "code",
   "execution_count": null,
   "id": "d6b7d09a-55d8-4b93-a511-cd0aec287d87",
   "metadata": {},
   "outputs": [],
   "source": [
    "# We can create a collections object from our query.\n",
    "\n",
    "collections = Query.fields(['ShortName','Abstract']).get()\n",
    "\n",
    "print(len(collections))\n"
   ]
  },
  {
   "cell_type": "code",
   "execution_count": null,
   "id": "c126f8e9-04d8-49ed-ab20-222df1229bfc",
   "metadata": {},
   "outputs": [],
   "source": [
    "# Inspect 1st result.\n",
    "\n",
    "print(collections[0:5])"
   ]
  },
  {
   "cell_type": "code",
   "execution_count": null,
   "id": "748bddad-56ac-4917-87df-3e1f47ccae09",
   "metadata": {},
   "outputs": [],
   "source": [
    "Query = DataGranules(auth).concept_id(\"C2153572614-NSIDC_CPRD\").bounding_box(-134.7,58.9,-133.9,59.2).temporal(\"2020-03-01\", \"2020-03-30\")\n",
    "print(f\"Granule hits: {Query.hits()}\")\n",
    "cloud_granules = Query.get(4)\n",
    "print(len(cloud_granules))\n",
    "# is this a cloud hosted data granule?\n",
    "cloud_granules[0].cloud_hosted"
   ]
  },
  {
   "cell_type": "code",
   "execution_count": null,
   "id": "bce1d6bb-d9b8-40a5-8e7f-c230359b8846",
   "metadata": {},
   "outputs": [],
   "source": [
    "%%time\n",
    "\n",
    "# If we get an error here, most likely is because we are running this code outside the us-west-2 region.\n",
    "try:\n",
    "    files = access.get(cloud_granules[0:2], \"./data/demo-NSIDC_CPRD/\")\n",
    "except Exception as e:\n",
    "    print(\"If we are here maybe we are not in us-west-2 or the collection \")"
   ]
  },
  {
   "cell_type": "markdown",
   "id": "6d129f65-1fb8-4adf-ba2d-1fe6c2eb46ac",
   "metadata": {},
   "source": [
    "## Recap\n",
    "\n",
    "```python\n",
    "from earthdata import Auth, DataGranules, DataCollections, Store\n",
    "auth = Auth().login()\n",
    "access = Store(auth)\n",
    "\n",
    "Query = DataGranules(auth).concept_id(\"C2144439155-NSIDC_ECS\").bounding_box(-134.7,58.9,-133.9,59.2).temporal(\"2020-03-01\", \"2020-03-30\")\n",
    "granules = Query.get()\n",
    "# preview the data granules\n",
    "granules \n",
    "# get the files\n",
    "files = access.get(granules)\n",
    "\n",
    "\n",
    "```\n",
    "\n",
    "**Wait, we said 4 lines of Python**\n",
    "\n",
    "```python\n",
    "\n",
    "from earthdata import Auth, DataGranules, Store\n",
    "auth = Auth().login()\n",
    "granules = DataGranules(auth).concept_id(\"C2144439155-NSIDC_ECS\").bounding_box(-134.7,58.9,-133.9,59.2).temporal(\"2020-03-01\", \"2020-03-30\").get_all()\n",
    "files = Store(auth).get(granules, './data')\n",
    "\n",
    "# Now to the important science!\n",
    "```"
   ]
  },
  {
   "cell_type": "markdown",
   "id": "e3a32c80-1616-416b-9f1a-4b70383bb90b",
   "metadata": {},
   "source": [
    "The Demo notebook in the [earthdata library GitHub repo](https://github.com/nsidc/earthdata) showcases much more of earthdata's capabilities, including many handy methods for querying CMR for collections and granules.  Please take a look on your own when you are ready to start using earthdata library.  You are invited to contribute! "
   ]
  },
  {
   "cell_type": "markdown",
   "id": "834d5453-37b0-4e8d-8310-cbf55f736525",
   "metadata": {},
   "source": [
    "### Related links\n",
    "\n",
    "**CMR** API documentation: https://cmr.earthdata.nasa.gov/search/site/docs/search/api.html\n",
    "\n",
    "**EDL** API documentation: https://urs.earthdata.nasa.gov/\n",
    "\n",
    "NASA OpenScapes: https://nasa-openscapes.github.io/earthdata-cloud-cookbook/\n",
    "\n",
    "NSIDC: https://nsidc.org"
   ]
  },
  {
   "cell_type": "code",
   "execution_count": null,
   "id": "5d3111a9-a60b-4d29-b5f8-4f264f9c977d",
   "metadata": {},
   "outputs": [],
   "source": []
  }
 ],
 "metadata": {
  "kernelspec": {
   "display_name": "Python 3 (ipykernel)",
   "language": "python",
   "name": "python3"
  },
  "language_info": {
   "codemirror_mode": {
    "name": "ipython",
    "version": 3
   },
   "file_extension": ".py",
   "mimetype": "text/x-python",
   "name": "python",
   "nbconvert_exporter": "python",
   "pygments_lexer": "ipython3",
   "version": "3.9.10"
  }
 },
 "nbformat": 4,
 "nbformat_minor": 5
}
