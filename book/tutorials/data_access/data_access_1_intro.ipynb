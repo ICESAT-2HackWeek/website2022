{
 "cells": [
  {
   "cell_type": "markdown",
   "metadata": {
    "tags": []
   },
   "source": [
    "# ICESat-2 Data Discovery, Visualization, and Access Resources\n",
    "\n",
    "\n",
    "**Credits**\n",
    "* Notebook by: Amy Steiker, Jessica Scheick, and Mikala Beig\n",
    "* Source material: [NSIDC DAAC Data Tutorials](https://github.com/nsidc/NSIDC-Data-Tutorials) by Amy Steiker\n",
    "\n",
    "## Objectives\n",
    "\n",
    "* Explore the options and relationships between web-based and programmatic data search, visualization, and access methods.\n",
    "* Explore cloud hosted ICESat-2 data using Earthdata Search, and retrieve data endpoints for download and direct S3 access.\n",
    "* Visualize ICESat-2 data using OpenAltimetry.\n",
    "\n",
    "___\n",
    "\n",
    "Reach out to us with data discovery and access questions!  Real people read the emails sent to nsidc@nsidc.org.  We are here to help make sure you get the data you need for your analysis.\n",
    "\n",
    "*ICESat-2 2022 Hackweek participants have been given temporary early access to select cloud-hosted ICESat-2 data sets by NSIDC (ATL03, ATL06, ATL07, ATL08, ATL10).  These data are not publicly available.  Please see the Terms of Use pdf in the ICESat-2 Resources folder in the hack week Jupyter book.*\n",
    "\n",
    "**Conditions of Use**\n",
    "\n",
    "The NSIDC DAAC Earthdata Cloud system is in development and is not fully operational.\n",
    "\n",
    "* The system should not be used for operational purposes. \n",
    "* The system does not have the same capabilities as the current, operational DAAC system.\n",
    "* While the system has been quite stable and reliable, it is subject to changes, delays, downtime, and inconsistencies in behavior.\n",
    "\n",
    "NSIDC DAAC is actively ingesting data into the NSIDC DAAC Earthdata Cloud system. The data available may not represent the latest version or the entire time series of the data product. \n",
    "\n",
    "Support for accessing and working with the Early Access NSIDC DAAC data in the Earthdata Cloud system is limited. \n",
    "\n",
    "* Response time to questions is variable.\n",
    "* Dedicated, operational support staff are not supporting Early Access users. \n",
    "\n",
    "**Early access for ICESat-2 2022 Hackweek participants will end on April 30, 2022.**"
   ]
  },
  {
   "cell_type": "markdown",
   "metadata": {},
   "source": [
    "___ \n",
    "\n",
    "## Resources and mechanisms available for ICESat-2 data exploration\n",
    "\n",
    "There are numerous interactive, web-based, command line, and programmatic ways to access, visualize, and perform subsetting and other customizations on ICESat-2 data. There are a lot of options and it can feel confusing at first!  The following table includes a handful that will be used this week, but is by no means exhaustive."
   ]
  },
  {
   "cell_type": "code",
   "execution_count": null,
   "metadata": {},
   "outputs": [],
   "source": [
    "img_path= './img/discovery_and_access_methods.png'\n",
    "from IPython.display import Image\n",
    "Image(img_path) "
   ]
  },
  {
   "cell_type": "markdown",
   "metadata": {},
   "source": [
    "___\n",
    "## NASA National Snow and Ice Data Center Distributed Active Archive Center (NSIDC DAAC)\n",
    "\n",
    "[The National Snow and Ice Data Center](https://nsidc.org) provides over 1100 data sets covering the Earth's cryosphere and more, all of which are available to the public free of charge. Beyond providing these data, NSIDC creates tools for data access, supports data users, performs scientific research, and educates the public about the cryosphere. \n",
    "\n",
    "<img align=\"left\" width=\"50%\" height=\"200px\" src='./img/DAAC_map_with_ECS.jpg'/>"
   ]
  },
  {
   "cell_type": "markdown",
   "metadata": {},
   "source": [
    "### ICESat-2 Data Discovery Resources at nsidc.org:\n",
    "\n",
    "* [The NSIDC ICESat-2 home page](https://nsidc.org/data/icesat-2) provides an overview of the data products and user resources available. \n",
    "    * Associated access, visualization, and data customization tools and services are provided on the [ICESat-2 Tools page](https://nsidc.org/data/icesat-2/tools).\n",
    "* ICESat-2 landing pages: Each data set has an associated landing page with citation information, a curated user guide, and support documentation.\n",
    "    \n",
    "\n"
   ]
  },
  {
   "cell_type": "code",
   "execution_count": null,
   "metadata": {},
   "outputs": [],
   "source": [
    "img_path= './img/ATL06_landing_page.png'\n",
    "Image(img_path) "
   ]
  },
  {
   "cell_type": "markdown",
   "metadata": {},
   "source": [
    "### ICESat-2 Data Access Resources at nsidc.org:\n",
    "* ICESat-2 tutorials and webinars: \n",
    "    * [Webinar: Explore, Access, and Customize ICESat-2 data at the NASA NSIDC DAAC](https://www.youtube.com/watch?v=6KZOPqyp-bY)\n",
    "    * [Tutorial: Getting the most out of NSIDC DAAC data: Discovering, Accessing, and Harmonizing Arctic Remote Sensing Data](https://github.com/nsidc/NSIDC-Data-Tutorials/tree/master/notebooks/ICESat-2_MODIS_Arctic_Sea_Ice)\n",
    "* ICESat-2 landing pages: In addition to the documentation resources listed above, landing pages also offer the ability to access data by time, spatial region, and granule name. Below is a screen shot of the Download Data tab available on all ICESat-2 landing pages.\n",
    "* [ICESat-2 customization services](https://nsidc.org/support/faq/what-data-subsetting-and-reformatting-services-are-available-icesat-2-data): The NSIDC DAAC supports customization (subsetting, reformatting, reprojection) services on many NASA Earthdata mission collections including ICESat-2. \n",
    "* Programmatic data access: The NSIDC DAAC provides an API to access and customize data. See NSIDC's [Programmatic Access Guide](https://nsidc.org/support/how/how-do-i-programmatically-request-data-services) for more information. The [NSIDC-Data-Access-Notebook](https://github.com/nsidc/NSIDC-Data-Access-Notebook) provides an easy-to-use Jupyter notebook to search and access data programmatically.\n",
    "\n"
   ]
  },
  {
   "cell_type": "markdown",
   "metadata": {},
   "source": [
    "## Data Exploration in Earthdata Search\n",
    "\n",
    "https://search.earthdata.nasa.gov/search\n",
    "\n",
    "Earthdata Search provides a graphical user interface for discovery NASA data and ordering and downloading data from its various archive locations. \n",
    "\n",
    "Key Functions of Earthdata Search:\n",
    "1. Web mapping interface for discovering and visualizing NASA Earthdata using spatial and temporal filters.\n",
    "2. Customization services, including spatial subsetting, reformatting, and reprojection for *some* datasets.\n",
    "3. Data ordering and downloading.\n",
    "\n",
    "[NASA Webinar on Earthdata Search](https://www.youtube.com/watch?v=X97wSj_gzg4) by Mark Reese, Earthdata Search Product Owner.\n",
    "\n",
    "## Data Exploration in OpenAltimetry\n",
    "\n",
    "https://openaltimetry.org/\n",
    "\n",
    "OpenAltimetry is a cyberinfrastructure platform for discovery, access, and visualization of data from NASA’s ICESat and ICESat-2 missions. The unique data from these missions require a new paradigm for data access and discovery. OpenAltimetry addresses the needs of a diverse scientific community and increases the accessibility and utility of these data for new users. OpenAltimetry is a NASA funded collaborative project between the Scripps Institution of Oceanography, San Diego Supercomputer Center, National Snow and Ice Data Center, and UNAVCO.\n",
    "\n",
    "Key Functions of OpenAltimetry:\n",
    "1. Ground track filtering and visualization\n",
    "2. On-the-fly plotting of segment elevations and photon clouds based on date and region of interest\n",
    "3. Access data in CSV or subsetted HDF5 format\n",
    "4. Plot and analyze photon data from your area of interest using a Jupyter Notebook\n",
    "\n",
    "OpenAltimetry tutorials:\n",
    "    \n",
    "[Presentation on ICESat-2 and OpenAltimetry](https://www.youtube.com/watch?v=gfOGz8kk4VI) by NASA science education team.\n",
    "\n",
    "[OpenAltimetry Tutorial](https://www.youtube.com/watch?v=ZanKXh1oQYc)  by Walt Meier, NSIDC DAAC Scientist.\n",
    "\n"
   ]
  },
  {
   "cell_type": "markdown",
   "metadata": {},
   "source": [
    "\n",
    "## NASA Earthdata resources\n",
    "\n",
    "The [NASA NSIDC DAAC](https://nsidc.org/daac) is one of 12 NASA DAAC facilities across the United States, providing access to hundreds of data products in support of cryospheric research, global change detection, and water resource management. The DAACs belong to the NASA Earth Observing System Data and Information System (EOSDIS), and this system includes tools that support data distributed by all DAACs:\n",
    "\n",
    "\n",
    "<img align=\"left\" width=\"50%\" height=\"200px\" src='./img/DAAC_map_with_ECS.jpg'/>\n"
   ]
  },
  {
   "cell_type": "markdown",
   "metadata": {},
   "source": [
    "* [NASA Earthdata Search](https://search.earthdata.nasa.gov/)\n",
    "    * Customization services from NSIDC are also available through this interface\n",
    "* [Common Metadata Repository]( https://cmr.earthdata.nasa.gov/search/site/docs/search/api.html)\n",
    "    * The Common Metadata Repository (CMR) is a high-performance, high-quality, continuously evolving metadata system that catalogs Earth Science data and associated service metadata records. These metadata records are registered, modified, discovered, and accessed through programmatic interfaces leveraging standard protocols and APIs. \n",
    "* [NASA EOSDIS move to the cloud](https://earthdata.nasa.gov/eosdis/cloud-evolution)"
   ]
  },
  {
   "cell_type": "markdown",
   "metadata": {},
   "source": [
    "___\n",
    "**Polling question**\n",
    "\n",
    "*How do you prefer to search for data prior to downloading files?*\n",
    "\n",
    "This is an open-ended question that is intentionally vague. As we gear up for our projects, how do you plan to begin searching for ICESat-2 data? Maybe you're interested in finding repeat ground tracks over an area that you'd like to input as a shapefile. Maybe you're interested in searching for data based on a seasonal date range. Or you want a way to search for ICESat-2 data coincident with another data product. Do you prefer to discover data coverage directly in Python, as opposed to a web interface (or visa versa)? \n",
    "\n",
    "These are just some ideas to get you thinking about data discovery. "
   ]
  },
  {
   "cell_type": "markdown",
   "metadata": {},
   "source": [
    "## Next up!   Programmatic data access via:\n",
    "   \n",
    "### earthdata\n",
    "\n",
    "earthdata ([GitHub](https://github.com/nsidc/earthdata)) is a software library that provides an easy to use Python wrapper in front of the CMR and NASA DAAC API's.  Strengths of earthdata include: \n",
    "1. cross-DAAC data access (it's not specific to ICESat-2 or NSIDC).  \n",
    "2. Access to on prem and cloud hosted data. \n",
    "3. Easy authentication handling for Earthdata Login and AWS access keys and token.\n",
    "\n",
    "### icepyx\n",
    "\n",
    "icepyx ([docs](https://icepyx.readthedocs.io/en/latest/), [GitHub](https://github.com/icesat2py/icepyx)) is both a software library and a community composed of ICESat-2 data users, developers, and the scientific community. We are working together to develop a shared library of resources - including existing resources, new code, tutorials, and use-cases/examples - that simplify the process of querying, obtaining, analyzing, and manipulating ICESat-2 datasets to enable scientific discovery.\n",
    "\n",
    "\n"
   ]
  }
 ],
 "metadata": {
  "kernelspec": {
   "display_name": "Python 3 (ipykernel)",
   "language": "python",
   "name": "python3"
  },
  "language_info": {
   "codemirror_mode": {
    "name": "ipython",
    "version": 3
   },
   "file_extension": ".py",
   "mimetype": "text/x-python",
   "name": "python",
   "nbconvert_exporter": "python",
   "pygments_lexer": "ipython3",
   "version": "3.9.10"
  }
 },
 "nbformat": 4,
 "nbformat_minor": 4
}
