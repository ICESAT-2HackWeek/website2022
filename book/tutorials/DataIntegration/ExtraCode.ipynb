{
 "cells": [
  {
   "cell_type": "code",
   "execution_count": null,
   "id": "7fb1ad8e-dcf1-4863-8cc3-b81778c3ebb2",
   "metadata": {},
   "outputs": [],
   "source": []
  },
  {
   "cell_type": "code",
   "execution_count": null,
   "id": "2de9102a-9b34-40ce-b821-4a1b6a17393c",
   "metadata": {},
   "outputs": [],
   "source": [
    "# Search for Landsat images based on a bounding box, date and other metadata if desired\n",
    "# Save to geojson file\n",
    "# NOTE this STAC API endpoint does not currently search the entire catalog\n",
    "\n",
    "satellite = 'Landsat8'\n",
    "\n",
    "bbox = (-105.30, -74.970, -105.08, -74.920) #(west, south, east, north) \n",
    "\n",
    "timeRange = '2022-01-20/2022-01-30'\n",
    "\n",
    "if satellite=='Landsat8':\n",
    "    url = 'https://ibhoyw8md9.execute-api.us-west-2.amazonaws.com/prod'\n",
    "    collection = 'usgs-landsat/collection02/'\n",
    "    band = 'blue'\n",
    "    colnm = ['landsat:wrs_path','landsat:wrs_row']\n",
    "    end = '_T2' # end of file name if don't want all\n",
    "    qa_band = 'qa_pixel'\n",
    "elif satellite=='Sentinel2':\n",
    "    url = 'https://earth-search.aws.element84.com/v0' # maybe also https://services.sentinel-hub.com/api/v1/catalog/\n",
    "    collection = 'sentinel-s2-l2a-cogs'\n",
    "    band = 'B02'\n",
    "    colnm = ['sentinel:latitude_band','sentinel:grid_square']\n",
    "    end = 'L2A'\n",
    "    qa_band = 'SCL'\n",
    "elif satellite=='Sentinel1': ### Doesn't work\n",
    "    url = 'http://eocloud.sentinel-hub.com/search'\n",
    "    collection = 'sentinel-s1-rtc-indigo'\n",
    "    \n",
    "results = Search.search(url=url,\n",
    "                        collection=collection,\n",
    "                        datetime=timeRange,\n",
    "                        bbox=bbox,    \n",
    "                        # properties=properties,\n",
    "                        sort=['<datetime'])\n",
    "\n",
    "print('%s items' % results.found())\n",
    "items = results.items()\n",
    "items.save(f'/home/jovyan/shared-readwrite/geostacks/polynyas/{satellite}.geojson')"
   ]
  },
  {
   "cell_type": "code",
   "execution_count": null,
   "id": "559855fd-d551-4672-a9f2-7b0f9751a57a",
   "metadata": {},
   "outputs": [],
   "source": [
    "# Load the geojson file\n",
    "gf = gpd.read_file(f'/home/jovyan/shared-readwrite/geostacks/polynyas/{satellite}.geojson')\n",
    "gf.head()"
   ]
  },
  {
   "cell_type": "code",
   "execution_count": null,
   "id": "98b98b77-8c07-42bc-8da0-4048ea5ad2e7",
   "metadata": {},
   "outputs": [],
   "source": [
    "gf.columns"
   ]
  },
  {
   "cell_type": "code",
   "execution_count": null,
   "id": "210f1b84-3ad7-4e6c-8470-0d5145a8cb13",
   "metadata": {},
   "outputs": [],
   "source": [
    "# Plot search AOI and frames on a map using Holoviz Libraries (more on these later)\n",
    "cols = gf.loc[:,('id',colnm[0],colnm[1],'geometry')]\n",
    "alpha = 1/results.found()**0.5 # transparency scales w number of images\n",
    "\n",
    "footprints = cols.hvplot(geo=True, line_color='k', hover_cols=[colnm[0],colnm[1]], alpha=alpha, title=satellite)\n",
    "# footprints = cols.hvplot(geo=True, line_color='k', hover_cols=['landsat:wrs_path','landsat:wrs_row'], alpha=0.1, title='Landsat 8 T1')\n",
    "tiles = gv.tile_sources.CartoEco.options(width=700, height=500) \n",
    "labels = gv.tile_sources.StamenLabels.options(level='annotation')\n",
    "tiles * footprints * labels"
   ]
  },
  {
   "cell_type": "code",
   "execution_count": null,
   "id": "5aed9a99-4e49-41c6-97ec-eb0a90b9fab9",
   "metadata": {},
   "outputs": [],
   "source": [
    "# Need to set up proper credentials for acquiring data through rasterio\n",
    "aws_session = AWSSession(boto3.Session(), requester_pays=True)"
   ]
  },
  {
   "cell_type": "markdown",
   "id": "0d6f0384-dd9c-4ef5-bb18-9eb6c9d2fcf4",
   "metadata": {},
   "source": [
    "## Intake all scenes and add cloud mask - intake-STAC"
   ]
  },
  {
   "cell_type": "code",
   "execution_count": null,
   "id": "c44e3538-757e-49b1-9adc-77b23373b5de",
   "metadata": {},
   "outputs": [],
   "source": [
    "catalog = intake.open_stac_item_collection(items)\n",
    "# list(catalog)"
   ]
  },
  {
   "cell_type": "code",
   "execution_count": null,
   "id": "e685db6b-5942-4330-b1cf-cda3a8927c22",
   "metadata": {},
   "outputs": [],
   "source": [
    "# # Retrieve scene using rio\n",
    "# item_num = 0\n",
    "# if satellite=='Landsat8':\n",
    "#     item_url = items[item_num].asset(band)['alternate']['s3']['href']\n",
    "# elif satellite=='Sentinel2':\n",
    "#     item_url = items[item_num].asset('red')['href']\n",
    "\n",
    "# # Read and plot with grid coordinates \n",
    "# with rio.Env(aws_session):\n",
    "#     with rio.open(item_url) as src:\n",
    "#         fig, ax = plt.subplots(figsize=(9,8))\n",
    "#         show(src,1)\n",
    "#         profile = src.profile\n",
    "#         arr = src.read(1)\n",
    "\n",
    "# # Plot by index\n",
    "# fig, ax = plt.subplots(figsize=(6,5))\n",
    "# plt.imshow(arr)"
   ]
  },
  {
   "cell_type": "code",
   "execution_count": null,
   "id": "76eda414-c219-4bc0-837f-dbbd118001fb",
   "metadata": {},
   "outputs": [],
   "source": [
    "# Load dask, suppress warnings, each worker needs to run as requester pays\n",
    "from dask.distributed import Client\n",
    "import logging\n",
    "client = Client(processes=True, n_workers=4, \n",
    "                threads_per_worker=1,\n",
    "                silence_logs=logging.ERROR)\n",
    "client.run(lambda: os.environ[\"AWS_REQUEST_PAYER\"] == \"requester\" )\n",
    "client"
   ]
  },
  {
   "cell_type": "code",
   "execution_count": null,
   "id": "109e37de-064f-4129-8311-3325e937c61e",
   "metadata": {},
   "outputs": [],
   "source": [
    "sceneid = list(catalog)\n",
    "sceneid"
   ]
  },
  {
   "cell_type": "code",
   "execution_count": null,
   "id": "73f64de5-b9eb-496c-8418-55037a585c03",
   "metadata": {},
   "outputs": [],
   "source": [
    "# Import to xarray with cloud mask  ***This is slow\n",
    "# nans are in locations where concat of multiple scenes has expanded the grid\n",
    "# Would like to use SR for all bands except TIR, but they are not available for many scenes so would\n",
    "# need a separate model for scenes with SR and those without.\n",
    "scenes = []\n",
    "\n",
    "# Create time variable for time dim\n",
    "time_var = xr.Variable('time',gf.loc[gf.id.isin([item for item in sceneid if item.endswith('_T2')])]['datetime'])\n",
    "# time_var = xr.Variable('time', time_index_from_filenames(s3_links))\n",
    "\n",
    "# hls_ts_da = xr.concat([rioxarray.open_rasterio(f, chunks=chunks).squeeze('band', drop=True) for f in s3_links], dim=time)\n",
    "# hls_ts_da\n",
    "\n",
    "# hls_ts_da_data = hls_ts_da.load()\n",
    "    \n",
    "    \n",
    "for item in sceneid:\n",
    "    if item.endswith('_T2'):\n",
    "        item = catalog[item]\n",
    "        print (item.name)\n",
    "        \n",
    "        bands = []\n",
    "        band_names = []\n",
    "        \n",
    "        # Get band names\n",
    "        for k in item.keys():\n",
    "            M = getattr(item, k).metadata\n",
    "            if 'eo:bands' in M:\n",
    "                resol = M['eo:bands'][0]['gsd']\n",
    "#                 print(k, resol)\n",
    "                if resol >= 30: # thermal bands are up sampled from 100 to 30\n",
    "                    band_names.append(k)\n",
    "                    \n",
    "        # Add qa band\n",
    "        band_names.append('qa_pixel')\n",
    "        \n",
    "        # Construct xarray for scene\n",
    "        for band_name in band_names:\n",
    "            band = item[band_name](chunks=dict(band=1, x=2048, y=2048),urlpath=item[band_name].metadata['alternate']['s3']['href']).to_dask() # Specify chunk size, landsat is prob in 512 chunks so used multiple\n",
    "            band['band'] = [band_name]\n",
    "#           band = band.expand_dims(time=[pd.to_datetime(item.metadata['datetime'])]) # doesn't give right dates\n",
    "            bands.append(band)\n",
    "        scene = xr.concat(bands, dim='band')\n",
    "        \n",
    "        # Create and add cloud mask (this mask is technically everything except nan,ocean,ice clear sky)\n",
    "        # 1 is no data, 21952 is ocean, 30048 is ice (can change this to add more)\n",
    "        # Access mask via 'ts_scenes.isel(time=0).mask'\n",
    "        qa = scene.sel(band='qa_pixel')\n",
    "        cond = np.logical_or((qa.isin(ocean))|(qa.isin(ice)), qa==1)\n",
    "#         cond = np.logical_or((qa==21952)|(qa==30048), qa==1)\n",
    "        qa_c = qa.where(~cond, np.nan)\n",
    "        cond = np.logical_or((qa_c.isin(ocean))|(qa_c.isin(ice)), qa_c==1)\n",
    "        mask_c = qa_c.where(qa_c.isnull(),2) # cloud = 2\n",
    "        \n",
    "        # For optional ice mask\n",
    "        qa_io = qa.where(qa.isin(ice), np.nan)\n",
    "        mask_io = qa_io.where(~(qa_io.isin(ice)),1) # ice = 1\n",
    "        mask_c = mask_io.where(mask_io==1,mask_c)\n",
    "\n",
    "        scene.coords['mask'] = (('y', 'x'), mask_c.data)\n",
    "        scenes.append(scene)\n",
    "\n",
    "# Concatenate scenes with time variable ***This is the slowest\n",
    "ts_scenes = xr.concat(scenes, dim=time_var)\n",
    "\n",
    "# Get epsg for Landsat images\n",
    "# epsg = item.metadata['proj:epsg']\n",
    "# epsg = ts_scenes.crs\n",
    "pix = ts_scenes.transform[0]\n",
    "\n",
    "ts_scenes"
   ]
  },
  {
   "cell_type": "code",
   "execution_count": null,
   "id": "8ab4aeb0-eaa6-45a5-a7f7-ae11b28df848",
   "metadata": {},
   "outputs": [],
   "source": [
    "sbands = ['blue', 'nir08', 'swir16','cirrus', 'lwir11']\n",
    "sub_box = 1\n",
    "\n",
    "# for t in thw.time.values:\n",
    "t = thw.time.values[-6]\n",
    "# Masks added to data\n",
    "image = thw.sel(time=t,band=sbands).where(thw.sel(time=t).mask != 2)# * buffer_mask\n",
    "\n",
    "if sub_box==1:\n",
    "    # And further subset to polynya location if desired \n",
    "    pulx = -1590700\n",
    "    puly = -428200\n",
    "    plrx = -1584000\n",
    "    plry = -433600\n",
    "    image = image.sel(y=slice(plry,puly),x=slice(pulx,plrx))\n",
    "\n",
    "# For use at the end for coordinates\n",
    "pol_y = image.y\n",
    "pol_x = image.x\n",
    "\n",
    "image = np.array(image.where(image.notnull(),0))\n",
    "image = np.moveaxis(image, 0, -1)\n",
    "\n",
    "n_band = image.shape[2]\n",
    "print (t)"
   ]
  },
  {
   "cell_type": "code",
   "execution_count": null,
   "id": "c29a6dcd-f7f8-47d5-bb4b-607851f79898",
   "metadata": {},
   "outputs": [],
   "source": [
    "fig, (ax,ax1) = plt.subplots(ncols=2,figsize=(6,4))\n",
    "ax.imshow(image[:,:,0])\n",
    "ax.title.set_text('Subset window')\n",
    "(thw.sel(time=t,band='blue')).plot(ax=ax1)"
   ]
  }
 ],
 "metadata": {
  "kernelspec": {
   "display_name": "Python 3 (ipykernel)",
   "language": "python",
   "name": "python3"
  },
  "language_info": {
   "codemirror_mode": {
    "name": "ipython",
    "version": 3
   },
   "file_extension": ".py",
   "mimetype": "text/x-python",
   "name": "python",
   "nbconvert_exporter": "python",
   "pygments_lexer": "ipython3",
   "version": "3.9.10"
  }
 },
 "nbformat": 4,
 "nbformat_minor": 5
}
