{
 "cells": [
  {
   "cell_type": "markdown",
   "id": "suffering-union",
   "metadata": {},
   "source": [
    "# Data integration with ICESat-2 - Part I\n",
    "\n",
    "```{admonition} Learning Objectives\n",
    "**Goals**\n",
    "- Identify and locate non-ICESat-2 data sets\n",
    "- Acquiring data from the cloud or via download\n",
    "- Open data in Pandas and Xarray and basic functioning of DataFrames\n",
    "```\n",
    "☝️ This formatting is a Jupyter Book [admonition](https://jupyterbook.org/content/content-blocks.html#notes-warnings-and-other-admonitions), that uses a custom version of Markdown called {term}`MyST`"
   ]
  },
  {
   "cell_type": "markdown",
   "id": "83d55f37-40b8-453d-90a6-2a45b22482a0",
   "metadata": {},
   "source": [
    "### Needed libraries:\n",
    "satsearch \\\n",
    "boto\n",
    "\n",
    "matplotlib widget extension"
   ]
  },
  {
   "cell_type": "markdown",
   "id": "649d863c-5ad1-4b9f-9fa0-416ff04396a4",
   "metadata": {},
   "source": [
    "## Computing environment\n",
    "\n",
    "We'll be using the following open source Python libraries in this notebook:"
   ]
  },
  {
   "cell_type": "code",
   "execution_count": 4,
   "id": "49392ebb-e958-4e9c-87c5-b883430d3f36",
   "metadata": {},
   "outputs": [],
   "source": [
    "import ipyleaflet\n",
    "from ipyleaflet import Map, Rectangle, basemaps, basemap_to_tiles, TileLayer, SplitMapControl, Polygon\n",
    "\n",
    "import ipywidgets\n",
    "import datetime\n",
    "import re"
   ]
  },
  {
   "cell_type": "code",
   "execution_count": 7,
   "id": "2a5720d5-d805-4c24-a92e-a2238805cdbf",
   "metadata": {},
   "outputs": [],
   "source": [
    "# %matplotlib widget\n",
    "# import satsearch\n",
    "# from satsearch import Search\n",
    "import geopandas as gpd\n",
    "import ast\n",
    "import pandas as pd\n",
    "import geoviews as gv\n",
    "import hvplot.pandas\n",
    "from ipywidgets import interact\n",
    "from IPython.display import display, Image\n",
    "import intake # if you've installed intake-STAC, it will automatically import alongside intake\n",
    "import xarray as xr\n",
    "import matplotlib.pyplot as plt\n",
    "# import boto3\n",
    "import rasterio as rio\n",
    "from rasterio.session import AWSSession\n",
    "from rasterio.plot import show\n",
    "from dask.utils import SerializableLock\n",
    "import os\n",
    "import hvplot.xarray\n",
    "import numpy as np\n",
    "from pyproj import Proj, transform\n",
    "\n",
    "# Suppress library deprecation warnings\n",
    "import warnings\n",
    "warnings.filterwarnings('ignore')"
   ]
  },
  {
   "cell_type": "markdown",
   "id": "5b99d916-deb8-4af0-9fce-1e38e5c18d87",
   "metadata": {},
   "source": [
    "## Identify and acquire the ICESat2 product(s) of interest"
   ]
  },
  {
   "cell_type": "markdown",
   "id": "21d66e60-1c1d-4887-b275-bd92deffae73",
   "metadata": {},
   "source": [
    "* What is the application of this product?\n",
    "* What region and resolution is needed?"
   ]
  },
  {
   "cell_type": "code",
   "execution_count": 16,
   "id": "8d389e8f-84a8-41e6-8c43-e56c5f126877",
   "metadata": {},
   "outputs": [
    {
     "data": {
      "application/vnd.jupyter.widget-view+json": {
       "model_id": "e29abed9a6284defa98ddcdd2c0ef889",
       "version_major": 2,
       "version_minor": 0
      },
      "text/plain": [
       "Map(center=[69.2, -50], controls=(ZoomControl(options=['position', 'zoom_in_text', 'zoom_in_title', 'zoom_out_…"
      ]
     },
     "metadata": {},
     "output_type": "display_data"
    }
   ],
   "source": [
    "# Show image of area of interest (data viz tutorial will get in deeper so don't explain much):\n",
    "# Can either use a pre-determined image of landsat here or the MODIS ipyleaflet viz \n",
    "center = [69.2, -50]\n",
    "zoom = 8\n",
    "m = Map(basemap=basemap_to_tiles(basemaps.NASAGIBS.ModisAquaTrueColorCR, '2020-07-18'),center=center,zoom=zoom)\n",
    "m"
   ]
  },
  {
   "cell_type": "markdown",
   "id": "c095b2a6-2ab5-440e-a3b8-620cf5c1868a",
   "metadata": {},
   "source": [
    "#### Download ICESat-2 ATL03 data from desired region\n",
    "__Zach__"
   ]
  },
  {
   "cell_type": "code",
   "execution_count": 1,
   "id": "0f128e9a-39e7-4498-b886-f3b293d8c616",
   "metadata": {},
   "outputs": [],
   "source": [
    "# hey, this is a test"
   ]
  },
  {
   "cell_type": "markdown",
   "id": "9778b651-2079-4aa4-b9e9-bd4f460c3ff8",
   "metadata": {},
   "source": [
    "## Identify other products of interest, and their space/time boundaries"
   ]
  },
  {
   "cell_type": "markdown",
   "id": "367fd620-365e-4273-8328-b97f9338f194",
   "metadata": {},
   "source": [
    "* What data are needed to supplement and enhance IS2 observations? \n",
    "    * Satellite or in situ data sets? \n",
    "    * Will show Landsat (AWS) and ATM (non-AWS)"
   ]
  },
  {
   "cell_type": "markdown",
   "id": "bf25a4f8-f9e3-49ca-92c7-54a04de5632a",
   "metadata": {},
   "source": [
    "* Where are the other data sets stored?\n",
    "    * Cloud datasets in AWS \n",
    "        https://registry.opendata.aws/\n",
    "    * EarthData\n",
    "        https://search.earthdata.nasa.gov/search/"
   ]
  },
  {
   "cell_type": "markdown",
   "id": "11ee3bdf-4c2b-47e7-9840-700cac1e9091",
   "metadata": {},
   "source": [
    "ATM: https://search.earthdata.nasa.gov/search/granules?p=C1000000062-NSIDC_ECS&pg[0][v]=f&pg[0][gsk]=-start_date&sb[0]=-50.56835%2C68.83371%2C-49.00139%2C69.56591&fi=ATM&as[instrument][0]=ATM&tl=1646767454.667!3!!&m=67.08956509568404!-48.11572265625!6!1!0!0%2C2\n",
    "Sentinel-2: https://registry.opendata.aws/sentinel-2/\n",
    "Landsat: https://registry.opendata.aws/usgs-landsat/"
   ]
  },
  {
   "cell_type": "markdown",
   "id": "b9dc23b5-b0a0-4feb-acce-25b8980f79a3",
   "metadata": {},
   "source": [
    "## Acquire non-cloud data and open: ATM data access\n",
    "__Zach__"
   ]
  },
  {
   "cell_type": "code",
   "execution_count": null,
   "id": "2de5bfd9-0f1e-4e3f-9712-fb70ab5cf431",
   "metadata": {},
   "outputs": [],
   "source": []
  },
  {
   "cell_type": "markdown",
   "id": "afec8435-262f-460b-ba30-e46feeb5cdb3",
   "metadata": {},
   "source": [
    "### Opening and manipulating data in Pandas\n",
    "__Tasha or Zach__"
   ]
  },
  {
   "cell_type": "code",
   "execution_count": null,
   "id": "4277ebd8-d423-4852-bbd1-e0655f93c811",
   "metadata": {},
   "outputs": [],
   "source": []
  },
  {
   "cell_type": "markdown",
   "id": "10bd1289-0941-4e82-b1ce-4e3c771ee665",
   "metadata": {},
   "source": [
    "## Download images from the cloud:\n",
    "__Tasha__"
   ]
  },
  {
   "cell_type": "markdown",
   "id": "aa6d6cdc-869b-4912-a2b8-9834ac76c48f",
   "metadata": {},
   "source": [
    "An Amazon Web Services (AWS) account is required to directly access Landsat data in\n",
    "the cloud housed within the usgs-landsat S3 requester pays bucket. Users can also find\n",
    "all objects within the Landsat record by using either the SpatioTemporal Asset Catalog\n",
    "(STAC) Browser (s3) or Satellite (SAT) Application Programing Interface (API) (https)."
   ]
  },
  {
   "cell_type": "markdown",
   "id": "6c5164d2-005c-46dd-8dbf-fe5ad82ad9cc",
   "metadata": {},
   "source": [
    "Scene location - https://landsat-pds.s3.amazonaws.com/c1/L8/202/025/LC08_L1TP_202025_20190420_20190507_01_T1/ \\\n",
    "Scene band url for download - https://landsat-pds.s3.amazonaws.com/c1/L8/202/025/LC08_L1TP_202025_20190420_20190507_01_T1/LC08_L1TP_202025_20190420_20190507_01_T1_B4.TIF"
   ]
  },
  {
   "cell_type": "markdown",
   "id": "92589138-1d61-4bda-a26f-4d55909745d3",
   "metadata": {},
   "source": [
    "#### Using data in the cloud from S3 buckets:\n",
    "Simple Storage Services (S3) bucket...\n",
    "\n",
    "Landsat S3 User Manual: https://d9-wret.s3.us-west-2.amazonaws.com/assets/palladium/production/s3fs-public/atoms/files/LSDS-2032-Landsat-Commercial-Cloud-Direct-Access-Users-Guide-v2.pdf.pdf\n",
    "\n",
    "Scene band url for download - s3://usgs-landsat/collection02/level-2/standard/oli-tirs/2020/202/025/LC08_L1TP_202025_20190420_20190507_01_T1/LC08_L1TP_202025_20190420_20190507_01_T1_B4.TIF"
   ]
  },
  {
   "cell_type": "code",
   "execution_count": null,
   "id": "769a1ce2-e262-4267-9f4e-9151f949cacd",
   "metadata": {},
   "outputs": [],
   "source": []
  },
  {
   "cell_type": "markdown",
   "id": "05076b32-9f21-42ea-b4bc-de8f6fc98f65",
   "metadata": {},
   "source": [
    "## Find and open Landsat images in the cloud\n",
    "__Tasha__"
   ]
  },
  {
   "cell_type": "markdown",
   "id": "0d5adeaf-13d7-4385-a11f-ec0e944d3317",
   "metadata": {},
   "source": [
    "If want to only open one Landsat band and not talk too much about COGs: http://www.acgeospatial.co.uk/cog-part-2-python/"
   ]
  },
  {
   "cell_type": "markdown",
   "id": "a5e1ce5f-7b4a-4935-b234-a4b65ac3c109",
   "metadata": {},
   "source": [
    "SpatioTemporal Asset Catalog (STAC) https://github.com/radiantearth/stac-spec"
   ]
  },
  {
   "cell_type": "code",
   "execution_count": null,
   "id": "29f0ca2b-8f04-4825-82e0-920ef67be0c7",
   "metadata": {},
   "outputs": [],
   "source": [
    "# Sets up credentials for acquiring images through dask/xarray\n",
    "os.environ[\"AWS_REQUEST_PAYER\"] = \"requester\"\n",
    "\n",
    "# Need to set up proper credentials for acquiring data through rasterio\n",
    "aws_session = AWSSession(boto3.Session(), requester_pays=True)"
   ]
  },
  {
   "cell_type": "code",
   "execution_count": null,
   "id": "24141fa8-38eb-4ddb-a585-b8805c7cfd85",
   "metadata": {},
   "outputs": [],
   "source": [
    "# Search STAC API for Landsat images based on a bounding box, date and other metadata if desired\n",
    "\n",
    "satellite = 'Landsat8'\n",
    "\n",
    "bbox = (-105.30, -74.970, -105.08, -74.920) #(west, south, east, north) \n",
    "\n",
    "timeRange = '2022-01-20/2022-01-30'\n",
    "\n",
    "band = 'blue'\n",
    "colnm = ['landsat:wrs_path','landsat:wrs_row']\n",
    "end = '_T2' # end of file name if don't want all\n",
    "qa_band = 'qa_pixel'\n",
    "    \n",
    "results = Search.search(url='https://ibhoyw8md9.execute-api.us-west-2.amazonaws.com/prod',\n",
    "                        collection='usgs-landsat/collection02/',\n",
    "                        datetime=timeRange,\n",
    "                        bbox=bbox,    \n",
    "                        # properties=properties,\n",
    "                        sort=['<datetime'])\n",
    "\n",
    "print('%s items' % results.found())\n",
    "items = results.items()\n",
    "\n",
    "# Save search to geojson file\n",
    "gjson_outfile = f'/home/jovyan/website2022/book/tutorials/DataIntegration/{satellite}.geojson'\n",
    "items.save(gjson_outfile)"
   ]
  },
  {
   "cell_type": "markdown",
   "id": "960e4165-59ff-4127-a91b-cf34f0286566",
   "metadata": {},
   "source": [
    "Load the geojson file into geopandas and inspect"
   ]
  },
  {
   "cell_type": "code",
   "execution_count": null,
   "id": "equipped-qualification",
   "metadata": {},
   "outputs": [],
   "source": [
    "# Load the geojson file\n",
    "gf = gpd.read_file(gjson_outfile)\n",
    "gf.head()"
   ]
  },
  {
   "cell_type": "code",
   "execution_count": null,
   "id": "7982ba19-51b2-4515-a4f4-e6f28e38d6ff",
   "metadata": {},
   "outputs": [],
   "source": [
    "gf.columns"
   ]
  },
  {
   "cell_type": "code",
   "execution_count": null,
   "id": "1d6dcf7c-e970-417d-ad4c-8e8c9540b73f",
   "metadata": {},
   "outputs": [],
   "source": [
    "# Plot search AOI and frames on a map using Holoviz Libraries (more on these later)\n",
    "cols = gf.loc[:,('id',colnm[0],colnm[1],'geometry')]\n",
    "alpha = 1/results.found()**0.5 # transparency scales w number of images\n",
    "\n",
    "footprints = cols.hvplot(geo=True, line_color='k', hover_cols=[colnm[0],colnm[1]], alpha=alpha, title=satellite)\n",
    "# footprints = cols.hvplot(geo=True, line_color='k', hover_cols=['landsat:wrs_path','landsat:wrs_row'], alpha=0.1, title='Landsat 8 T1')\n",
    "tiles = gv.tile_sources.CartoEco.options(width=700, height=500) \n",
    "labels = gv.tile_sources.StamenLabels.options(level='annotation')\n",
    "tiles * footprints * labels"
   ]
  },
  {
   "cell_type": "markdown",
   "id": "fb0a6ed8-2743-45a6-82ed-eea895349d17",
   "metadata": {},
   "source": [
    "#### Intake all scenes - intake-STAC"
   ]
  },
  {
   "cell_type": "code",
   "execution_count": null,
   "id": "e68f38d9-f8cb-4e84-89d1-6428702f9298",
   "metadata": {},
   "outputs": [],
   "source": [
    "catalog = intake.open_stac_item_collection(items)\n",
    "list(catalog)"
   ]
  },
  {
   "cell_type": "code",
   "execution_count": null,
   "id": "a483f3e3-858c-4899-b37f-584e61ee93b2",
   "metadata": {},
   "outputs": [],
   "source": [
    "# Extra code for examining items\n",
    "sceneid = 'LC08_L1GT_004113_20140326_20200911_02_T2'\n",
    "sceneid = list(catalog)[0]\n",
    "item = catalog[sceneid]\n",
    "catalog[sceneid]['blue'].metadata\n",
    "items[1].asset('blue')['eo:bands']\n",
    "item"
   ]
  },
  {
   "cell_type": "code",
   "execution_count": null,
   "id": "8eb00dde-fc04-483d-b5ec-2e2e561af774",
   "metadata": {},
   "outputs": [],
   "source": [
    "# This is the url needed to grab data and it needs to be plugged in manually below\n",
    "items[1].asset('blue')['alternate']['s3']['href'] # can use item asset name or title\n",
    "item.blue.metadata['alternate']['s3']['href'] # must use item asset name "
   ]
  },
  {
   "cell_type": "code",
   "execution_count": null,
   "id": "350a3220-bf2b-4034-99e3-4ff3c2888ccf",
   "metadata": {},
   "outputs": [],
   "source": [
    "# Retrieve scene using rio\n",
    "item_num = 0\n",
    "if satellite=='Landsat8':\n",
    "    item_url = items[item_num].asset(band)['alternate']['s3']['href']\n",
    "elif satellite=='Sentinel2':\n",
    "    item_url = items[item_num].asset('red')['href']\n",
    "\n",
    "# Read and plot with grid coordinates \n",
    "with rio.Env(aws_session):\n",
    "    with rio.open(item_url) as src:\n",
    "        fig, ax = plt.subplots(figsize=(9,8))\n",
    "        show(src,1)\n",
    "        profile = src.profile\n",
    "        arr = src.read(1)\n",
    "\n",
    "# Plot by index\n",
    "fig, ax = plt.subplots(figsize=(6,5))\n",
    "plt.imshow(arr)"
   ]
  },
  {
   "cell_type": "code",
   "execution_count": null,
   "id": "8d060aa4-eaa4-4030-bd57-d6c55a05e362",
   "metadata": {},
   "outputs": [],
   "source": [
    "# Load dask, suppress warnings, each worker needs to run as requester pays\n",
    "from dask.distributed import Client\n",
    "import logging\n",
    "client = Client(processes=True, n_workers=4, \n",
    "                threads_per_worker=1,\n",
    "                silence_logs=logging.ERROR)\n",
    "client.run(lambda: os.environ[\"AWS_REQUEST_PAYER\"] == \"requester\" )\n",
    "client"
   ]
  },
  {
   "cell_type": "code",
   "execution_count": null,
   "id": "33ae28dc-51f2-4041-ad5a-16f29437467b",
   "metadata": {},
   "outputs": [],
   "source": [
    "sceneid = list(catalog)\n",
    "sceneid"
   ]
  },
  {
   "cell_type": "code",
   "execution_count": null,
   "id": "18488506-2397-4a14-a732-a785cd279f9d",
   "metadata": {},
   "outputs": [],
   "source": [
    "# Import to xarray with cloud mask \n",
    "# nans are in locations where concat of multiple scenes has expanded the grid\n",
    "\n",
    "scenes = []\n",
    "\n",
    "# Create time variable for time dim\n",
    "time_var = xr.Variable('time',gf.loc[gf.id.isin([item for item in sceneid if item.endswith('_T2')])]['datetime'])\n",
    "    \n",
    "for item in sceneid:\n",
    "    if item.endswith('_T2'):\n",
    "        item = catalog[item]\n",
    "        print (item.name)\n",
    "        \n",
    "        bands = []\n",
    "        band_names = []\n",
    "        \n",
    "        # Get band names\n",
    "        for k in item.keys():\n",
    "            M = getattr(item, k).metadata\n",
    "            if 'eo:bands' in M:\n",
    "                resol = M['eo:bands'][0]['gsd']\n",
    "#                 print(k, resol)\n",
    "                if resol >= 30: # thermal bands are up sampled from 100 to 30\n",
    "                    band_names.append(k)\n",
    "                    \n",
    "        # Add qa band\n",
    "        band_names.append('qa_pixel')\n",
    "        \n",
    "        # Construct xarray for scene\n",
    "        for band_name in band_names:\n",
    "            band = item[band_name](chunks=dict(band=1, x=2048, y=2048),urlpath=item[band_name].metadata['alternate']['s3']['href']).to_dask() # Specify chunk size, landsat is prob in 512 chunks so used multiple\n",
    "            band['band'] = [band_name]\n",
    "#           band = band.expand_dims(time=[pd.to_datetime(item.metadata['datetime'])]) # doesn't give right dates\n",
    "            bands.append(band)\n",
    "        scene = xr.concat(bands, dim='band')\n",
    "        scenes.append(scene)\n",
    "\n",
    "# Concatenate scenes with time variable ***This is the slowest\n",
    "ts_scenes = xr.concat(scenes, dim=time_var)\n",
    "\n",
    "# Get epsg for Landsat images\n",
    "# epsg = item.metadata['proj:epsg']\n",
    "# epsg = ts_scenes.crs\n",
    "pix = ts_scenes.transform[0]\n",
    "\n",
    "ts_scenes"
   ]
  },
  {
   "cell_type": "code",
   "execution_count": null,
   "id": "71507c0f-b8a9-48ad-bf17-e3ed84dbd0fb",
   "metadata": {},
   "outputs": [],
   "source": [
    "sbands = ['blue', 'nir08', 'swir16','cirrus', 'lwir11']\n",
    "sub_box = 1\n",
    "\n",
    "# for t in thw.time.values:\n",
    "t = thw.time.values[-6]\n",
    "# Masks added to data\n",
    "image = thw.sel(time=t,band=sbands).where(thw.sel(time=t).mask != 2)# * buffer_mask\n",
    "\n",
    "if sub_box==1:\n",
    "    # And further subset to polynya location if desired \n",
    "    pulx = -1590700\n",
    "    puly = -428200\n",
    "    plrx = -1584000\n",
    "    plry = -433600\n",
    "    image = image.sel(y=slice(plry,puly),x=slice(pulx,plrx))\n",
    "\n",
    "# For use at the end for coordinates\n",
    "pol_y = image.y\n",
    "pol_x = image.x\n",
    "\n",
    "image = np.array(image.where(image.notnull(),0))\n",
    "image = np.moveaxis(image, 0, -1)\n",
    "\n",
    "n_band = image.shape[2]\n",
    "print (t)"
   ]
  },
  {
   "cell_type": "code",
   "execution_count": null,
   "id": "8dc7f1bb-890e-4d5f-9d79-1be56ee7d65d",
   "metadata": {},
   "outputs": [],
   "source": [
    "fig, (ax,ax1) = plt.subplots(ncols=2,figsize=(6,4))\n",
    "ax.imshow(image[:,:,0])\n",
    "ax.title.set_text('Subset window')\n",
    "(thw.sel(time=t,band='blue')).plot(ax=ax1)"
   ]
  },
  {
   "cell_type": "markdown",
   "id": "handy-watch",
   "metadata": {},
   "source": [
    "### NASA GIBS basemap\n",
    "\n",
    "NASA's [Global Imagery Browse Services (GIBS)](https://earthdata.nasa.gov/eosdis/science-system-description/eosdis-components/gibs) is a great Web Map Tile Service (WMTS) to visualize NASA data as pre-rendered tiled raster images. The NASA [Worldview](https://worldview.earthdata.nasa.gov) web application is a way to explore all GIBS datasets. We can also use ipyleaflet to explore GIBS datasets, like MODIS truecolor images, within a Jupyter Notebook. Use the slider in the image below to reveal the image from 2019-04-25:"
   ]
  },
  {
   "cell_type": "code",
   "execution_count": null,
   "id": "stylish-cincinnati",
   "metadata": {},
   "outputs": [],
   "source": []
  },
  {
   "cell_type": "markdown",
   "id": "40bb26cf-5651-4424-bab0-89bdc0b69ff1",
   "metadata": {},
   "source": [
    "### Exercise 1\n",
    "\n",
    "Re-create the map above using different tile layers for both the right and left columns. Label a single point of interest with a marker, such as the city of Grand Junction, Colorado."
   ]
  },
  {
   "cell_type": "code",
   "execution_count": null,
   "id": "21ccf31e-1919-45c2-9796-26f7bac25520",
   "metadata": {},
   "outputs": [],
   "source": [
    "# Add your solution for exercise 1 here!"
   ]
  },
  {
   "cell_type": "markdown",
   "id": "surrounded-amateur",
   "metadata": {},
   "source": [
    "## Summary\n",
    "\n",
    " 🎉 Congratulations! You've completely this tutorial and have seen how we can add  notebook can be formatted, and how to create interactive map visualization with ipyleaflet.\n",
    " \n",
    "\n",
    "```{note}\n",
    "You may have noticed Jupyter Book adds some extra formatting features that do not necessarily render as you might expect when *executing* a noteook in Jupyter Lab. This \"admonition\" note is one such example.\n",
    "```\n",
    "\n",
    ":::{warning}\n",
    "Jupyter Book is very particular about [Markdown header ordering](https://jupyterbook.org/structure/sections-headers.html?highlight=headers#how-headers-and-sections-map-onto-to-book-structure) to automatically create table of contents on the website. In this tutorial we are careful to use a single main header (#) and sequential subheaders (#, ##, ###, etc.)\n",
    ":::"
   ]
  },
  {
   "cell_type": "markdown",
   "id": "749f5c79-19d7-48ac-9421-852c3c83cc5f",
   "metadata": {},
   "source": [
    "## References\n",
    "\n",
    "To further explore the topics of this tutorial see the following detailed documentation:\n",
    "\n",
    "* [Jupyter Book rendering of .ipynb notebooks](https://jupyterbook.org/file-types/notebooks.html)\n",
    "* [Jupyter Book guide on writing narrative content](https://jupyterbook.org/content/index.html)\n",
    "* [ipyleaflet documentation](https://ipyleaflet.readthedocs.io)"
   ]
  }
 ],
 "metadata": {
  "kernelspec": {
   "display_name": "Python 3 (ipykernel)",
   "language": "python",
   "name": "python3"
  },
  "language_info": {
   "codemirror_mode": {
    "name": "ipython",
    "version": 3
   },
   "file_extension": ".py",
   "mimetype": "text/x-python",
   "name": "python",
   "nbconvert_exporter": "python",
   "pygments_lexer": "ipython3",
   "version": "3.9.10"
  }
 },
 "nbformat": 4,
 "nbformat_minor": 5
}
