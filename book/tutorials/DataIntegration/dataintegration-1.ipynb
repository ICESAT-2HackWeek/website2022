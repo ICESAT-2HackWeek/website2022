{
 "cells": [
  {
   "cell_type": "markdown",
   "id": "suffering-union",
   "metadata": {},
   "source": [
    "# Data integration with ICESat-2 - Part I\n",
    "\n",
    "```{admonition} Learning Objectives\n",
    "**Goals**\n",
    "- Identify and locate non-ICESat-2 data sets\n",
    "- Acquiring data from the cloud or via download\n",
    "- Open data in Pandas and Xarray and basic functioning of DataFrames\n",
    "```\n",
    "☝️ This formatting is a Jupyter Book [admonition](https://jupyterbook.org/content/content-blocks.html#notes-warnings-and-other-admonitions), that uses a custom version of Markdown called {term}`MyST`"
   ]
  },
  {
   "cell_type": "markdown",
   "id": "649d863c-5ad1-4b9f-9fa0-416ff04396a4",
   "metadata": {},
   "source": [
    "## Computing environment\n",
    "\n",
    "We'll be using the following open source Python libraries in this notebook:"
   ]
  },
  {
   "cell_type": "code",
   "execution_count": 1,
   "id": "2a5720d5-d805-4c24-a92e-a2238805cdbf",
   "metadata": {},
   "outputs": [
    {
     "ename": "KeyError",
     "evalue": "'widgets'",
     "output_type": "error",
     "traceback": [
      "\u001b[0;31m---------------------------------------------------------------------------\u001b[0m",
      "\u001b[0;31mKeyError\u001b[0m                                  Traceback (most recent call last)",
      "Input \u001b[0;32mIn [1]\u001b[0m, in \u001b[0;36m<module>\u001b[0;34m\u001b[0m\n\u001b[0;32m----> 1\u001b[0m \u001b[43mget_ipython\u001b[49m\u001b[43m(\u001b[49m\u001b[43m)\u001b[49m\u001b[38;5;241;43m.\u001b[39;49m\u001b[43mrun_line_magic\u001b[49m\u001b[43m(\u001b[49m\u001b[38;5;124;43m'\u001b[39;49m\u001b[38;5;124;43mmatplotlib\u001b[39;49m\u001b[38;5;124;43m'\u001b[39;49m\u001b[43m,\u001b[49m\u001b[43m \u001b[49m\u001b[38;5;124;43m'\u001b[39;49m\u001b[38;5;124;43mwidgets\u001b[39;49m\u001b[38;5;124;43m'\u001b[39;49m\u001b[43m)\u001b[49m\n\u001b[1;32m      2\u001b[0m \u001b[38;5;28;01mimport\u001b[39;00m \u001b[38;5;21;01msatsearch\u001b[39;00m\n\u001b[1;32m      3\u001b[0m \u001b[38;5;28mprint\u001b[39m(satsearch\u001b[38;5;241m.\u001b[39m__version__)\n",
      "File \u001b[0;32m/srv/conda/envs/notebook/lib/python3.9/site-packages/IPython/core/interactiveshell.py:2204\u001b[0m, in \u001b[0;36mInteractiveShell.run_line_magic\u001b[0;34m(self, magic_name, line, _stack_depth)\u001b[0m\n\u001b[1;32m   2202\u001b[0m     kwargs[\u001b[38;5;124m'\u001b[39m\u001b[38;5;124mlocal_ns\u001b[39m\u001b[38;5;124m'\u001b[39m] \u001b[38;5;241m=\u001b[39m \u001b[38;5;28mself\u001b[39m\u001b[38;5;241m.\u001b[39mget_local_scope(stack_depth)\n\u001b[1;32m   2203\u001b[0m \u001b[38;5;28;01mwith\u001b[39;00m \u001b[38;5;28mself\u001b[39m\u001b[38;5;241m.\u001b[39mbuiltin_trap:\n\u001b[0;32m-> 2204\u001b[0m     result \u001b[38;5;241m=\u001b[39m \u001b[43mfn\u001b[49m\u001b[43m(\u001b[49m\u001b[38;5;241;43m*\u001b[39;49m\u001b[43margs\u001b[49m\u001b[43m,\u001b[49m\u001b[43m \u001b[49m\u001b[38;5;241;43m*\u001b[39;49m\u001b[38;5;241;43m*\u001b[39;49m\u001b[43mkwargs\u001b[49m\u001b[43m)\u001b[49m\n\u001b[1;32m   2205\u001b[0m \u001b[38;5;28;01mreturn\u001b[39;00m result\n",
      "File \u001b[0;32m/srv/conda/envs/notebook/lib/python3.9/site-packages/IPython/core/magics/pylab.py:99\u001b[0m, in \u001b[0;36mPylabMagics.matplotlib\u001b[0;34m(self, line)\u001b[0m\n\u001b[1;32m     97\u001b[0m     \u001b[38;5;28mprint\u001b[39m(\u001b[38;5;124m\"\u001b[39m\u001b[38;5;124mAvailable matplotlib backends: \u001b[39m\u001b[38;5;132;01m%s\u001b[39;00m\u001b[38;5;124m\"\u001b[39m \u001b[38;5;241m%\u001b[39m backends_list)\n\u001b[1;32m     98\u001b[0m \u001b[38;5;28;01melse\u001b[39;00m:\n\u001b[0;32m---> 99\u001b[0m     gui, backend \u001b[38;5;241m=\u001b[39m \u001b[38;5;28;43mself\u001b[39;49m\u001b[38;5;241;43m.\u001b[39;49m\u001b[43mshell\u001b[49m\u001b[38;5;241;43m.\u001b[39;49m\u001b[43menable_matplotlib\u001b[49m\u001b[43m(\u001b[49m\u001b[43margs\u001b[49m\u001b[38;5;241;43m.\u001b[39;49m\u001b[43mgui\u001b[49m\u001b[38;5;241;43m.\u001b[39;49m\u001b[43mlower\u001b[49m\u001b[43m(\u001b[49m\u001b[43m)\u001b[49m\u001b[43m \u001b[49m\u001b[38;5;28;43;01mif\u001b[39;49;00m\u001b[43m \u001b[49m\u001b[38;5;28;43misinstance\u001b[39;49m\u001b[43m(\u001b[49m\u001b[43margs\u001b[49m\u001b[38;5;241;43m.\u001b[39;49m\u001b[43mgui\u001b[49m\u001b[43m,\u001b[49m\u001b[43m \u001b[49m\u001b[38;5;28;43mstr\u001b[39;49m\u001b[43m)\u001b[49m\u001b[43m \u001b[49m\u001b[38;5;28;43;01melse\u001b[39;49;00m\u001b[43m \u001b[49m\u001b[43margs\u001b[49m\u001b[38;5;241;43m.\u001b[39;49m\u001b[43mgui\u001b[49m\u001b[43m)\u001b[49m\n\u001b[1;32m    100\u001b[0m     \u001b[38;5;28mself\u001b[39m\u001b[38;5;241m.\u001b[39m_show_matplotlib_backend(args\u001b[38;5;241m.\u001b[39mgui, backend)\n",
      "File \u001b[0;32m/srv/conda/envs/notebook/lib/python3.9/site-packages/IPython/core/interactiveshell.py:3328\u001b[0m, in \u001b[0;36mInteractiveShell.enable_matplotlib\u001b[0;34m(self, gui)\u001b[0m\n\u001b[1;32m   3326\u001b[0m \u001b[38;5;28;01mfrom\u001b[39;00m \u001b[38;5;21;01mIPython\u001b[39;00m\u001b[38;5;21;01m.\u001b[39;00m\u001b[38;5;21;01mcore\u001b[39;00m \u001b[38;5;28;01mimport\u001b[39;00m pylabtools \u001b[38;5;28;01mas\u001b[39;00m pt\n\u001b[1;32m   3327\u001b[0m \u001b[38;5;28;01mfrom\u001b[39;00m \u001b[38;5;21;01mmatplotlib_inline\u001b[39;00m\u001b[38;5;21;01m.\u001b[39;00m\u001b[38;5;21;01mbackend_inline\u001b[39;00m \u001b[38;5;28;01mimport\u001b[39;00m configure_inline_support\n\u001b[0;32m-> 3328\u001b[0m gui, backend \u001b[38;5;241m=\u001b[39m \u001b[43mpt\u001b[49m\u001b[38;5;241;43m.\u001b[39;49m\u001b[43mfind_gui_and_backend\u001b[49m\u001b[43m(\u001b[49m\u001b[43mgui\u001b[49m\u001b[43m,\u001b[49m\u001b[43m \u001b[49m\u001b[38;5;28;43mself\u001b[39;49m\u001b[38;5;241;43m.\u001b[39;49m\u001b[43mpylab_gui_select\u001b[49m\u001b[43m)\u001b[49m\n\u001b[1;32m   3330\u001b[0m \u001b[38;5;28;01mif\u001b[39;00m gui \u001b[38;5;241m!=\u001b[39m \u001b[38;5;124m'\u001b[39m\u001b[38;5;124minline\u001b[39m\u001b[38;5;124m'\u001b[39m:\n\u001b[1;32m   3331\u001b[0m     \u001b[38;5;66;03m# If we have our first gui selection, store it\u001b[39;00m\n\u001b[1;32m   3332\u001b[0m     \u001b[38;5;28;01mif\u001b[39;00m \u001b[38;5;28mself\u001b[39m\u001b[38;5;241m.\u001b[39mpylab_gui_select \u001b[38;5;129;01mis\u001b[39;00m \u001b[38;5;28;01mNone\u001b[39;00m:\n",
      "File \u001b[0;32m/srv/conda/envs/notebook/lib/python3.9/site-packages/IPython/core/pylabtools.py:321\u001b[0m, in \u001b[0;36mfind_gui_and_backend\u001b[0;34m(gui, gui_select)\u001b[0m\n\u001b[1;32m    317\u001b[0m \u001b[38;5;28;01mimport\u001b[39;00m \u001b[38;5;21;01mmatplotlib\u001b[39;00m\n\u001b[1;32m    319\u001b[0m \u001b[38;5;28;01mif\u001b[39;00m gui \u001b[38;5;129;01mand\u001b[39;00m gui \u001b[38;5;241m!=\u001b[39m \u001b[38;5;124m'\u001b[39m\u001b[38;5;124mauto\u001b[39m\u001b[38;5;124m'\u001b[39m:\n\u001b[1;32m    320\u001b[0m     \u001b[38;5;66;03m# select backend based on requested gui\u001b[39;00m\n\u001b[0;32m--> 321\u001b[0m     backend \u001b[38;5;241m=\u001b[39m \u001b[43mbackends\u001b[49m\u001b[43m[\u001b[49m\u001b[43mgui\u001b[49m\u001b[43m]\u001b[49m\n\u001b[1;32m    322\u001b[0m     \u001b[38;5;28;01mif\u001b[39;00m gui \u001b[38;5;241m==\u001b[39m \u001b[38;5;124m'\u001b[39m\u001b[38;5;124magg\u001b[39m\u001b[38;5;124m'\u001b[39m:\n\u001b[1;32m    323\u001b[0m         gui \u001b[38;5;241m=\u001b[39m \u001b[38;5;28;01mNone\u001b[39;00m\n",
      "\u001b[0;31mKeyError\u001b[0m: 'widgets'"
     ]
    }
   ],
   "source": [
    "%matplotlib widgets\n",
    "import satsearch\n",
    "print(satsearch.__version__)\n",
    "# print(satsearch.config.API_URL)\n",
    "from satsearch import Search\n",
    "import geopandas as gpd\n",
    "import ast\n",
    "import pandas as pd\n",
    "import geoviews as gv\n",
    "import hvplot.pandas\n",
    "from ipywidgets import interact\n",
    "from IPython.display import display, Image\n",
    "import intake # if you've installed intake-STAC, it will automatically import alongside intake\n",
    "import xarray as xr\n",
    "import matplotlib.pyplot as plt\n",
    "import boto3\n",
    "import rasterio as rio\n",
    "from rasterio.session import AWSSession\n",
    "from rasterio.plot import show\n",
    "from dask.utils import SerializableLock\n",
    "import os\n",
    "import hvplot.xarray\n",
    "import numpy as np\n",
    "from pyproj import Proj, transform\n",
    "\n",
    "# Suppress library deprecation warnings\n",
    "import warnings\n",
    "warnings.filterwarnings('ignore')"
   ]
  },
  {
   "cell_type": "code",
   "execution_count": null,
   "id": "29f0ca2b-8f04-4825-82e0-920ef67be0c7",
   "metadata": {},
   "outputs": [],
   "source": [
    "# Sets up credentials for acquiring images through dask/xarray\n",
    "os.environ[\"AWS_REQUEST_PAYER\"] = \"requester\""
   ]
  },
  {
   "cell_type": "markdown",
   "id": "d73344a2-f797-4218-a99f-a9db0338f002",
   "metadata": {},
   "source": [
    "## Data\n",
    "\n",
    "We will examine raster images from the [MODIS instrument](https://modis.gsfc.nasa.gov/data/). \"MODIS\" stands for \"MODerate Resolution SpectroRadiometer\". Moderate resolution refers to the fact that MODIS data has at best a 250 meter pixel posting, but single images cover hundreds of kilometers, enabling [daily views of the entire globe](https://worldview.earthdata.nasa.gov/):\n",
    "\n",
    "\n",
    ":::{figure-md} modis\n",
    "<img src=\"https://eoimages.gsfc.nasa.gov/images/imagerecords/0/687/world_2000_110_rgb143.jpg\" alt=\"modis day 1\" width=\"800px\">\n",
    "\n",
    "Mosaic MODIS image from the first complete day of coverage, June 30, 2000\n",
    ":::\n",
    "\n",
    "☝️ This formatting is a Jupyter Book [markdown figure](https://jupyterbook.org/content/figures.html#markdown-figures)\n",
    "\n",
    "Note there are two identical MODIS instruments on separate satellites\n",
    "\n",
    "| Satellite | Launch date |\n",
    "| - | -|\n",
    "| Terra | December 18, 1999 | \n",
    "| Aqua | May 4, 2002 | "
   ]
  },
  {
   "cell_type": "markdown",
   "id": "5b99d916-deb8-4af0-9fce-1e38e5c18d87",
   "metadata": {},
   "source": [
    "## Find desired Landsat or Sentinel-2 images in the cloud"
   ]
  },
  {
   "cell_type": "code",
   "execution_count": null,
   "id": "24141fa8-38eb-4ddb-a585-b8805c7cfd85",
   "metadata": {},
   "outputs": [],
   "source": [
    "# Search for Landsat images based on a bounding box, date and other metadata if desired\n",
    "# Save to geojson file\n",
    "# NOTE this STAC API endpoint does not currently search the entire catalog\n",
    "\n",
    "satellite = 'Landsat8'\n",
    "\n",
    "bbox = (-105.30, -74.970, -105.08, -74.920) #(west, south, east, north) \n",
    "\n",
    "# timeRange = '2013-06-01/2014-06-30'\n",
    "# timeRange = '2014-06-01/2015-06-30'\n",
    "# timeRange = '2015-06-01/2016-06-30'\n",
    "# timeRange = '2016-06-01/2017-06-30'\n",
    "# timeRange = '2017-06-01/2018-06-30'\n",
    "# timeRange = '2018-06-01/2019-06-30'\n",
    "# timeRange = '2019-06-01/2020-06-30'\n",
    "# timeRange = '2020-06-01/2021-06-30'\n",
    "timeRange = '2022-01-20/2022-01-30'\n",
    "\n",
    "if satellite=='Landsat8':\n",
    "    url = 'https://ibhoyw8md9.execute-api.us-west-2.amazonaws.com/prod'\n",
    "    collection = 'usgs-landsat/collection02/'\n",
    "    band = 'blue'\n",
    "    colnm = ['landsat:wrs_path','landsat:wrs_row']\n",
    "    end = '_T2' # end of file name if don't want all\n",
    "    qa_band = 'qa_pixel'\n",
    "elif satellite=='Sentinel2':\n",
    "    url = 'https://earth-search.aws.element84.com/v0' # maybe also https://services.sentinel-hub.com/api/v1/catalog/\n",
    "    collection = 'sentinel-s2-l2a-cogs'\n",
    "    band = 'B02'\n",
    "    colnm = ['sentinel:latitude_band','sentinel:grid_square']\n",
    "    end = 'L2A'\n",
    "    qa_band = 'SCL'\n",
    "elif satellite=='Sentinel1': ### Doesn't work\n",
    "    url = 'http://eocloud.sentinel-hub.com/search'\n",
    "    collection = 'sentinel-s1-rtc-indigo'\n",
    "    \n",
    "results = Search.search(url=url,\n",
    "                        collection=collection,\n",
    "                        datetime=timeRange,\n",
    "                        bbox=bbox,    \n",
    "                        # properties=properties,\n",
    "                        sort=['<datetime'])\n",
    "\n",
    "print('%s items' % results.found())\n",
    "items = results.items()\n",
    "items.save(f'/home/jovyan/shared-readwrite/geostacks/polynyas/{satellite}.geojson')"
   ]
  },
  {
   "cell_type": "code",
   "execution_count": null,
   "id": "equipped-qualification",
   "metadata": {},
   "outputs": [],
   "source": [
    "# Load the geojson file\n",
    "gf = gpd.read_file(f'/home/jovyan/shared-readwrite/geostacks/polynyas/{satellite}.geojson')\n",
    "gf.head()"
   ]
  },
  {
   "cell_type": "code",
   "execution_count": null,
   "id": "7982ba19-51b2-4515-a4f4-e6f28e38d6ff",
   "metadata": {},
   "outputs": [],
   "source": [
    "gf.columns"
   ]
  },
  {
   "cell_type": "code",
   "execution_count": null,
   "id": "1d6dcf7c-e970-417d-ad4c-8e8c9540b73f",
   "metadata": {},
   "outputs": [],
   "source": [
    "# Plot search AOI and frames on a map using Holoviz Libraries (more on these later)\n",
    "cols = gf.loc[:,('id',colnm[0],colnm[1],'geometry')]\n",
    "alpha = 1/results.found()**0.5 # transparency scales w number of images\n",
    "\n",
    "footprints = cols.hvplot(geo=True, line_color='k', hover_cols=[colnm[0],colnm[1]], alpha=alpha, title=satellite)\n",
    "# footprints = cols.hvplot(geo=True, line_color='k', hover_cols=['landsat:wrs_path','landsat:wrs_row'], alpha=0.1, title='Landsat 8 T1')\n",
    "tiles = gv.tile_sources.CartoEco.options(width=700, height=500) \n",
    "labels = gv.tile_sources.StamenLabels.options(level='annotation')\n",
    "tiles * footprints * labels"
   ]
  },
  {
   "cell_type": "code",
   "execution_count": null,
   "id": "44d87346-2156-4494-83c6-bef0a2f41996",
   "metadata": {},
   "outputs": [],
   "source": [
    "# Need to set up proper credentials for acquiring data through rasterio\n",
    "aws_session = AWSSession(boto3.Session(), requester_pays=True)"
   ]
  },
  {
   "cell_type": "markdown",
   "id": "fb0a6ed8-2743-45a6-82ed-eea895349d17",
   "metadata": {},
   "source": [
    "## Intake all scenes and add cloud mask - intake-STAC"
   ]
  },
  {
   "cell_type": "code",
   "execution_count": null,
   "id": "e68f38d9-f8cb-4e84-89d1-6428702f9298",
   "metadata": {},
   "outputs": [],
   "source": [
    "catalog = intake.open_stac_item_collection(items)\n",
    "# list(catalog)"
   ]
  },
  {
   "cell_type": "code",
   "execution_count": null,
   "id": "350a3220-bf2b-4034-99e3-4ff3c2888ccf",
   "metadata": {},
   "outputs": [],
   "source": [
    "# # Retrieve scene using rio\n",
    "# item_num = 0\n",
    "# if satellite=='Landsat8':\n",
    "#     item_url = items[item_num].asset(band)['alternate']['s3']['href']\n",
    "# elif satellite=='Sentinel2':\n",
    "#     item_url = items[item_num].asset('red')['href']\n",
    "\n",
    "# # Read and plot with grid coordinates \n",
    "# with rio.Env(aws_session):\n",
    "#     with rio.open(item_url) as src:\n",
    "#         fig, ax = plt.subplots(figsize=(9,8))\n",
    "#         show(src,1)\n",
    "#         profile = src.profile\n",
    "#         arr = src.read(1)\n",
    "\n",
    "# # Plot by index\n",
    "# fig, ax = plt.subplots(figsize=(6,5))\n",
    "# plt.imshow(arr)"
   ]
  },
  {
   "cell_type": "code",
   "execution_count": null,
   "id": "8d060aa4-eaa4-4030-bd57-d6c55a05e362",
   "metadata": {},
   "outputs": [],
   "source": [
    "# Load dask, suppress warnings, each worker needs to run as requester pays\n",
    "from dask.distributed import Client\n",
    "import logging\n",
    "client = Client(processes=True, n_workers=4, \n",
    "                threads_per_worker=1,\n",
    "                silence_logs=logging.ERROR)\n",
    "client.run(lambda: os.environ[\"AWS_REQUEST_PAYER\"] == \"requester\" )\n",
    "client"
   ]
  },
  {
   "cell_type": "code",
   "execution_count": null,
   "id": "33ae28dc-51f2-4041-ad5a-16f29437467b",
   "metadata": {},
   "outputs": [],
   "source": [
    "sceneid = list(catalog)\n",
    "sceneid"
   ]
  },
  {
   "cell_type": "code",
   "execution_count": null,
   "id": "18488506-2397-4a14-a732-a785cd279f9d",
   "metadata": {},
   "outputs": [],
   "source": [
    "# Import to xarray with cloud mask  ***This is slow\n",
    "# nans are in locations where concat of multiple scenes has expanded the grid\n",
    "# Would like to use SR for all bands except TIR, but they are not available for many scenes so would\n",
    "# need a separate model for scenes with SR and those without.\n",
    "scenes = []\n",
    "\n",
    "# Create time variable for time dim\n",
    "time_var = xr.Variable('time',gf.loc[gf.id.isin([item for item in sceneid if item.endswith('_T2')])]['datetime'])\n",
    "# time_var = xr.Variable('time', time_index_from_filenames(s3_links))\n",
    "\n",
    "# hls_ts_da = xr.concat([rioxarray.open_rasterio(f, chunks=chunks).squeeze('band', drop=True) for f in s3_links], dim=time)\n",
    "# hls_ts_da\n",
    "\n",
    "# hls_ts_da_data = hls_ts_da.load()\n",
    "    \n",
    "    \n",
    "for item in sceneid:\n",
    "    if item.endswith('_T2'):\n",
    "        item = catalog[item]\n",
    "        print (item.name)\n",
    "        \n",
    "        bands = []\n",
    "        band_names = []\n",
    "        \n",
    "        # Get band names\n",
    "        for k in item.keys():\n",
    "            M = getattr(item, k).metadata\n",
    "            if 'eo:bands' in M:\n",
    "                resol = M['eo:bands'][0]['gsd']\n",
    "#                 print(k, resol)\n",
    "                if resol >= 30: # thermal bands are up sampled from 100 to 30\n",
    "                    band_names.append(k)\n",
    "                    \n",
    "        # Add qa band\n",
    "        band_names.append('qa_pixel')\n",
    "        \n",
    "        # Construct xarray for scene\n",
    "        for band_name in band_names:\n",
    "            band = item[band_name](chunks=dict(band=1, x=2048, y=2048),urlpath=item[band_name].metadata['alternate']['s3']['href']).to_dask() # Specify chunk size, landsat is prob in 512 chunks so used multiple\n",
    "            band['band'] = [band_name]\n",
    "#           band = band.expand_dims(time=[pd.to_datetime(item.metadata['datetime'])]) # doesn't give right dates\n",
    "            bands.append(band)\n",
    "        scene = xr.concat(bands, dim='band')\n",
    "        \n",
    "        # Create and add cloud mask (this mask is technically everything except nan,ocean,ice clear sky)\n",
    "        # 1 is no data, 21952 is ocean, 30048 is ice (can change this to add more)\n",
    "        # Access mask via 'ts_scenes.isel(time=0).mask'\n",
    "        qa = scene.sel(band='qa_pixel')\n",
    "        cond = np.logical_or((qa.isin(ocean))|(qa.isin(ice)), qa==1)\n",
    "#         cond = np.logical_or((qa==21952)|(qa==30048), qa==1)\n",
    "        qa_c = qa.where(~cond, np.nan)\n",
    "        cond = np.logical_or((qa_c.isin(ocean))|(qa_c.isin(ice)), qa_c==1)\n",
    "        mask_c = qa_c.where(qa_c.isnull(),2) # cloud = 2\n",
    "        \n",
    "        # For optional ice mask\n",
    "        qa_io = qa.where(qa.isin(ice), np.nan)\n",
    "        mask_io = qa_io.where(~(qa_io.isin(ice)),1) # ice = 1\n",
    "        mask_c = mask_io.where(mask_io==1,mask_c)\n",
    "\n",
    "        scene.coords['mask'] = (('y', 'x'), mask_c.data)\n",
    "        scenes.append(scene)\n",
    "\n",
    "# Concatenate scenes with time variable ***This is the slowest\n",
    "ts_scenes = xr.concat(scenes, dim=time_var)\n",
    "\n",
    "# Get epsg for Landsat images\n",
    "# epsg = item.metadata['proj:epsg']\n",
    "# epsg = ts_scenes.crs\n",
    "pix = ts_scenes.transform[0]\n",
    "\n",
    "ts_scenes"
   ]
  },
  {
   "cell_type": "code",
   "execution_count": null,
   "id": "71507c0f-b8a9-48ad-bf17-e3ed84dbd0fb",
   "metadata": {},
   "outputs": [],
   "source": [
    "sbands = ['blue', 'nir08', 'swir16','cirrus', 'lwir11']\n",
    "sub_box = 1\n",
    "\n",
    "# for t in thw.time.values:\n",
    "t = thw.time.values[-6]\n",
    "# Masks added to data\n",
    "image = thw.sel(time=t,band=sbands).where(thw.sel(time=t).mask != 2)# * buffer_mask\n",
    "\n",
    "if sub_box==1:\n",
    "    # And further subset to polynya location if desired \n",
    "    pulx = -1590700\n",
    "    puly = -428200\n",
    "    plrx = -1584000\n",
    "    plry = -433600\n",
    "    image = image.sel(y=slice(plry,puly),x=slice(pulx,plrx))\n",
    "\n",
    "# For use at the end for coordinates\n",
    "pol_y = image.y\n",
    "pol_x = image.x\n",
    "\n",
    "image = np.array(image.where(image.notnull(),0))\n",
    "image = np.moveaxis(image, 0, -1)\n",
    "\n",
    "n_band = image.shape[2]\n",
    "print (t)"
   ]
  },
  {
   "cell_type": "code",
   "execution_count": null,
   "id": "8dc7f1bb-890e-4d5f-9d79-1be56ee7d65d",
   "metadata": {},
   "outputs": [],
   "source": [
    "fig, (ax,ax1) = plt.subplots(ncols=2,figsize=(6,4))\n",
    "ax.imshow(image[:,:,0])\n",
    "ax.title.set_text('Subset window')\n",
    "(thw.sel(time=t,band='blue')).plot(ax=ax1)"
   ]
  },
  {
   "cell_type": "markdown",
   "id": "handy-watch",
   "metadata": {},
   "source": [
    "### NASA GIBS basemap\n",
    "\n",
    "NASA's [Global Imagery Browse Services (GIBS)](https://earthdata.nasa.gov/eosdis/science-system-description/eosdis-components/gibs) is a great Web Map Tile Service (WMTS) to visualize NASA data as pre-rendered tiled raster images. The NASA [Worldview](https://worldview.earthdata.nasa.gov) web application is a way to explore all GIBS datasets. We can also use ipyleaflet to explore GIBS datasets, like MODIS truecolor images, within a Jupyter Notebook. Use the slider in the image below to reveal the image from 2019-04-25:"
   ]
  },
  {
   "cell_type": "code",
   "execution_count": null,
   "id": "stylish-cincinnati",
   "metadata": {},
   "outputs": [],
   "source": [
    "m = Map(center=bbox_ctr, zoom=6)\n",
    "\n",
    "right_layer = basemap_to_tiles(basemaps.NASAGIBS.ModisTerraTrueColorCR, \"2019-04-25\")\n",
    "left_layer = TileLayer()\n",
    "control = SplitMapControl(left_layer=left_layer, right_layer=right_layer)\n",
    "m.add_control(control)\n",
    "\n",
    "m.add_layer(rectangle)\n",
    "\n",
    "m"
   ]
  },
  {
   "cell_type": "markdown",
   "id": "40bb26cf-5651-4424-bab0-89bdc0b69ff1",
   "metadata": {},
   "source": [
    "### Exercise 1\n",
    "\n",
    "Re-create the map above using different tile layers for both the right and left columns. Label a single point of interest with a marker, such as the city of Grand Junction, Colorado."
   ]
  },
  {
   "cell_type": "code",
   "execution_count": null,
   "id": "21ccf31e-1919-45c2-9796-26f7bac25520",
   "metadata": {},
   "outputs": [],
   "source": [
    "# Add your solution for exercise 1 here!"
   ]
  },
  {
   "cell_type": "markdown",
   "id": "surrounded-amateur",
   "metadata": {},
   "source": [
    "## Summary\n",
    "\n",
    " 🎉 Congratulations! You've completely this tutorial and have seen how we can add  notebook can be formatted, and how to create interactive map visualization with ipyleaflet.\n",
    " \n",
    "\n",
    "```{note}\n",
    "You may have noticed Jupyter Book adds some extra formatting features that do not necessarily render as you might expect when *executing* a noteook in Jupyter Lab. This \"admonition\" note is one such example.\n",
    "```\n",
    "\n",
    ":::{warning}\n",
    "Jupyter Book is very particular about [Markdown header ordering](https://jupyterbook.org/structure/sections-headers.html?highlight=headers#how-headers-and-sections-map-onto-to-book-structure) to automatically create table of contents on the website. In this tutorial we are careful to use a single main header (#) and sequential subheaders (#, ##, ###, etc.)\n",
    ":::"
   ]
  },
  {
   "cell_type": "markdown",
   "id": "749f5c79-19d7-48ac-9421-852c3c83cc5f",
   "metadata": {},
   "source": [
    "## References\n",
    "\n",
    "To further explore the topics of this tutorial see the following detailed documentation:\n",
    "\n",
    "* [Jupyter Book rendering of .ipynb notebooks](https://jupyterbook.org/file-types/notebooks.html)\n",
    "* [Jupyter Book guide on writing narrative content](https://jupyterbook.org/content/index.html)\n",
    "* [ipyleaflet documentation](https://ipyleaflet.readthedocs.io)"
   ]
  }
 ],
 "metadata": {
  "kernelspec": {
   "display_name": "Python 3 (ipykernel)",
   "language": "python",
   "name": "python3"
  },
  "language_info": {
   "codemirror_mode": {
    "name": "ipython",
    "version": 3
   },
   "file_extension": ".py",
   "mimetype": "text/x-python",
   "name": "python",
   "nbconvert_exporter": "python",
   "pygments_lexer": "ipython3",
   "version": "3.9.10"
  }
 },
 "nbformat": 4,
 "nbformat_minor": 5
}
