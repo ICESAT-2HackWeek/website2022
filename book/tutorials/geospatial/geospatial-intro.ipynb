{
 "cells": [
  {
   "cell_type": "markdown",
   "id": "429d3523-171d-48fc-a71a-20f0831b90e9",
   "metadata": {
    "tags": []
   },
   "source": [
    "# Geospatial Transforms\n",
    "\n",
    "Instructors: [Tyler Sutterley](mailto:tsutterl@uw.edu), [Hannah Besso](mailto:bessoh2@uw.edu) and [Scott Henderson](mailto:scottyh@uw.edu), some material adapted from [David Shean](mailto:dshean@uw.edu)\n",
    "\n",
    "```{admonition} Learning Objectives\n",
    "- Review fundamental concepts of coordinate reference systems\n",
    "- Learn how to access coordinate reference metadata\n",
    "- Learn basic coordinate transformations\n",
    "```\n",
    "\n",
    "## Introduction\n",
    "\n",
    "ICESat-2 elevations are spatial point data. Spatial data contains information about where on the surface of the Earth a certain feature is located, and there are many different ways to define this location. \n",
    "\n",
    "Two main characteristics of the Earth make defining locations difficult: \n",
    "\n",
    "1) Its shape is 3-dimensional (working with spatial data would be a lot easier if the world were flat!) \n",
    "\n",
    "2) Paper maps and computer screens are flat, which causes issues when we try to use them to display rounded shapes (like the Earth's surface). Making things even more difficult, the irregular shape of the Earth means there is no one perfect model of its surface on which we could place our spatial data points. Instead, we're left with many models of the Earth's surface that are optimized for different locations and purposes. "
   ]
  },
  {
   "cell_type": "code",
   "execution_count": null,
   "id": "931d2edd-2b09-4300-98c2-fd979a797417",
   "metadata": {},
   "outputs": [],
   "source": [
    "import geopandas as gpd\n",
    "import matplotlib.patches\n",
    "import matplotlib.pyplot as plt\n",
    "from mpl_toolkits import mplot3d\n",
    "import netCDF4\n",
    "import numpy as np\n",
    "import osgeo.gdal, osgeo.osr\n",
    "import pyproj\n",
    "import rasterio\n",
    "import rasterio.features\n",
    "import rasterio.warp\n",
    "import re\n",
    "import warnings\n",
    "# turn off warnings\n",
    "warnings.filterwarnings('ignore')\n",
    "from IPython.display import Image\n",
    "%matplotlib inline"
   ]
  },
  {
   "cell_type": "markdown",
   "id": "b5318b53-cd24-4f3c-b97c-46ae3b331e4d",
   "metadata": {},
   "source": [
    "## Let's Start by Making a Map\n",
    "\n",
    "\n",
    "**Q: Why would we use maps to display geographic data?**"
   ]
  },
  {
   "cell_type": "code",
   "execution_count": null,
   "id": "cb996c9b-e446-46d3-a020-23076b9910a5",
   "metadata": {},
   "outputs": [],
   "source": [
    "# Load a dataset consisting of land polygons\n",
    "world = gpd.read_file(gpd.datasets.get_path('naturalearth_lowres'))"
   ]
  },
  {
   "cell_type": "code",
   "execution_count": null,
   "id": "575980bc-0ddc-4a25-9051-cca495f4ecae",
   "metadata": {},
   "outputs": [],
   "source": [
    "fig,ax1 = plt.subplots(num=1, figsize=(10,4.55))\n",
    "minlon,maxlon,minlat,maxlat = (-180,180,-90,90)\n",
    "\n",
    "world.plot(ax=ax1, color='0.8', edgecolor='none')\n",
    "\n",
    "# set x and y limits\n",
    "ax1.set_xlim(minlon,maxlon)\n",
    "ax1.set_ylim(minlat,maxlat)\n",
    "ax1.set_aspect('equal', adjustable='box')\n",
    "\n",
    "# add x and y labels\n",
    "ax1.set_xlabel('Longitude')\n",
    "ax1.set_ylabel('Latitude')\n",
    "\n",
    "# adjust subplot positioning and show\n",
    "fig.subplots_adjust(left=0.06,right=0.98,bottom=0.08,top=0.98)"
   ]
  },
  {
   "cell_type": "markdown",
   "id": "9f74063f-6109-4f94-a74f-c081d75cdd5b",
   "metadata": {},
   "source": [
    "**Q: So how did we just display a rounded shape on a flat surface?**"
   ]
  },
  {
   "cell_type": "markdown",
   "id": "926223ce-e67a-4cc8-a63d-6ea242a50f50",
   "metadata": {},
   "source": [
    "Geographic Coordinate Systems\n",
    "-----------------------------\n",
    "Locations on Earth are usually specified in a geographic coordinate system consisting of\n",
    "- _Longitude_ specifies the angle east and west from the Prime Meridian (102 meters east of the Royal Observatory at Greenwich)\n",
    "- _Latitude_ specifies the angle north and south from the Equator\n",
    "\n",
    "The map above _projects_ geographic data from the Earth's 3-dimensional geometry on to a flat surface.  [The three common types of projections are _cylindric_, _conic_ and _planar_](https://courses.washington.edu/gis250/lessons/projection/).  Each type is a different way of flattening the Earth's geometry into 2-dimensional space.\n",
    "\n",
    "This map is in an _Equirectangular Projection_ (Plate Carrée), where latitude and longitude are equally spaced.  Equirectangular is cylindrical projection, which has benefits as latitudes and longitudes form straight lines.  However, this projection distorts both _shape_ and _distance_, particularly at higher latitudes.\n",
    "\n",
    "To illustrate this, check out the normalized grid area at different latitudes on the map below:"
   ]
  },
  {
   "cell_type": "code",
   "execution_count": null,
   "id": "5d5201c0-d123-460d-bc0c-d72ac8bd8df8",
   "metadata": {},
   "outputs": [],
   "source": [
    "fig,ax1 = plt.subplots(num=1, figsize=(10.375,5.0))\n",
    "minlon,maxlon,minlat,maxlat = (-180,180,-90,90)\n",
    "dlon,dlat = (1.0,1.0)\n",
    "longitude = np.arange(minlon,maxlon+dlon,dlon)\n",
    "latitude = np.arange(minlat,maxlat+dlat,dlat)\n",
    "# calculate and plot grid area\n",
    "gridlon,gridlat = np.meshgrid(longitude, latitude)\n",
    "im = ax1.imshow(np.cos(gridlat*np.pi/180.0),\n",
    "    extent=(minlon,maxlon,minlat,maxlat), \n",
    "    interpolation='nearest',\n",
    "    cmap=plt.cm.get_cmap('plasma'),\n",
    "    origin='lower')\n",
    "# add coastlines\n",
    "world = gpd.read_file(gpd.datasets.get_path('naturalearth_lowres'))\n",
    "world.plot(ax=ax1, color='none', edgecolor='black')\n",
    "# set x and y limits\n",
    "ax1.set_xlim(minlon,maxlon)\n",
    "ax1.set_ylim(minlat,maxlat)\n",
    "ax1.set_aspect('equal', adjustable='box')\n",
    "# add x and y labels\n",
    "ax1.set_xlabel('Longitude')\n",
    "ax1.set_ylabel('Latitude')\n",
    "# add colorbar\n",
    "cbar = plt.colorbar(im, cax=fig.add_axes([0.92, 0.08, 0.025, 0.90]))\n",
    "cbar.ax.set_ylabel('Normalized Grid Area')\n",
    "cbar.solids.set_rasterized(True)\n",
    "# adjust subplot and show\n",
    "fig.subplots_adjust(left=0.06,right=0.9,bottom=0.08,top=0.98)"
   ]
  },
  {
   "cell_type": "markdown",
   "id": "56bac36c-280f-4d76-8edc-a3ef6b2285b9",
   "metadata": {},
   "source": [
    "### The Components of a Coordinate Reference System (CRS):\n",
    "\n",
    "* **Projection Information:** the mathematical equation used to flatten objects that are on a round surface (e.g. the earth) so you can view them on a flat surface (e.g. your computer screens or a paper map).* **Projection Information:** the mathematical equation used to flatten objects that are on a round surface (e.g. the earth) so you can view them on a flat surface (e.g. your computer screens or a paper map).\n",
    "* **Coordinate System:** the X, Y, and Z grid upon which your data is overlaid and how you define where a point is located in space.\n",
    "* **Horizontal and vertical units:** The units used to define the grid along the x, y (and z) axis.\n",
    "* **Datum:** A modeled version of the shape of the earth which defines the origin used to place the coordinate system in space. \n",
    "\n",
    "Borrowed from [Earth Data Science](https://www.earthdatascience.org/courses/use-data-open-source-python/intro-vector-data-python/spatial-data-vector-shapefiles/intro-to-coordinate-reference-systems-python/)"
   ]
  },
  {
   "cell_type": "markdown",
   "id": "a338a774-0994-49d3-bc30-6c9c861af09f",
   "metadata": {},
   "source": [
    "### Notes on Projections\n",
    "\n",
    "* _There is no perfect projection for all purposes_\n",
    "\n",
    "* Not all maps are good for ocean or land navigation\n",
    "\n",
    "* Not all projections are good for polar mapping\n",
    "\n",
    "* Every projection will distort either shape, area, distance or direction:\n",
    "     * _conformal_ projections minimize distortion in shape\n",
    "     * _equal-area_ projections minimize distortion in area\n",
    "     * _equidistant_ projections minimize distortion in distance\n",
    "     * _true-direction_ projections minimize distortion in direction\n",
    "\n",
    "While there are [projections that are better suited for specific purposes](https://pubs.usgs.gov/gip/70047422/report.pdf), [choosing a map projection](https://pubs.usgs.gov/pp/1395/report.pdf) is a bit of an art 🦋\n",
    "\n",
    "[![](https://imgs.xkcd.com/comics/map_projections.png)](https://xkcd.com/977/)"
   ]
  },
  {
   "cell_type": "markdown",
   "id": "6e7528b3-d1ca-4df6-8bb8-1b45e66d2407",
   "metadata": {
    "tags": []
   },
   "source": [
    "**Q: What is your favorite projection?** 🌎\n",
    "\n",
    "**Q: What projections do you use in your research?** 🌏"
   ]
  },
  {
   "cell_type": "markdown",
   "id": "0808c3ce-100c-4a4d-b6f9-46f3a4fcbe9c",
   "metadata": {},
   "source": [
    "#### Determine your data's CRS\n",
    "\n",
    "Using [geopandas](https://geopandas.org), we can get CRS information about our data, in this case a vector file with polygons of the world's countries:"
   ]
  },
  {
   "cell_type": "code",
   "execution_count": null,
   "id": "4078b629-f348-4c1c-a8e9-ed2ae2dc3149",
   "metadata": {},
   "outputs": [],
   "source": [
    "world.crs"
   ]
  },
  {
   "cell_type": "markdown",
   "id": "36300562-4183-4612-9838-13bbb21b9067",
   "metadata": {},
   "source": [
    "**EPSG:** European Petroleum Survey Group. Back in the day, this group created codes to standardize how different reference systems were referred to, and now EPSG codes are widely used in geospatial work! There are several websites that let you navigate the entire EPSG database: https://epsg.io/4326\n",
    "\n",
    "_If CRS metadata on any products isn't included within the data product, make sure it's in the right projection and datum. Often metadata reports or readme files will provide this information._"
   ]
  },
  {
   "cell_type": "markdown",
   "id": "846d7729-3da1-4072-a1cc-9a20643db74a",
   "metadata": {},
   "source": [
    "#### Reproject your data\n",
    "\n",
    "And we can also reproject it fairly easily, as long as our vertical reference (our ellipsoid or geoid) stays the same:\n",
    "\n",
    "* Remember: \"The projection is the mathematical equation used to flatten objects that are on a round surface (e.g. the earth) so you can view them on a flat surface (e.g. your computer screens or a paper map).\""
   ]
  },
  {
   "cell_type": "code",
   "execution_count": null,
   "id": "fad0a29c-9e54-4aac-a1c9-caf407a3d842",
   "metadata": {},
   "outputs": [],
   "source": [
    "world_arctic = world.to_crs('epsg:3031')"
   ]
  },
  {
   "cell_type": "markdown",
   "id": "72ae63df-03c2-41b3-8e77-b6e5bb5a9e3a",
   "metadata": {},
   "source": [
    "##### Did it work?"
   ]
  },
  {
   "cell_type": "code",
   "execution_count": null,
   "id": "28567303-8127-4cf7-a13b-974a17efab42",
   "metadata": {},
   "outputs": [],
   "source": [
    "world_arctic.crs"
   ]
  },
  {
   "cell_type": "markdown",
   "id": "383554de-de80-471c-a7e0-749433eec8a0",
   "metadata": {
    "tags": []
   },
   "source": [
    "##### 🎉 🎉 🎉"
   ]
  },
  {
   "cell_type": "code",
   "execution_count": null,
   "id": "5b99084d-250e-4be4-8684-7a3fda1eef10",
   "metadata": {},
   "outputs": [],
   "source": [
    "fig, ax = plt.subplots(1,2, figsize=(15,15))\n",
    "world.plot(ax = ax[0], color='0.8', edgecolor='none')\n",
    "world_arctic.plot(ax = ax[1], color='0.8', edgecolor='none')\n",
    "\n",
    "ax[0].set_title('EPSG:4326')\n",
    "ax[1].set_title('EPSG:3031')"
   ]
  },
  {
   "cell_type": "markdown",
   "id": "ffc58f53-686a-4506-bf38-be61419ed4e0",
   "metadata": {},
   "source": [
    "**If we zoom in on Anatarctica, we can see how big a difference these projections make:**"
   ]
  },
  {
   "cell_type": "code",
   "execution_count": null,
   "id": "e3d347c8-cd62-4b2e-bd5e-b535acdc1bbf",
   "metadata": {},
   "outputs": [],
   "source": [
    "world.head()"
   ]
  },
  {
   "cell_type": "code",
   "execution_count": null,
   "id": "98395913-00ee-47ba-b435-e3f00fea8fc0",
   "metadata": {},
   "outputs": [],
   "source": [
    "fig, ax = plt.subplots(1,2, figsize=(15,15))\n",
    "world[world['name']=='Antarctica'].plot(ax = ax[0], color='0.8', edgecolor='none')\n",
    "world_arctic[world_arctic['name']=='Antarctica'].plot(ax = ax[1], color='0.8', edgecolor='none')\n",
    "\n",
    "ax[0].set_title('EPSG:4326')\n",
    "ax[1].set_title('EPSG:3031')"
   ]
  },
  {
   "cell_type": "markdown",
   "id": "53ac7ad7-6fc7-4044-a4be-8d8e9d356a61",
   "metadata": {},
   "source": [
    "Ahhh Antarctica 🐧\n",
    "\n",
    "Stereographic projections are common for mapping in polar regions.  A lot of legacy data products for both Greenland and Antarctica use polar stereographic projections. Some other polar products, such as NSIDC EASE/EASE-2 grids, are in _equal-area_ projections.  \n",
    "\n",
    "Stereographic projections are _conformal_, preserving angles but not distances or areas.  _Equal-area_ map projection cannot be conformal, nor can a conformal map projection be equal-area.  "
   ]
  },
  {
   "cell_type": "markdown",
   "id": "b6dcceea-5baf-48e1-8fbf-6e70403eb236",
   "metadata": {},
   "source": [
    "### Examine distortion\n",
    "\n",
    "Let's look at how this stereographic projection distorts area around the origin:"
   ]
  },
  {
   "cell_type": "code",
   "execution_count": null,
   "id": "d135455b-efad-4e49-b7fc-d8cb1cf9293c",
   "metadata": {},
   "outputs": [],
   "source": [
    "def scale_areas(lat, flat=1.0/298.257223563, ref=70.0):\n",
    "    \"\"\"\n",
    "    Area scaling factors for a polar stereographic projection including special\n",
    "        exact pole case\n",
    "\n",
    "    Inputs:\n",
    "        lat: latitude (degrees north)\n",
    "\n",
    "    Options:\n",
    "        flat: ellipsoidal flattening\n",
    "        ref: reference latitude (standard parallel)\n",
    "\n",
    "    Returns:\n",
    "        scale: area scaling factors at input latitudes\n",
    "\n",
    "    References:\n",
    "        Snyder, J P (1982) Map Projections used by the U.S. Geological Survey\n",
    "            Forward formulas for the ellipsoid.  Geological Survey Bulletin\n",
    "            1532, U.S. Government Printing Office.\n",
    "        JPL Technical Memorandum 3349-85-101\n",
    "    \"\"\"\n",
    "    # convert latitude from degrees to positive radians\n",
    "    theta = np.abs(lat)*np.pi/180.0\n",
    "    # convert reference latitude from degrees to positive radians\n",
    "    theta_ref = np.abs(ref)*np.pi/180.0\n",
    "    # square of the eccentricity of the ellipsoid\n",
    "    # ecc2 = (1-b**2/a**2) = 2.0*flat - flat^2\n",
    "    ecc2 = 2.0*flat - flat**2\n",
    "    # eccentricity of the ellipsoid\n",
    "    ecc = np.sqrt(ecc2)\n",
    "    # calculate ratio at input latitudes\n",
    "    m = np.cos(theta)/np.sqrt(1.0 - ecc2*np.sin(theta)**2)\n",
    "    t = np.tan(np.pi/4.0 - theta/2.0)/((1.0 - ecc*np.sin(theta)) / \\\n",
    "        (1.0 + ecc*np.sin(theta)))**(ecc/2.0)\n",
    "    # calculate ratio at reference latitude\n",
    "    mref = np.cos(theta_ref)/np.sqrt(1.0 - ecc2*np.sin(theta_ref)**2)\n",
    "    tref = np.tan(np.pi/4.0 - theta_ref/2.0)/((1.0 - ecc*np.sin(theta_ref)) / \\\n",
    "        (1.0 + ecc*np.sin(theta_ref)))**(ecc/2.0)\n",
    "    # distance scaling for general and polar case\n",
    "    k = (mref/m)*(t/tref)\n",
    "    kp = 0.5*mref*np.sqrt(((1.0+ecc)**(1.0+ecc))*((1.0-ecc)**(1.0-ecc)))/tref\n",
    "    # calculate area scaling factor\n",
    "    scale = np.where(np.isclose(theta,np.pi/2.0),1.0/(kp**2),1.0/(k**2))\n",
    "    return scale"
   ]
  },
  {
   "cell_type": "markdown",
   "id": "82924521-00ec-4cff-987a-a2d7e4e97b65",
   "metadata": {},
   "source": [
    "**pyproj transform** objects can be used to change the Coordinate Reference System of arrays.\n",
    "\n",
    "Here, we'll use the transform to get the latitude and longitude coordinates of points in this projection (an _inverse_ transformation), and get the polar stereographic coordinates for plotting a circle around the standard parallel (-71°) of this projection (a _forward_ transformation).\n",
    "\n",
    "The _standard parallel_ of a stereographic projection is the latitude where there is no scale distortion."
   ]
  },
  {
   "cell_type": "code",
   "execution_count": null,
   "id": "8e55ee4a-c3c3-411f-9ad7-92b29f2d75b0",
   "metadata": {},
   "outputs": [],
   "source": [
    "crs4326 = pyproj.CRS.from_epsg(4326)    # WGS84\n",
    "crs3031 = pyproj.CRS.from_epsg(3031)    # Antarctic Polar Stereographic\n",
    "transformer = pyproj.Transformer.from_crs(crs4326, crs3031, always_xy=True)"
   ]
  },
  {
   "cell_type": "code",
   "execution_count": null,
   "id": "947208db-fd6e-4274-9420-0affef1dc8bb",
   "metadata": {},
   "outputs": [],
   "source": [
    "fig,ax3 = plt.subplots(num=3, figsize=(10,7.5))\n",
    "xmin,xmax,ymin,ymax = (-3100000,3100000,-2600000,2600000)\n",
    "dx,dy = (10000,10000)\n",
    "# create a grid of polar stereographic points\n",
    "X = np.arange(xmin,xmax+dx,dx)\n",
    "Y = np.arange(ymin,ymax+dy,dy)\n",
    "gridx,gridy = np.meshgrid(X, Y)\n",
    "# convert polar stereographic points to latitude/longitude (WGS84)\n",
    "gridlon,gridlat = transformer.transform(gridx, gridy,\n",
    "    direction=pyproj.enums.TransformDirection.INVERSE)\n",
    "# calculate and plot grid area\n",
    "cf = crs3031.to_cf()\n",
    "flat = 1.0/cf['inverse_flattening']\n",
    "gridarea = scale_areas(gridlat, flat=flat, ref=cf['standard_parallel'])\n",
    "im = ax3.imshow(gridarea,\n",
    "    extent=(xmin,xmax,ymin,ymax), \n",
    "    interpolation='nearest',\n",
    "    cmap=plt.cm.get_cmap('plasma'),\n",
    "    origin='lower')\n",
    "# add circle around standard parallel\n",
    "ref_lon = np.arange(360)\n",
    "ref_lat = np.ones((360))*cf['standard_parallel']\n",
    "# convert latitude/longitude (WGS84) points to polar stereographic\n",
    "ref_x,ref_y = transformer.transform(ref_lon, ref_lat,\n",
    "    direction=pyproj.enums.TransformDirection.FORWARD)\n",
    "l, = ax3.plot(ref_x, ref_y, '--', color='w', dashes=(8,4), label='Standard Parallel')\n",
    "# add coastlines\n",
    "world2 = gpd.read_file(gpd.datasets.get_path('naturalearth_lowres')).to_crs(crs3031)\n",
    "world2.plot(ax=ax3, color='none', edgecolor='black')\n",
    "# set x and y limits\n",
    "ax3.set_xlim(xmin,xmax)\n",
    "ax3.set_ylim(ymin,ymax)\n",
    "ax3.set_aspect('equal', adjustable='box')\n",
    "# add x and y labels\n",
    "x_info,y_info = crs3031.axis_info\n",
    "ax3.set_xlabel('{0} [{1}]'.format(x_info.name,x_info.unit_name))\n",
    "ax3.set_ylabel('{0} [{1}]'.format(y_info.name,y_info.unit_name))\n",
    "# add colorbar\n",
    "cbar = plt.colorbar(im, cax=fig.add_axes([0.92, 0.08, 0.025, 0.90]))\n",
    "cbar.ax.set_ylabel('Normalized Grid Area')\n",
    "cbar.solids.set_rasterized(True)\n",
    "# add legend\n",
    "lgd = ax3.legend(loc=4,frameon=False)\n",
    "lgd.get_frame().set_alpha(1.0)\n",
    "for line in lgd.get_lines():\n",
    "    line.set_linewidth(6)\n",
    "for i,text in enumerate(lgd.get_texts()):\n",
    "    text.set_color(l.get_color())\n",
    "fig.subplots_adjust(left=0.06,right=0.9,bottom=0.08,top=0.98)"
   ]
  },
  {
   "cell_type": "markdown",
   "id": "c2a63d08-09b3-4214-b450-e65ea286aaf3",
   "metadata": {},
   "source": [
    "Why is there a black line to the pole?  Because this coastline was reprojected from a Equirectangular projection.  That's the bottom of the Equirectangular map."
   ]
  },
  {
   "cell_type": "markdown",
   "id": "9f5aa217-68c8-470a-b098-9236291f53c8",
   "metadata": {},
   "source": [
    "**<span style=\"color:orange\"> Load in IS2 data with geopandas and project it to 3031, and plot with the antarctica polygon to show that they align?</span>**"
   ]
  },
  {
   "cell_type": "markdown",
   "id": "39720890-4afe-4dc6-8092-248941b353f2",
   "metadata": {},
   "source": [
    "**Q: Are you more familiar with using vector or raster data?**\n",
    "\n",
    "**Q: Do you more often use GIS software or command-line tools?**"
   ]
  },
  {
   "cell_type": "markdown",
   "id": "64fc5f01-2d44-4425-a25d-3c93f5c884d0",
   "metadata": {},
   "source": [
    "There are different tools for working with raster and vector data.  Some are more advantageous for one data type over the other.\n",
    "\n",
    "Let's find the coordinate reference system of some data products using some common geospatial tools.\n",
    "\n",
    "## Geospatial Data Abstraction Library (GDAL)\n",
    "\n",
    "\n",
    "The [Geospatial Data Abstraction Library (GDAL/OGR)](https://gdal.org/) is a powerful piece of software. \n",
    "\n",
    "It can read, write and query a wide variety of raster and vector geospatial data formats, transform the coordinate system of images, and manipulate other forms of geospatial data.\n",
    "\n",
    "It is the backbone of a _large_ suite of geospatial libraries and programs.\n",
    "\n",
    "<!-- It can also be an absolute pain in the neck to install, particularly if you are wanting specific drivers not included in the [default installation](https://trac.osgeo.org/gdal/wiki/BuildingOnUnix).-->\n",
    "\n",
    "There are a number of wrapper libraries (e.g. [rasterio](https://rasterio.readthedocs.io/), [rioxarray](https://corteva.github.io/rioxarray), [shapely](https://shapely.readthedocs.io/), [fiona](https://fiona.readthedocs.io/)) that provide more user-friendly interfaces with GDAL functionality.\n",
    "\n",
    "Similar to pyproj CRS objects, GDAL `SpatialReference` functions can provide a lot of information about a particular Coordinate Reference System"
   ]
  },
  {
   "cell_type": "markdown",
   "id": "e7d3f5e3-308a-404a-b321-3af27dbe6b23",
   "metadata": {},
   "source": [
    "GDAL command-line utilities also allows for quick inspection of Coordinate Reference Systems (CRS) and geospatial data files"
   ]
  },
  {
   "cell_type": "code",
   "execution_count": null,
   "id": "27fd64b3-69ba-4e85-b3cd-f56faaa3efda",
   "metadata": {},
   "outputs": [],
   "source": [
    "! gdalsrsinfo EPSG:3031"
   ]
  },
  {
   "cell_type": "markdown",
   "id": "aa2bba7c-c592-4234-ab3c-609088975907",
   "metadata": {},
   "source": [
    "<span style=\"color:orange\"> Now let's read in a DEM that overlaps with our IS2 data: ...</span>\n",
    "* Read in with rasterio and display the crs\n",
    "* Reproject raster\n",
    "* Plot the reprojected data within the antarctica polygon to show they line up?\n",
    "* Plot the ATL06 over the DEM to show they line up"
   ]
  },
  {
   "cell_type": "markdown",
   "id": "705d281b-c295-4dd7-9520-98d74150d80a",
   "metadata": {
    "tags": []
   },
   "source": [
    "### Let's look back at our CRS descriptions:"
   ]
  },
  {
   "cell_type": "code",
   "execution_count": null,
   "id": "87fd78df-6443-4c57-b846-d157aaba0798",
   "metadata": {},
   "outputs": [],
   "source": [
    "world.crs"
   ]
  },
  {
   "cell_type": "code",
   "execution_count": null,
   "id": "9420ce4d-6afa-48b3-8196-13974b78fcdf",
   "metadata": {},
   "outputs": [],
   "source": [
    "world_arctic.crs"
   ]
  },
  {
   "cell_type": "markdown",
   "id": "6c325440-894b-47e0-8552-ff9843ce9874",
   "metadata": {},
   "source": [
    "** We can see that the projections are different, but the Datums are the same (the WGS84 ellipsoid). **\n",
    "\n",
    "**Q: So what is a Datum?**"
   ]
  },
  {
   "cell_type": "markdown",
   "id": "e8ba5dd0-e476-413f-b40e-55b85973c40a",
   "metadata": {},
   "source": [
    "Reference Systems and Datums\n",
    "----------------------------\n",
    "Coordinates are defined to be in _reference_ to the origins of the coordinate system\n",
    "- Horizontally, coordinates are in reference to the Equator and the Prime Meridian\n",
    "- Vertically, heights are in reference to a [_datum_](https://vdatum.noaa.gov/docs/datums.html)\n",
    "\n",
    "Two common vertical datums are the reference _ellipsoid_ and the reference _geoid_.\n",
    "\n",
    "What are they and what is the difference?\n",
    "- To ﬁrst approximation, the Earth is a sphere (🐄) with a radius of 6371 kilometers.\n",
    "- To a better approximation, the Earth is a slightly flattened ellipsoid with the polar axis 22 kilometers shorter than the equatorial axis.\n",
    "- To an even better approximation, the Earth's shape can be described using a reference geoid, which undulates 10s of meters above and below the reference ellipsoid. The difference in height between the ellipsoid and the geoid are known as _geoid heights_.\n",
    "\n",
    "The **geoid** is an _equipotential surface_, perpendicular to the force of gravity at all points and with a constant geopotential. Reference ellipsoids and geoids are both created to largely coincide with mean sea level if the oceans were at rest.\n",
    "\n",
    "An **ellipsoid** can be considered a _simplification of a geoid_.\n",
    "\n",
    "![Derived from the International Centre for Global Earth Models (ICGEM)](../../img/EGM2008.png)\n",
    "\n",
    "[PROJ hosts grids for shifting both the horizontal and vertical datum](https://cdn.proj.org/), such as gridded [EGM2008 geoid height values](https://cdn.proj.org/us_nga_egm08_25.tif)\n",
    "\n",
    "Additional geoid height values can be calculated at the [International Centre for Global Earth Models (ICGEM)](http://icgem.gfz-potsdam.de/home)"
   ]
  },
  {
   "cell_type": "markdown",
   "id": "6f7ee02d-1066-4947-a1ac-2b0252a6fc3a",
   "metadata": {},
   "source": [
    "## ICESat-2\n",
    "\n",
    "ICESat-2 elevations are in reference to the WGS84 (G1150) ellipsoid.  ICESat-2 data products also include geoid heights from the [EGM2008 geoid](https://www.usna.edu/Users/oceano/pguth/md_help/html/egm96.htm).  Different ground-based, airborne or satellite-derived elevations may use a separate datum entirely.  _Elevations have to be in the same reference frame when comparing heights_.\n",
    "\n",
    "Different datums have different purposes.  Heights above mean sea level are needed for ocean and sea ice heights, and are also commonly used for terrestrial mapping (e.g. as elevations of mountains).  Ellipsoidal heights are commonly used for estimating land ice height change."
   ]
  },
  {
   "cell_type": "markdown",
   "id": "9cfe84a7-21f7-4265-b6f7-4df455496ed5",
   "metadata": {},
   "source": [
    "#### <span style=\"color:orange\"> Let's transform the IS2 and raster data to show how vertical transformations work </span>\n",
    "* gdalwarp for raster\n",
    "* transformer for vector"
   ]
  }
 ],
 "metadata": {
  "kernelspec": {
   "display_name": "Python 3 (ipykernel)",
   "language": "python",
   "name": "python3"
  },
  "language_info": {
   "codemirror_mode": {
    "name": "ipython",
    "version": 3
   },
   "file_extension": ".py",
   "mimetype": "text/x-python",
   "name": "python",
   "nbconvert_exporter": "python",
   "pygments_lexer": "ipython3",
   "version": "3.9.10"
  }
 },
 "nbformat": 4,
 "nbformat_minor": 5
}
