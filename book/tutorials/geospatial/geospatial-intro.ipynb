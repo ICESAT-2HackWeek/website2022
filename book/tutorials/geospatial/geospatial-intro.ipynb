{
 "cells": [
  {
   "cell_type": "markdown",
   "id": "429d3523-171d-48fc-a71a-20f0831b90e9",
   "metadata": {
    "tags": []
   },
   "source": [
    "# Geospatial Transforms\n",
    "\n",
    "Instructors: [Tyler Sutterley](mailto:tsutterl@uw.edu), [Hannah Besso](mailto:bessoh2@uw.edu) and [Scott Henderson](mailto:scottyh@uw.edu), some material adapted from [David Shean](mailto:dshean@uw.edu)\n",
    "\n",
    "```{admonition} Learning Objectives\n",
    "- Review fundamental concepts of geospatial coordinate reference systems (CRS)\n",
    "- Learn how to access CRS metadata\n",
    "- Learn basic coordinate transformations relevant to ICESat-2\n",
    "```\n",
    "\n",
    "## Introduction\n",
    "\n",
    "ICESat-2 elevations are spatial point data. Spatial data contains information about _where_ on the surface of the Earth a certain feature is located, and there are many different ways to define this location. While this seems straightforward, two main characteristics of the Earth make defining locations difficult: \n",
    "\n",
    "1) Earth is 3-dimensional (working with spatial data would be a lot easier if the world were flat)!\n",
    "\n",
    "2) Paper maps and computer screens are flat, which causes issues when we try to use them to display rounded shapes (like the Earth's surface). Making things even more difficult, _the irregular shape of the Earth means there is no one perfect model of its surface on which we could place our spatial data points_! Instead, we're left with many models of the Earth's surface that are optimized for different locations and purposes. "
   ]
  },
  {
   "cell_type": "code",
   "execution_count": null,
   "id": "931d2edd-2b09-4300-98c2-fd979a797417",
   "metadata": {},
   "outputs": [],
   "source": [
    "import geopandas as gpd\n",
    "import hvplot.xarray\n",
    "from IPython.display import Image\n",
    "import matplotlib.patches\n",
    "import matplotlib.pyplot as plt\n",
    "from mpl_toolkits import mplot3d\n",
    "import netCDF4\n",
    "import netrc\n",
    "import numpy as np\n",
    "import os\n",
    "import osgeo.gdal, osgeo.osr\n",
    "import pyproj\n",
    "import rasterio\n",
    "import rasterio.features\n",
    "import rasterio.warp\n",
    "import rioxarray\n",
    "import re\n",
    "import warnings\n",
    "import xarray as xr\n",
    "# import routines for this notebook\n",
    "import utilities\n",
    "# turn off warnings\n",
    "warnings.filterwarnings('ignore')"
   ]
  },
  {
   "cell_type": "code",
   "execution_count": null,
   "id": "77b9ffe1-116b-446a-93d1-60d528b76472",
   "metadata": {},
   "outputs": [],
   "source": [
    "%matplotlib inline\n",
    "%config InlineBackend.figure_format = 'retina'"
   ]
  },
  {
   "cell_type": "markdown",
   "id": "b5318b53-cd24-4f3c-b97c-46ae3b331e4d",
   "metadata": {},
   "source": [
    "## Let's Start by Making a Map &#127757;\n",
    "\n",
    "**Q: Why would we use maps to display geographic data?**"
   ]
  },
  {
   "cell_type": "markdown",
   "id": "5986b996-440f-49bc-91f1-e1fcf29d6579",
   "metadata": {},
   "source": [
    "### Geopandas vector data\n",
    "\n",
    "We'll use geopandas built-in [Natural Earth dataset](https://www.naturalearthdata.com) to load polygons of world countries"
   ]
  },
  {
   "cell_type": "code",
   "execution_count": null,
   "id": "cb996c9b-e446-46d3-a020-23076b9910a5",
   "metadata": {},
   "outputs": [],
   "source": [
    "# Load a dataset consisting of land polygons\n",
    "world = gpd.read_file(gpd.datasets.get_path('naturalearth_lowres'))\n",
    "world.head()"
   ]
  },
  {
   "cell_type": "markdown",
   "id": "bd33ad2c-7190-4ae5-ac4c-dab601ff5892",
   "metadata": {},
   "source": [
    "This &#128071; will create a map with global coastlines"
   ]
  },
  {
   "cell_type": "code",
   "execution_count": null,
   "id": "575980bc-0ddc-4a25-9051-cca495f4ecae",
   "metadata": {},
   "outputs": [],
   "source": [
    "fig,ax1 = plt.subplots(num=1, figsize=(10,4.55))\n",
    "minlon,maxlon,minlat,maxlat = (-180,180,-90,90)\n",
    "\n",
    "world.plot(ax=ax1, color='0.8', edgecolor='none')\n",
    "\n",
    "# set x and y limits\n",
    "ax1.set_xlim(minlon,maxlon)\n",
    "ax1.set_ylim(minlat,maxlat)\n",
    "ax1.set_aspect('equal', adjustable='box')\n",
    "\n",
    "# add x and y labels\n",
    "ax1.set_xlabel('Longitude')\n",
    "ax1.set_ylabel('Latitude')\n",
    "\n",
    "# adjust subplot positioning and show\n",
    "fig.subplots_adjust(left=0.06,right=0.98,bottom=0.08,top=0.98)"
   ]
  },
  {
   "cell_type": "markdown",
   "id": "9f74063f-6109-4f94-a74f-c081d75cdd5b",
   "metadata": {},
   "source": [
    "**Q: So how did we just display a rounded shape on a flat surface?**"
   ]
  },
  {
   "cell_type": "markdown",
   "id": "926223ce-e67a-4cc8-a63d-6ea242a50f50",
   "metadata": {},
   "source": [
    "Geographic Coordinate Systems\n",
    "-----------------------------\n",
    "Locations on Earth are usually specified in a geographic coordinate system consisting of\n",
    "- _Longitude_ specifies the angle east and west from the Prime Meridian (102 meters east of the Royal Observatory at Greenwich)\n",
    "- _Latitude_ specifies the angle north and south from the Equator\n",
    "\n",
    "The map above _projects_ geographic data from the Earth's 3-dimensional geometry on to a flat surface.  [The three common types of projections are _cylindric_, _conic_ and _planar_](https://courses.washington.edu/gis250/lessons/projection/).  Each type is a different way of flattening the Earth's geometry into 2-dimensional space.\n",
    "\n",
    "<table>\n",
    "  <tbody>\n",
    "    <tr>\n",
    "       <th align='center' max-width=\"30%\">Cylindric</th>\n",
    "       <th align='center' max-width=\"30%\">Conic</th>\n",
    "       <th align='center' max-width=\"30%\">Planar</th>\n",
    "    </tr>\n",
    "    <tr>\n",
    "       <th align='left' max-width=\"30%\"><img src=\"https://gisgeography.com/wp-content/uploads/2016/12/Miller-Cylindrical-Projection-425x233.png\" alt=\"cylindric\"/></th>\n",
    "       <th align='left' max-width=\"30%\"><img src=\"https://gisgeography.com/wp-content/uploads/2016/12/North-America-Lambert-Conformal-Conic-Projection-425x233.png\" alt=\"conic\"/></th>\n",
    "       <th align='left' max-width=\"30%\"><img src=\"https://gisgeography.com/wp-content/uploads/2016/12/Stereographic-Projection-425x233.png\" alt=\"planar\"/></th>\n",
    "    </tr>\n",
    "  </tbody>\n",
    "</table>\n",
    "\n",
    "This map is in an _Equirectangular Projection_ (Plate Carrée), where latitude and longitude are equally spaced.  Equirectangular is cylindrical projection, which has benefits as latitudes and longitudes form straight lines.  \n",
    "\n",
    "```{warning}\n",
    "While simple conceptually, this projection distorts both _shape_ and _distance_, particularly at higher latitudes! So it is not a great choice for data analysis.\n",
    "```\n",
    "\n",
    "To illustrate distortion on this map below &#128071;, we've colored the normalized grid area at different latitudes below:"
   ]
  },
  {
   "cell_type": "code",
   "execution_count": null,
   "id": "5d5201c0-d123-460d-bc0c-d72ac8bd8df8",
   "metadata": {},
   "outputs": [],
   "source": [
    "fig,ax1 = plt.subplots(num=1, figsize=(10.375,5.0))\n",
    "minlon,maxlon,minlat,maxlat = (-180,180,-90,90)\n",
    "dlon,dlat = (1.0,1.0)\n",
    "longitude = np.arange(minlon,maxlon+dlon,dlon)\n",
    "latitude = np.arange(minlat,maxlat+dlat,dlat)\n",
    "\n",
    "# calculate and plot grid area\n",
    "gridlon,gridlat = np.meshgrid(longitude, latitude)\n",
    "im = ax1.imshow(np.cos(gridlat*np.pi/180.0),\n",
    "    extent=(minlon,maxlon,minlat,maxlat), \n",
    "    interpolation='nearest',\n",
    "    cmap=plt.cm.get_cmap('plasma'),\n",
    "    origin='lower')\n",
    "\n",
    "# add coastlines\n",
    "world = gpd.read_file(gpd.datasets.get_path('naturalearth_lowres'))\n",
    "world.plot(ax=ax1, color='none', edgecolor='black')\n",
    "\n",
    "# set x and y limits\n",
    "ax1.set_xlim(minlon,maxlon)\n",
    "ax1.set_ylim(minlat,maxlat)\n",
    "ax1.set_aspect('equal', adjustable='box')\n",
    "\n",
    "# add x and y labels\n",
    "ax1.set_xlabel('Longitude')\n",
    "ax1.set_ylabel('Latitude')\n",
    "\n",
    "# add colorbar\n",
    "cbar = plt.colorbar(im, cax=fig.add_axes([0.92, 0.08, 0.025, 0.90]))\n",
    "cbar.ax.set_ylabel('Normalized Grid Area')\n",
    "cbar.solids.set_rasterized(True)\n",
    "\n",
    "# adjust subplot and show\n",
    "fig.subplots_adjust(left=0.06,right=0.9,bottom=0.08,top=0.98)"
   ]
  },
  {
   "cell_type": "markdown",
   "id": "56bac36c-280f-4d76-8edc-a3ef6b2285b9",
   "metadata": {},
   "source": [
    "### The Components of a Coordinate Reference System (CRS):\n",
    "\n",
    "* **Projection Information:** the mathematical equation used to flatten objects that are on a round surface (e.g. the earth) so you can view them on a flat surface (e.g. your computer screens or a paper map).\n",
    "* **Coordinate System:** the X, Y, and Z grid upon which your data is overlaid and how you define where a point is located in space.\n",
    "* **Horizontal and vertical units:** The units used to define the grid along the x, y (and z) axis.\n",
    "* **Datum:** A modeled version of the shape of the earth which defines the origin used to place the coordinate system in space. \n",
    "\n",
    "&#128070; Borrowed from [Earth Data Science Coursework](https://www.earthdatascience.org/courses/use-data-open-source-python/intro-vector-data-python/spatial-data-vector-shapefiles/intro-to-coordinate-reference-systems-python/)"
   ]
  },
  {
   "cell_type": "markdown",
   "id": "a338a774-0994-49d3-bc30-6c9c861af09f",
   "metadata": {
    "tags": []
   },
   "source": [
    "### Notes on Projections\n",
    "\n",
    "* _There is no perfect projection for all purposes_\n",
    "\n",
    "* Not all maps are good for ocean or land navigation\n",
    "\n",
    "* Not all projections are good for polar mapping\n",
    "\n",
    "* Every projection will distort either shape, area, distance or direction:\n",
    "     * _conformal_ projections minimize distortion in shape\n",
    "     * _equal-area_ projections minimize distortion in area\n",
    "     * _equidistant_ projections minimize distortion in distance\n",
    "     * _true-direction_ projections minimize distortion in direction\n",
    "\n",
    "While there are [projections that are better suited for specific purposes](https://pubs.usgs.gov/gip/70047422/report.pdf), [choosing a map projection](https://pubs.usgs.gov/pp/1395/report.pdf) is a bit of an art &#129419;\n",
    "\n",
    "[![](https://imgs.xkcd.com/comics/map_projections.png)](https://xkcd.com/977/)  \n",
    "&#128070; Obligatory [xkcd](https://xkcd.com/977/)"
   ]
  },
  {
   "cell_type": "markdown",
   "id": "6e7528b3-d1ca-4df6-8bb8-1b45e66d2407",
   "metadata": {
    "tags": []
   },
   "source": [
    "**Q: What is your favorite projection?** &#127758;\n",
    "\n",
    "**Q: What projections do you use in your research?** &#127759;"
   ]
  },
  {
   "cell_type": "markdown",
   "id": "0808c3ce-100c-4a4d-b6f9-46f3a4fcbe9c",
   "metadata": {},
   "source": [
    "#### Determine your data's CRS\n",
    "\n",
    "Using [geopandas](https://geopandas.org), we can get CRS information about our data:"
   ]
  },
  {
   "cell_type": "code",
   "execution_count": null,
   "id": "4078b629-f348-4c1c-a8e9-ed2ae2dc3149",
   "metadata": {},
   "outputs": [],
   "source": [
    "world.crs"
   ]
  },
  {
   "cell_type": "markdown",
   "id": "36300562-4183-4612-9838-13bbb21b9067",
   "metadata": {},
   "source": [
    "**EPSG:** European Petroleum Survey Group. Back in the day, this group created codes to standardize how different reference systems were referred to, and now EPSG codes are widely used in geospatial work! There are several websites that let you navigate the entire EPSG database: https://epsg.io/4326\n",
    "\n",
    "_If CRS metadata on any products isn't included within the data product, make sure it's in the right projection and datum. Often metadata reports or readme files will provide this information._"
   ]
  },
  {
   "cell_type": "markdown",
   "id": "846d7729-3da1-4072-a1cc-9a20643db74a",
   "metadata": {},
   "source": [
    "#### Reproject your data\n",
    "\n",
    "And we can also reproject it fairly easily, as long as our vertical reference (our ellipsoid or geoid) stays the same. For example, let's use [epsg:3031](https://epsg.io/3031), which uses the same Datum, but is otherwise very different.\n",
    "\n",
    "* Remember: \"The projection is the mathematical equation used to flatten objects that are on a round surface (e.g. the earth) so you can view them on a flat surface (e.g. your computer screens or a paper map).\""
   ]
  },
  {
   "cell_type": "code",
   "execution_count": null,
   "id": "fad0a29c-9e54-4aac-a1c9-caf407a3d842",
   "metadata": {},
   "outputs": [],
   "source": [
    "world_antarctic = world.to_crs('epsg:3031')"
   ]
  },
  {
   "cell_type": "markdown",
   "id": "72ae63df-03c2-41b3-8e77-b6e5bb5a9e3a",
   "metadata": {},
   "source": [
    "##### Did it work?"
   ]
  },
  {
   "cell_type": "code",
   "execution_count": null,
   "id": "28567303-8127-4cf7-a13b-974a17efab42",
   "metadata": {},
   "outputs": [],
   "source": [
    "world_antarctic.crs"
   ]
  },
  {
   "cell_type": "markdown",
   "id": "383554de-de80-471c-a7e0-749433eec8a0",
   "metadata": {
    "tags": []
   },
   "source": [
    "##### &#127881;&#127881;&#127881;"
   ]
  },
  {
   "cell_type": "markdown",
   "id": "3d2031b1-c459-4596-a570-b37d49f5617a",
   "metadata": {},
   "source": [
    "We'll look at the global coastlines before and after projecting to `"
   ]
  },
  {
   "cell_type": "code",
   "execution_count": null,
   "id": "5b99084d-250e-4be4-8684-7a3fda1eef10",
   "metadata": {},
   "outputs": [],
   "source": [
    "fig, ax = plt.subplots(1,2, figsize=(15,15))\n",
    "world.plot(ax = ax[0], color='0.8', edgecolor='none')\n",
    "world_antarctic.plot(ax = ax[1], color='0.8', edgecolor='none')\n",
    "\n",
    "ax[0].set_title('EPSG:4326')\n",
    "ax[1].set_title('EPSG:3031')"
   ]
  },
  {
   "cell_type": "markdown",
   "id": "ffc58f53-686a-4506-bf38-be61419ed4e0",
   "metadata": {},
   "source": [
    "Wait, where's Antarctica?\n",
    "\n",
    "**If we zoom in on Antarctica, we can see how big a difference these projections make:**"
   ]
  },
  {
   "cell_type": "code",
   "execution_count": null,
   "id": "e97adb75-bcd8-44af-9c16-634787e2bd2f",
   "metadata": {},
   "outputs": [],
   "source": [
    "antarctica_4326 = world[world['name']=='Antarctica']\n",
    "antarctica_3031 = world_antarctic[world_antarctic['name']=='Antarctica']"
   ]
  },
  {
   "cell_type": "code",
   "execution_count": null,
   "id": "98395913-00ee-47ba-b435-e3f00fea8fc0",
   "metadata": {},
   "outputs": [],
   "source": [
    "fig, ax = plt.subplots(1,2, figsize=(15,15))\n",
    "antarctica_4326.plot(ax = ax[0], color='0.8', edgecolor='none')\n",
    "antarctica_3031.plot(ax = ax[1], color='0.8', edgecolor='none')\n",
    "\n",
    "ax[0].set_title('EPSG:4326')\n",
    "ax[1].set_title('EPSG:3031')"
   ]
  },
  {
   "cell_type": "markdown",
   "id": "53ac7ad7-6fc7-4044-a4be-8d8e9d356a61",
   "metadata": {},
   "source": [
    "Ahhh Antarctica &#128039;\n",
    "\n",
    "Stereographic projections are common for mapping in polar regions.  A lot of legacy data products for both Greenland and Antarctica use polar stereographic projections. Some other polar products, such as NSIDC EASE/EASE-2 grids, are in _equal-area_ projections.  \n",
    "\n",
    "```{warning}\n",
    "Stereographic projections are _conformal_, preserving angles but not distances or areas.  _Equal-area_ map projection cannot be conformal, nor can a conformal map projection be equal-area.  \n",
    "```"
   ]
  },
  {
   "cell_type": "markdown",
   "id": "71eb1648-8943-4fea-8e2c-d24951df5dfc",
   "metadata": {},
   "source": [
    "### Reproject other data\n",
    "\n",
    "Often you have other data or contextual information that you need to get into your data's CRS to visualize. For example, you know McMurdo Research Station is at (-77.846 S, 166.676 E). How to we plot this with out using geopandas? \n",
    "\n",
    "**pyproj transform** objects can be used to change the Coordinate Reference System of arrays\n",
    "\n",
    "```{important}\n",
    "Note that most Python libraries do NOT check to make sure your data shares the same CRS. Plotting libraries are not \"CRS aware\" and will happily plot things in incorrect positions. It is up to you to make sure your positions are accurate.\n",
    "```\n",
    "\n",
    "This will transform our latitude and longitude coordinates into coordinates in _meters_ from the map origin"
   ]
  },
  {
   "cell_type": "code",
   "execution_count": null,
   "id": "8e55ee4a-c3c3-411f-9ad7-92b29f2d75b0",
   "metadata": {},
   "outputs": [],
   "source": [
    "crs4326 = pyproj.CRS.from_epsg(4326)    # WGS84\n",
    "crs3031 = pyproj.CRS.from_epsg(3031)    # Antarctic Polar Stereographic\n",
    "transformer = pyproj.Transformer.from_crs(crs4326, crs3031, always_xy=True)\n",
    "\n",
    "McMurdo = (166.676, -77.846)\n",
    "McMurdo_3031 = transformer.transform(*McMurdo)\n",
    "\n",
    "fig, ax = plt.subplots()\n",
    "antarctica_3031.plot(ax=ax, color='0.8', edgecolor='none')\n",
    "ax.plot(McMurdo_3031[0], McMurdo_3031[1], 'ko')\n",
    "ax.set_title(f'McMurdo Station {McMurdo}');"
   ]
  },
  {
   "cell_type": "markdown",
   "id": "39720890-4afe-4dc6-8092-248941b353f2",
   "metadata": {},
   "source": [
    "Neat!\n",
    "\n",
    "Geospatial data comes in two flavors: _vector_ and _raster_\n",
    "- Vector data is composed of points, lines, and polygons\n",
    "- Raster data is composed of individual grid cells\n",
    "\n",
    "[![Vector vs. Raster](https://developers.planet.com/planetschool/images/vectorraster.png)](https://developers.planet.com/planetschool/geospatial-data/)\n",
    "\n",
    "_Vector vs. Raster from [Planet School](https://developers.planet.com/planetschool)_\n",
    "\n",
    "**Q: Are you more familiar with using vector or raster data?**\n",
    "\n",
    "**Q: Do you more often use GIS software or command-line tools?**"
   ]
  },
  {
   "cell_type": "markdown",
   "id": "6f7ee02d-1066-4947-a1ac-2b0252a6fc3a",
   "metadata": {
    "tags": []
   },
   "source": [
    "## ICESat-2\n",
    "\n",
    "ICESat-2 elevations are in reference to the WGS84 (G1150) ellipsoid. \n",
    "\n",
    "```{important}\n",
    "Recall above we saw EPSG:4326 used \"Datum: World Geodetic System 1984 ensemble\", which is common for older or low-accuracy datasets. There are different \"realizations\" of the WGS84 ellipsoid. The accuracy of your positioning improves when the specific realization, rather than the ensemble, is used. [Read more here](https://confluence.qps.nl/qinsy/latest/en/world-geodetic-system-1984-wgs84-182618391.html#id-.WorldGeodeticSystem1984(WGS84)v9.1-WGS84realizations)\n",
    "```\n",
    "\n",
    "ICESat-2 data products also include geoid heights from the [EGM2008 geoid](https://www.usna.edu/Users/oceano/pguth/md_help/html/egm96.htm).  Different ground-based, airborne or satellite-derived elevations may use a separate datum entirely! \n",
    "\n",
    "```{important}\n",
    "_Elevations have to be in the same reference frame when comparing heights_!\n",
    "```\n",
    "\n",
    "Different datums have different purposes.  Heights above mean sea level are needed for ocean and sea ice heights, and are also commonly used for terrestrial mapping (e.g. the elevations of mountains).  Ellipsoidal heights are commonly used for estimating land ice height change."
   ]
  },
  {
   "cell_type": "markdown",
   "id": "b5686bd6-1055-4d0a-b9c7-6422dfd393d4",
   "metadata": {},
   "source": [
    "## Applying Concepts: ICESat-2\n",
    "\n",
    "Let's take what we just learned and apply it to ICESat-2\n",
    "\n",
    "We'll download a granule of ICESat-2 ATL06 land ice heights from the [National Snow and Ice Data Center (NSIDC)](https://nsidc.org/data/atl06).  ATL06 is _along-track_ data stored in an HDF5 file with geospatial coordinates latitude and longtude (WGS84).  Within an ATL06 file, there are six beam groups (`gt1l`, `gt1r`, `gt2l`, `gt2r`, `gt3l`, `gt3r`) that correspond to the orientation of the beams on the ground.\n",
    "\n",
    "Note: We just picked a file from random from https://nsidc.org/data/atl06 "
   ]
  },
  {
   "cell_type": "code",
   "execution_count": null,
   "id": "67422874-b1ec-48f5-884f-0eee7e021a0e",
   "metadata": {},
   "outputs": [],
   "source": [
    "utilities.attempt_login('urs.earthdata.nasa.gov', retries=5)"
   ]
  },
  {
   "cell_type": "code",
   "execution_count": null,
   "id": "d13afc1e-aa3d-4330-8b8a-07e4b691e25f",
   "metadata": {},
   "outputs": [],
   "source": [
    "# query CMR for ATL06 files\n",
    "ids,urls = utilities.cmr(product='ATL06',release='005',tracks=9,cycles=14,granules=12,verbose=False)\n",
    "# read ATL06 as in-memory file-like object using xarray\n",
    "buffer,response_error = utilities.from_nsidc(urls[0])\n",
    "ds = xr.open_dataset(buffer, group='gt1l/land_ice_segments')\n",
    "# inspect ATL06 data for beam group\n",
    "ds"
   ]
  },
  {
   "cell_type": "code",
   "execution_count": null,
   "id": "79bc4aeb-bbce-4785-93a1-f9c5338586b6",
   "metadata": {},
   "outputs": [],
   "source": [
    "# For simplicity take first 1000 points into a Geopandas Geodataframe\n",
    "df = ds.isel(delta_time=slice(0,1000)).to_dataframe()\n",
    "\n",
    "# NOTE: that the CRS is not propagated by xarray from the HDF5 metadata, so we have to assign it again!\n",
    "gf = gpd.GeoDataFrame(df, geometry=gpd.points_from_xy(df.longitude, df.latitude), crs='epsg:7661')\n",
    "gf.head()"
   ]
  },
  {
   "cell_type": "markdown",
   "id": "54eb2094-770c-4710-8763-db2172dd9381",
   "metadata": {},
   "source": [
    "### Visualize with a basemap"
   ]
  },
  {
   "cell_type": "code",
   "execution_count": null,
   "id": "8e8a13ff-de92-43f9-9e56-d0d5ad4b5083",
   "metadata": {},
   "outputs": [],
   "source": [
    "import hvplot.pandas # Enable 'hvplot' accessor on Geodataframes for interactive plotting\n",
    "# Basic plot\n",
    "# gf.plot.scatter(x='segment_id',y='h_li');\n",
    "#gf.plot.scatter(x='longitude', y='latitude', c='h_li');\n",
    "\n",
    "gf.hvplot.points(c='h_li', coastline=True, tiles=True, cmap='viridis', data_aspect=0.1)"
   ]
  },
  {
   "cell_type": "markdown",
   "id": "81f55111-9b03-4ece-b51a-ce81854c8748",
   "metadata": {},
   "source": [
    "### Geopandas Reprojection"
   ]
  },
  {
   "cell_type": "code",
   "execution_count": null,
   "id": "3a14da56-9376-43ac-bfbf-4791d024ba2a",
   "metadata": {},
   "outputs": [],
   "source": [
    "# As before, we can perform 2D reprojection\n",
    "gf_3031 = gf.to_crs('epsg:3031')\n",
    "gf_3031.head()"
   ]
  },
  {
   "cell_type": "markdown",
   "id": "cbd2a4e2-f1ae-40b8-974f-ecf9fb6a9ba4",
   "metadata": {},
   "source": [
    "## Copernicus DEM\n",
    "\n",
    "Let's compare ICESat-2 elevations against a public, gridded global digital elevation model (DEM), the [Copernicus DEM](https://portal.opentopography.org/raster?opentopoID=OTSDEM.032021.4326.3). Just as Geopandas adds CRS-aware capabilities to Dataframes, RioXarray adds CRS-aware functions to XArray multidimensional arrays (e.g. sets of images)."
   ]
  },
  {
   "cell_type": "code",
   "execution_count": null,
   "id": "200edef4-c5c0-406a-ae53-6f05e89350b2",
   "metadata": {},
   "outputs": [],
   "source": [
    "daC = rioxarray.open_rasterio('https://opentopography.s3.sdsc.edu/raster/COP30/COP30_hh.vrt', \n",
    "                              chunks=True, # ensure we use dask to only read metadata\n",
    "                             )\n",
    "\n",
    "\n",
    "# Crop by Bounding box of all the ATL06 points\n",
    "minx, miny, maxx, maxy = gf.cascaded_union.envelope.bounds\n",
    "daC = daC.rio.clip_box(minx, miny, maxx, maxy)\n",
    "daC"
   ]
  },
  {
   "cell_type": "code",
   "execution_count": null,
   "id": "207dbd65-819d-4580-a68d-01db942143e6",
   "metadata": {},
   "outputs": [],
   "source": [
    "# enable hvplot accessor on xarray datasets\n",
    "daC.squeeze('band').hvplot.image(rasterize=True, \n",
    "                                 cmap='viridis', \n",
    "                                 title='Copernicus 30m DEM')"
   ]
  },
  {
   "cell_type": "code",
   "execution_count": null,
   "id": "3d53cf4d-9aa2-4fc1-9b1e-9da7bd95d0db",
   "metadata": {},
   "outputs": [],
   "source": [
    "# Like Geopandas, Rioxarray handles CRS information for gridded arrays!\n",
    "daC.rio.crs "
   ]
  },
  {
   "cell_type": "code",
   "execution_count": null,
   "id": "272f62c0-4f72-4ed2-81a9-80b3d68bd121",
   "metadata": {},
   "outputs": [],
   "source": [
    "# Some geospatial rasters fail to include metadata about the NaN values\n",
    "# This ensures Python recognizes values as NaNs, but when writing to a TIF file those values are assigned -32768.0\n",
    "daC.rio.write_nodata(-32768.0, encoded=True, inplace=True)"
   ]
  },
  {
   "cell_type": "markdown",
   "id": "30cac1b9-9807-45f9-a286-849f345cf349",
   "metadata": {},
   "source": [
    "### RioXarray Reprojection\n",
    "\n",
    "```{warning}\n",
    "Unfortunately, data files alone do not always include the full CRS information! For example, reading the documentation about copernicus DEM we see `Vertical Coordinates: EGM2008 [EPSG: 3855]`. These elevations are \"geoid\" heights. With respect to the EGM2008 model.\n",
    "```\n",
    "\n",
    "We can still reproject this array as we did before, using only horizontal transformations:"
   ]
  },
  {
   "cell_type": "code",
   "execution_count": null,
   "id": "88ab9d67-2688-4c8c-a6cd-c5d712764ee7",
   "metadata": {},
   "outputs": [],
   "source": [
    "from rasterio.enums import Resampling\n",
    "\n",
    "# reprojecting to a new grid requires an interpolation method\n",
    "# here it will resample using bilinear interpolation\n",
    "daC_3031 = daC.rio.reproject('EPSG:3031',\n",
    "                             resampling=Resampling.bilinear, \n",
    "                            )\n",
    "\n",
    "#daC_3031.plot(); #static matplotlib\n",
    "daC_3031.squeeze('band').hvplot.image(rasterize=True,\n",
    "                                      data_aspect=1,\n",
    "                                      cmap='viridis',\n",
    "                                      title='COP30 DEM EPSG:3031',\n",
    "                                     )"
   ]
  },
  {
   "cell_type": "markdown",
   "id": "e8ba5dd0-e476-413f-b40e-55b85973c40a",
   "metadata": {},
   "source": [
    "## 3D Reference Systems and Datums\n",
    "\n",
    "Coordinates are defined to be in _reference_ to the origins of the coordinate system\n",
    "- Horizontally, coordinates are in reference to the Equator and the Prime Meridian\n",
    "- Vertically, heights are in reference to a [_datum_](https://vdatum.noaa.gov/docs/datums.html)\n",
    "\n",
    "Two common vertical datums are the reference _ellipsoid_ and the reference _geoid_.\n",
    "\n",
    "What are they and what is the difference?\n",
    "- To ﬁrst approximation, the Earth is a sphere (🐄) with a radius of 6371 kilometers.\n",
    "- To a better approximation, the Earth is a slightly flattened ellipsoid with the polar axis 22 kilometers shorter than the equatorial axis.\n",
    "- To an even better approximation, the Earth's shape can be described using a reference geoid, which undulates 10s of meters above and below the reference ellipsoid. The difference in height between the ellipsoid and the geoid are known as _geoid heights_.\n",
    "\n",
    "The **geoid** is an _equipotential surface_, perpendicular to the force of gravity at all points and with a constant geopotential. Reference ellipsoids and geoids are both created to largely coincide with mean sea level if the oceans were at rest.\n",
    "\n",
    "An **ellipsoid** can be considered a _simplification of a geoid_.\n",
    "\n",
    "![Derived from the International Centre for Global Earth Models (ICGEM)](../../img/EGM2008.png)\n",
    "\n",
    "[PROJ hosts grids for shifting both the horizontal and vertical datum](https://cdn.proj.org/), such as gridded [EGM2008 geoid height values](https://cdn.proj.org/us_nga_egm08_25.tif)\n",
    "\n",
    "Additional geoid height values can be calculated at the [International Centre for Global Earth Models (ICGEM)](http://icgem.gfz-potsdam.de/home)"
   ]
  },
  {
   "cell_type": "markdown",
   "id": "ac8d9e99-7ced-437f-a060-4b7194f13c0d",
   "metadata": {},
   "source": [
    "<img src=\"https://2.bp.blogspot.com/-2o3hXVPI2EM/VnTlaYLmeVI/AAAAAAAAuEA/fDXIf3NA8yE/s1600/geoid.gif\" alt=\"geoid\" width=\"600\"/>\n",
    "\n",
    "Vertically exaggerated, the Earth is sort of like a potato &#129364;"
   ]
  },
  {
   "cell_type": "markdown",
   "id": "cdcd64be-9647-4efb-baf0-93d0bfbd504b",
   "metadata": {},
   "source": [
    "### PROJ Reprojection pipelines\n",
    "\n",
    "We can examine details of converting any projection to another with PROJ. Specific vertical datums also have EPSG codes so you can refer to horizontal and vertical coordinates separately with a compound CRS. Below is the recipe for converting the Copernicus DEM (geoid) to ellipsoidal heights matching ATL06. Note that we require the use of a precomputed vertical shift grid (pictured above). "
   ]
  },
  {
   "cell_type": "code",
   "execution_count": null,
   "id": "eebbd964-7b15-4a9c-baf4-648f3a744970",
   "metadata": {},
   "outputs": [],
   "source": [
    "!projinfo -s EPSG:4326+3855 -t EPSG:7661 -o PROJ --hide-ballpark --spatial-test intersects"
   ]
  },
  {
   "cell_type": "markdown",
   "id": "64fc5f01-2d44-4425-a25d-3c93f5c884d0",
   "metadata": {},
   "source": [
    "### Geospatial Data Abstraction Library (GDAL)\n",
    "\n",
    "If you need to do 3D transformations, GDAL is a great solution! It uses PROJ behind the scenes\n",
    "\n",
    "The [Geospatial Data Abstraction Library (GDAL/OGR)](https://gdal.org/) is a powerful piece of software. \n",
    "\n",
    "It can read, write and query a wide variety of raster and vector geospatial data formats, transform the coordinate system of images, and manipulate other forms of geospatial data.\n",
    "\n",
    "It is the backbone of a _large_ suite of geospatial libraries and programs.\n",
    "\n",
    "There are a number of wrapper libraries (e.g. [rasterio](https://rasterio.readthedocs.io/), [rioxarray](https://corteva.github.io/rioxarray), [shapely](https://shapely.readthedocs.io/), [fiona](https://fiona.readthedocs.io/)) that provide more user-friendly interfaces with GDAL functionality.\n",
    "\n",
    "Similar to pyproj CRS objects, GDAL `SpatialReference` functions can provide a lot of information about a particular Coordinate Reference System"
   ]
  },
  {
   "cell_type": "markdown",
   "id": "77772054-954c-4ba0-93ba-f4565aaacdca",
   "metadata": {},
   "source": [
    "### Geoid -> Ellipsoid height\n",
    "\n",
    "We'll use GDAL to reproject a subset of the Copernicus DEM into EPSG:7661 (apply a vertical shift grid)"
   ]
  },
  {
   "cell_type": "code",
   "execution_count": null,
   "id": "618acdfc-0716-44bd-bf54-7aeb0095e14c",
   "metadata": {},
   "outputs": [],
   "source": [
    "ulx, lry, lrx, uly = gf.cascaded_union.envelope.bounds\n",
    "print('lower right', lrx, lry)\n",
    "print('upper left', ulx, uly)"
   ]
  },
  {
   "cell_type": "code",
   "execution_count": null,
   "id": "b4c9ca98-2ba7-4e1e-bd04-db5d9be11538",
   "metadata": {},
   "outputs": [],
   "source": [
    "# Download subset locally\n",
    "infile = '/vsicurl/https://opentopography.s3.sdsc.edu/raster/COP30/COP30_hh.vrt'\n",
    "outfile = '/tmp/COP30_subset.tif'\n",
    "\n",
    "!GDAL_DISABLE_READDIR_ON_OPEN=EMPTY_DIR gdal_translate -projwin {ulx} {uly} {lrx} {lry} {infile} {outfile}"
   ]
  },
  {
   "cell_type": "markdown",
   "id": "29c51ce9-e69a-4967-a66b-d84fe75c4474",
   "metadata": {},
   "source": [
    "```{note}\n",
    "Whenever conducting complicated transformations it can be helpful to print 'DEBUG' messages to ensure libraries are doing what you expect behind the scenes\n",
    "```\n",
    "\n",
    "In the following cell, we see GDAL tries to find the necessary vertical shift grid files locally, doesn't find it, so the automatically retrieves it from a server:"
   ]
  },
  {
   "cell_type": "code",
   "execution_count": null,
   "id": "a33369c2-32fa-4171-b4f3-117d11fd58d6",
   "metadata": {},
   "outputs": [],
   "source": [
    "!CPL_DEBUG=ON PROJ_DEBUG=2 gdalwarp -s_srs EPSG:4326+3855 -t_srs EPSG:7661 /tmp/COP30_subset.tif /tmp/cop_7661.tif"
   ]
  },
  {
   "cell_type": "code",
   "execution_count": null,
   "id": "4f2dce4e-aebe-4c63-8195-0ff007e00a1e",
   "metadata": {},
   "outputs": [],
   "source": [
    "da = rioxarray.open_rasterio('/tmp/cop_7661.tif')\n",
    "da.rio.crs"
   ]
  },
  {
   "cell_type": "code",
   "execution_count": null,
   "id": "6ef13ba8-a98e-4426-a66d-8d93ccf264a8",
   "metadata": {},
   "outputs": [],
   "source": [
    "da.squeeze('band').hvplot.image(x='x', y='y', \n",
    "                               rasterize=True,\n",
    "                               title='COP30 DEM (EPSG:7661)'\n",
    "                              )"
   ]
  },
  {
   "cell_type": "markdown",
   "id": "15d66886-14d4-4d34-9329-8ebfedc08513",
   "metadata": {},
   "source": [
    "## Summary\n",
    "\n",
    "&#127881; Congrats! You've made it through the tutorial! You have successfully reprojected geospatial vector data (country polygons, IS2 ATL06) and raster imagery (Copernicus DEM). You've seen how to perform both 2D horizontal reprojections with both GeoPandas and RioXarray, and we looked into more advanced 3D reprojection pipelines with PROJ and GDAL.\n",
    "\n",
    "A good next step would be to make some plots comparing elevation values! Have a look at documentation on reprojecting different [rasters to exactly the same grid](https://corteva.github.io/rioxarray/stable/examples/reproject_match.html), and [sampling rasters at points](https://xarray.pydata.org/en/stable/user-guide/interpolation.html#advanced-interpolation). Below we include additional references, and we've also put together a second notebook that goes into some of these topics in more depth. "
   ]
  },
  {
   "cell_type": "markdown",
   "id": "13fea85f-2ace-4cdb-93cf-b77976d11ea7",
   "metadata": {},
   "source": [
    "## References\n",
    "\n",
    "There are entire graduate-level courses and great educational material to learn more about these topics. We recommend checking out:\n",
    "\n",
    "* [PennState GPS & GNSS for Geospatial Professionals](https://www.e-education.psu.edu/geog862/node/1794)\n",
    "* [UW Geospatial Data Analaysis with Python](https://uwgda-jupyterbook.readthedocs.io/en/latest/modules/04_Vector1_Geopandas_CRS_Proj/04_Vector1_Geopandas_CRS_Proj_prep.html)\n",
    "* [Qinsy Geodetic Documentation](https://confluence.qps.nl/qinsy/latest/en/how-to-geodetic-items-235803916.html)"
   ]
  }
 ],
 "metadata": {
  "kernelspec": {
   "display_name": "Python 3 (ipykernel)",
   "language": "python",
   "name": "python3"
  },
  "language_info": {
   "codemirror_mode": {
    "name": "ipython",
    "version": 3
   },
   "file_extension": ".py",
   "mimetype": "text/x-python",
   "name": "python",
   "nbconvert_exporter": "python",
   "pygments_lexer": "ipython3",
   "version": "3.9.10"
  }
 },
 "nbformat": 4,
 "nbformat_minor": 5
}
