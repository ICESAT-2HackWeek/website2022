{
 "cells": [
  {
   "cell_type": "markdown",
   "metadata": {
    "id": "3TU7OckM_MxX"
   },
   "source": [
    "# Geospatial Transformations In-depth\n",
    "\n",
    "Instructors: [Tyler Sutterley](mailto:tsutterl@uw.edu), [Hannah Besso](mailto:bessoh2@uw.edu) and [Scott Henderson](mailto:scottyh@uw.edu)\n",
    "\n",
    "\n",
    "Learning Objectives\n",
    "-------------------\n",
    "- Review fundamental concepts of coordinate reference systems (CRS)\n",
    "- Learn how to access coordinate reference metadata\n",
    "- Learn how to warp vector and raster data to different CRS\n",
    "\n",
    "In this advanced and comprehensive notebook, we will explore coordinate systems, map projections, geophysical concepts and available geospatial software tools. "
   ]
  },
  {
   "cell_type": "code",
   "execution_count": null,
   "metadata": {
    "id": "YuFgdkUxFgan"
   },
   "outputs": [],
   "source": [
    "# We link to the documentation of these great libraries at the end of the notebook\n",
    "import builtins\n",
    "import geopandas as gpd\n",
    "import getpass\n",
    "import matplotlib.patches\n",
    "import matplotlib.pyplot as plt\n",
    "from mpl_toolkits import mplot3d\n",
    "import netCDF4\n",
    "import numpy as np\n",
    "import os\n",
    "import osgeo.gdal, osgeo.osr\n",
    "import pyproj\n",
    "import rasterio\n",
    "import rasterio.features\n",
    "import rasterio.warp\n",
    "import re\n",
    "import xarray as xr\n",
    "import warnings\n",
    "# import routines for this notebook\n",
    "import utilities\n",
    "from ATL06_to_dataframe import ATL06_to_dataframe\n",
    "# turn off warnings\n",
    "warnings.filterwarnings('ignore')\n",
    "%matplotlib inline"
   ]
  },
  {
   "cell_type": "markdown",
   "metadata": {
    "id": "4SJQDmTRtIJY"
   },
   "source": [
    "Questions about space\n",
    "---------------------\n",
    "- Where is something located?\n",
    "- What is its height?\n",
    "- Does it have an extent or is it a point?\n",
    "\n",
    "<!--\n",
    "Questions about time\n",
    "--------------------\n",
    "- When were the location, height and extent measured?\n",
    "- Have the location, height or extent changed over time?\n",
    "-->"
   ]
  },
  {
   "cell_type": "markdown",
   "metadata": {
    "id": "Nwp0v8h4MYcP"
   },
   "source": [
    "Let's Start by Making a Map\n",
    "---------------------------\n",
    "\n",
    "**Q: Why would we use maps to display geographic data?**"
   ]
  },
  {
   "cell_type": "code",
   "execution_count": null,
   "metadata": {
    "colab": {
     "base_uri": "https://localhost:8080/",
     "height": 357
    },
    "id": "a6sBaR6fLWQ3",
    "outputId": "f8c3bd30-d50d-4ef3-ba73-f88656607169"
   },
   "outputs": [],
   "source": [
    "fig,ax1 = plt.subplots(num=1, figsize=(10,4.55))\n",
    "minlon,maxlon,minlat,maxlat = (-180,180,-90,90)\n",
    "world = gpd.read_file(gpd.datasets.get_path('naturalearth_lowres'))\n",
    "world.plot(ax=ax1, color='0.8', edgecolor='none')\n",
    "# set x and y limits\n",
    "ax1.set_xlim(minlon,maxlon)\n",
    "ax1.set_ylim(minlat,maxlat)\n",
    "ax1.set_aspect('equal', adjustable='box')\n",
    "# add x and y labels\n",
    "ax1.set_xlabel('Longitude')\n",
    "ax1.set_ylabel('Latitude')\n",
    "# adjust subplot and show\n",
    "fig.subplots_adjust(left=0.06,right=0.98,bottom=0.08,top=0.98)"
   ]
  },
  {
   "cell_type": "markdown",
   "metadata": {
    "id": "wnQ4VoluM_4B"
   },
   "source": [
    "Geographic Coordinate Systems\n",
    "-----------------------------\n",
    "Locations on Earth are usually specified in a geographic coordinate system consisting of\n",
    "- _Longitude_ specifies the angle east and west from the Prime Meridian (102 meters east of the Royal Observatory at Greenwich)\n",
    "- _Latitude_ specifies the angle north and south from the Equator\n",
    "\n",
    "The map above _projects_ geographic data from the Earth's 3-dimensional geometry on to a flat surface.  [The three common types of projections are _cylindric_, _conic_ and _planar_](https://courses.washington.edu/gis250/lessons/projection/).  Each type is a different way of flattening the Earth's geometry into 2-dimensional space.\n",
    "\n",
    "This map is in an _Equirectangular Projection_ (Plate Carrée), where latitude and longitude are equally spaced.  Equirectangular is cylindrical projection, which has benefits as latitudes and longitudes form straight lines.  However, this projection distorts both _shape_ and _distance_, particularly at higher latitudes.\n",
    "\n"
   ]
  },
  {
   "cell_type": "code",
   "execution_count": null,
   "metadata": {
    "colab": {
     "base_uri": "https://localhost:8080/",
     "height": 385
    },
    "id": "i8o-ddBcj98I",
    "outputId": "f287a1a5-6839-4afa-ff9f-61bc6bf333ac"
   },
   "outputs": [],
   "source": [
    "fig,ax1 = plt.subplots(num=1, figsize=(10.375,5.0))\n",
    "minlon,maxlon,minlat,maxlat = (-180,180,-90,90)\n",
    "dlon,dlat = (1.0,1.0)\n",
    "longitude = np.arange(minlon,maxlon+dlon,dlon)\n",
    "latitude = np.arange(minlat,maxlat+dlat,dlat)\n",
    "# calculate and plot grid area\n",
    "gridlon,gridlat = np.meshgrid(longitude, latitude)\n",
    "im = ax1.imshow(np.cos(gridlat*np.pi/180.0),\n",
    "    extent=(minlon,maxlon,minlat,maxlat), \n",
    "    interpolation='nearest',\n",
    "    cmap=plt.cm.get_cmap('plasma'),\n",
    "    origin='lower')\n",
    "# add coastlines\n",
    "world = gpd.read_file(gpd.datasets.get_path('naturalearth_lowres'))\n",
    "world.plot(ax=ax1, color='none', edgecolor='black')\n",
    "# set x and y limits\n",
    "ax1.set_xlim(minlon,maxlon)\n",
    "ax1.set_ylim(minlat,maxlat)\n",
    "ax1.set_aspect('equal', adjustable='box')\n",
    "# add x and y labels\n",
    "ax1.set_xlabel('Longitude')\n",
    "ax1.set_ylabel('Latitude')\n",
    "# add colorbar\n",
    "cbar = plt.colorbar(im, cax=fig.add_axes([0.92, 0.08, 0.025, 0.90]))\n",
    "cbar.ax.set_ylabel('Normalized Grid Area')\n",
    "cbar.solids.set_rasterized(True)\n",
    "# adjust subplot and show\n",
    "fig.subplots_adjust(left=0.06,right=0.9,bottom=0.08,top=0.98)"
   ]
  },
  {
   "cell_type": "markdown",
   "metadata": {
    "id": "mlA4NXnCFMAJ"
   },
   "source": [
    "Notes on Projections\n",
    "--------------------\n",
    "\n",
    "_There is no perfect projection for all purposes_\n",
    "\n",
    "Not all maps are good for ocean or land navigation\n",
    "\n",
    "Not all projections are good for polar mapping\n",
    "\n",
    "Every projection will distort either shape, area, distance or direction\n",
    "\n",
    "- _conformal_ projections minimize distortion in shape\n",
    "- _equal-area_ projections minimize distortion in area\n",
    "- _equidistant_ projections minimize distortion in distance\n",
    "- _true-direction_ projections minimize distortion in direction\n",
    "\n",
    "While there are [projections that are better suited for specific purposes](https://pubs.usgs.gov/gip/70047422/report.pdf), [choosing a map projection](https://pubs.usgs.gov/pp/1395/report.pdf) is a bit of an art 🦋\n",
    "\n",
    "[![](https://imgs.xkcd.com/comics/map_projections.png)](https://xkcd.com/977/)"
   ]
  },
  {
   "cell_type": "markdown",
   "metadata": {
    "id": "ZC0-iei4ts36"
   },
   "source": [
    "### **Q: What is your favorite projection?** 🌎\n",
    "### **Q: What projections do you use in your research?** 🌏"
   ]
  },
  {
   "cell_type": "markdown",
   "metadata": {
    "id": "_uzX_L0G0BVq"
   },
   "source": [
    "Reference Systems and Datums\n",
    "----------------------------\n",
    "Coordinates are defined to be in _reference_ to the origins of the coordinate system\n",
    "- Horizontally, coordinates are in reference to the Equator and the Prime Meridian\n",
    "- Vertically, heights are in reference to a [_datum_](https://vdatum.noaa.gov/docs/datums.html)\n",
    "\n",
    "Two common vertical datums are the reference _ellipsoid_ and the reference _geoid_.\n",
    "\n",
    "What are they and what is the difference?\n",
    "- To ﬁrst approximation, the Earth is a sphere (🐄) with a radius of 6371 kilometers.\n",
    "- To a better approximation, the Earth is a slightly flattened ellipsoid with the polar axis 22 kilometers shorter than the equatorial axis.\n",
    "- To an even better approximation, the Earth's shape can be described using a reference geoid, which undulates 10s of meters above and below the reference ellipsoid. The difference in height between the ellipsoid and the geoid are known as _geoid heights_.\n",
    "\n",
    "The geoid is an _equipotential surface_, perpendicular to the force of gravity at all points and with a constant geopotential. Reference ellipsoids and geoids are both created to largely coincide with mean sea level if the oceans were at rest.\n",
    "\n",
    "An _ellipsoid can be considered a simplification of a geoid_.\n",
    "\n",
    "![Derived from the International Centre for Global Earth Models (ICGEM)](../../img/EGM2008.png)\n",
    "\n",
    "[PROJ hosts grids for shifting both the horizontal and vertical datum](https://cdn.proj.org/), such as gridded [EGM2008 geoid height values](https://cdn.proj.org/us_nga_egm08_25.tif)\n",
    "\n",
    "Additional geoid height values can be calculated at the [International Centre for Global Earth Models (ICGEM)](http://icgem.gfz-potsdam.de/home)"
   ]
  },
  {
   "cell_type": "markdown",
   "metadata": {
    "id": "Ja9n589rAX0Z"
   },
   "source": [
    "Why Does This Matter?\n",
    "---------------------\n",
    "\n",
    "ICESat-2 elevations are in reference to the WGS84 (G1150) ellipsoid.  ICESat-2 data products also include geoid heights from the [EGM2008 geoid](https://www.usna.edu/Users/oceano/pguth/md_help/html/egm96.htm).  Different ground-based, airborne or satellite-derived elevations may use a separate datum entirely.  _Elevations have to be in the same reference frame when comparing heights_.\n",
    "\n",
    "Different datums have different purposes.  Heights above mean sea level are needed for ocean and sea ice heights, and are also commonly used for terrestrial mapping (e.g. as elevations of mountains).  Ellipsoidal heights are commonly used for estimating land ice height change.\n",
    "\n",
    "### **Q: What datum is right for me?**\n",
    "- If it is useful to be in reference to sea level: be in reference to the geoid\n",
    "- If that doesn't matter: can be in reference to the ellipsoid \n",
    "- If comparing datasets: have everything be in the same datum\n",
    "\n",
    "![Modified from: Tapley, B. D. & M-C. Kim, Applications to Geodesy, Chapt. 10 in Satellite Altimetry and Earth Sciences, ed. by L-L. Fu & A. Cazenave, Academic Press, pp. 371-406, 2001.](../../img/IS2_surfaces_and_datums.png)"
   ]
  },
  {
   "cell_type": "markdown",
   "metadata": {
    "id": "_7RKi565eT4g"
   },
   "source": [
    "Terrestrial Reference System\n",
    "----------------------------\n",
    "Locations of satellites are determined in an Earth-centered cartesian coordinate system\n",
    "- **X**, **Y**, and **Z** measurements from the Earth's center of mass\n",
    "\n",
    "Presently ICESat-2 is set in the [2014 realization of the International Terrestrial Reference Frame (ITRF)](https://itrf.ign.fr/ITRF_solutions/2014/ITRF2014.php).  Other satellite and airborne altimetry missions may be in a different ITRF.\n",
    "\n",
    "As opposed to simple vertical offsets, changing the terrestrial reference system can involve both [translation and rotation of the reference system](https://itrf.ign.fr/doc_ITRF/Transfo-ITRF2014_ITRFs.txt).  This involves converting from a geographic coordinate system into a Cartesian coordinate system.\n",
    "\n",
    "The [NSIDC IceFlow API](https://nsidc.org/nsidc-highlights/2021/03/there-and-back-again-iceflow-data-tool) will standardize data from NASA altimetry missions to a single ITRF realization.\n",
    "\n",
    "Let's visualize what the Cartesian coordinate system looks like:"
   ]
  },
  {
   "cell_type": "code",
   "execution_count": null,
   "metadata": {
    "id": "Q3NH5BCsnBma"
   },
   "outputs": [],
   "source": [
    "def to_cartesian(lon,lat,h=0.0,a_axis=6378137.0,flat=1.0/298.257223563):\n",
    "    \"\"\"\n",
    "    Converts geodetic coordinates to Cartesian coordinates\n",
    "\n",
    "    Inputs:\n",
    "        lon: longitude (degrees east)\n",
    "        lat: latitude (degrees north)\n",
    "\n",
    "    Options:\n",
    "        h: height above ellipsoid (or sphere)\n",
    "        a_axis: semimajor axis of the ellipsoid (default: WGS84)\n",
    "            * for spherical coordinates set to radius of the Earth\n",
    "        flat: ellipsoidal flattening (default: WGS84)\n",
    "            * for spherical coordinates set to 0\n",
    "    \"\"\"\n",
    "    # verify axes\n",
    "    lon = np.atleast_1d(lon)\n",
    "    lat = np.atleast_1d(lat)\n",
    "    # fix coordinates to be 0:360\n",
    "    lon[lon < 0] += 360.0\n",
    "    # Linear eccentricity and first numerical eccentricity\n",
    "    lin_ecc = np.sqrt((2.0*flat - flat**2)*a_axis**2)\n",
    "    ecc1 = lin_ecc/a_axis\n",
    "    # convert from geodetic latitude to geocentric latitude\n",
    "    dtr = np.pi/180.0\n",
    "    # geodetic latitude in radians\n",
    "    latitude_geodetic_rad = lat*dtr\n",
    "    # prime vertical radius of curvature\n",
    "    N = a_axis/np.sqrt(1.0 - ecc1**2.0*np.sin(latitude_geodetic_rad)**2.0)\n",
    "    # calculate X, Y and Z from geodetic latitude and longitude\n",
    "    X = (N + h) * np.cos(latitude_geodetic_rad) * np.cos(lon*dtr)\n",
    "    Y = (N + h) * np.cos(latitude_geodetic_rad) * np.sin(lon*dtr)\n",
    "    Z = (N * (1.0 - ecc1**2.0) + h) * np.sin(latitude_geodetic_rad)\n",
    "    # return the cartesian coordinates\n",
    "    return (X,Y,Z)"
   ]
  },
  {
   "cell_type": "code",
   "execution_count": null,
   "metadata": {
    "colab": {
     "base_uri": "https://localhost:8080/",
     "height": 248
    },
    "id": "6DBlf-W4me1M",
    "outputId": "96492b88-a8e8-416f-e0a0-5585d9034bdd"
   },
   "outputs": [],
   "source": [
    "fig,ax2 = plt.subplots(num=2, subplot_kw=dict(projection='3d'))\n",
    "minlon,maxlon,minlat,maxlat = (-180,180,-90,90)\n",
    "dlon,dlat = (10.0,10.0)\n",
    "longitude = np.arange(minlon,maxlon+dlon,dlon)\n",
    "latitude = np.arange(minlat,maxlat+dlat,dlat)\n",
    "# calculate and plot grid area\n",
    "gridlon,gridlat = np.meshgrid(longitude, latitude)\n",
    "X,Y,Z = to_cartesian(gridlon,gridlat)\n",
    "ax2.scatter3D(X, Y, Z, c=gridlat)\n",
    "plt.show()"
   ]
  },
  {
   "cell_type": "markdown",
   "metadata": {
    "id": "HnbQYv33aJkI"
   },
   "source": [
    "Yep, that looks like an ellipsoid"
   ]
  },
  {
   "cell_type": "markdown",
   "metadata": {
    "id": "1a6sy_N5BL7s"
   },
   "source": [
    "Permanent Tidal Systems\n",
    "-----------------------\n",
    "Tides on the Earth are caused by the gravitational forces of the Sun and Moon. \n",
    "\n",
    "**Q: What do you think of when you think of tides?**\n",
    "\n",
    "In addition to the ups and downs of tides, there is considerable part that does not vary in time, a _permanent tide_ that is due to the Earth being in the presence of the Sun and Moon.  The [Earth is lower in polar areas and higher in equatorial areas](https://www.ngs.noaa.gov/PUBS_LIB/EGM96_GEOID_PAPER/egm96_geoid_paper.html) than it would without those gravitational effects.  In effect, the Earth's crust and geoid have more of an equatorial bulge.\n",
    "\n",
    "All of the the tidal effects, the periodic and the permanent, are typically removed from a geoid model.  These geoid models are _tide-free_.\n",
    "\n",
    "For most use cases in the real world, we want to include the permanent tide as part of the geoid because it reflects the Earth as it is, in the solar system with the sun 🌞 and the moon 🌜.\n",
    "\n",
    "<!--\n",
    "The sun and the moon have both a direct and an indirect effect on the Earth's permanent tide.\n",
    "- _Direct effect_: the actual bulge in the ocean and solid earth from the gravitational attraction\n",
    "- _Indirect effect_: the elastic deformation in the Solid Earth induced by the redistribution of mass.\n",
    "\n",
    "The direct and indirect effects of the permanent tide can be restored to _tide-free_ reference geoids.  Depending on the level of processing, geoid heights can be referred to be in one of [three different tidal systems](http://mitgcm.org/~mlosch/geoidcookbook/node9.html):\n",
    "- _Mean Tide_: includes the deformation effects of the permanent tide \n",
    "- _Zero Tide_: only indirect effects of the permanent tide are restored\n",
    "- _Tide-Free_: direct and indirect effects of the permanent tide are restored\n",
    "-->\n",
    "\n",
    "Since Release-4, the EGM2008 geoid heights provided in ICESat-2 products have used a _tide-free_ system.  There is a parameter included in the ICESat-2 products for converting back to a _mean tide_ system, [which restores the permanent tide components](http://mitgcm.org/~mlosch/geoidcookbook/node9.html) and coincides with with mean sea level."
   ]
  },
  {
   "cell_type": "code",
   "execution_count": null,
   "metadata": {
    "colab": {
     "base_uri": "https://localhost:8080/",
     "height": 643
    },
    "id": "sO1iYTobCVYU",
    "outputId": "874ce1c4-779e-48b7-897a-8878ed96dcb4"
   },
   "outputs": [],
   "source": [
    "minlon,maxlon,minlat,maxlat = (-180,180,-90,90)\n",
    "dlon,dlat = (1.0,1.0)\n",
    "longitude = np.arange(minlon,maxlon+dlon,dlon)\n",
    "latitude = np.arange(minlat,maxlat+dlat,dlat)\n",
    "# calculate and plot permanent tide transformation\n",
    "gridlon,gridlat = np.meshgrid(longitude, latitude)\n",
    "theta = np.pi*(90.0 - gridlat)/180.0\n",
    "# unnormalized Legendre polynomial of degree 2\n",
    "P2 = 0.5*(3.0*np.cos(theta)**2 - 1.0)\n",
    "# love number of degree 2 (IERS standards)\n",
    "k2 = 0.3\n",
    "# transformations for changing from tide-free to different permanent tides\n",
    "geoid_free2mean = -0.198*(1.0 + k2)*P2\n",
    "geoid_free2zero = -0.198*k2*P2\n",
    "geoid_zero2mean = -0.198*P2\n",
    "\n",
    "# plot geoid conversion from free2mean (same as in ICESat-2 products)\n",
    "fig,ax1 = plt.subplots(num=1, figsize=(10.375,5.0))\n",
    "im = ax1.imshow(100.0*geoid_free2mean,\n",
    "    extent=(minlon,maxlon,minlat,maxlat), \n",
    "    interpolation='nearest',\n",
    "    cmap=plt.cm.get_cmap('plasma'),\n",
    "    origin='lower')\n",
    "# add coastlines\n",
    "world = gpd.read_file(gpd.datasets.get_path('naturalearth_lowres'))\n",
    "world.plot(ax=ax1, color='none', edgecolor='black')\n",
    "# set x and y limits\n",
    "ax1.set_xlim(minlon,maxlon)\n",
    "ax1.set_ylim(minlat,maxlat)\n",
    "ax1.set_aspect('equal', adjustable='box')\n",
    "# add x and y labels\n",
    "ax1.set_xlabel('Longitude')\n",
    "ax1.set_ylabel('Latitude')\n",
    "# add colorbar\n",
    "cbar = plt.colorbar(im, cax=fig.add_axes([0.92, 0.08, 0.025, 0.90]))\n",
    "cbar.ax.set_ylabel('Geoid Correction [cm]')\n",
    "cbar.solids.set_rasterized(True)\n",
    "# adjust subplot and show\n",
    "fig.subplots_adjust(left=0.06,right=0.9,bottom=0.08,top=0.98)\n",
    "\n",
    "# show zonal averages of permanent tide transforms\n",
    "fig,ax2 = plt.subplots(num=2)\n",
    "ax2.plot(100.0*geoid_free2mean[:,0], latitude, color='mediumseagreen', label='free2mean')\n",
    "# ax2.plot(100.0*geoid_free2zero[:,0], latitude, color='darkorchid', label='free2zero')\n",
    "# ax2.plot(100.0*geoid_zero2mean[:,0], latitude, color='darkorange', label='zero2mean')\n",
    "ax2.axhline(0.0, ls='--', color='0.5', dashes=(6,3))\n",
    "ax2.set_xlabel('Geoid Correction [cm]')\n",
    "ax2.set_ylabel('Latitude')\n",
    "# add legend\n",
    "lgd = ax2.legend(loc=1, frameon=False)\n",
    "lgd.get_frame().set_alpha(1.0)\n",
    "for line in lgd.get_lines():\n",
    "    line.set_linewidth(6)\n",
    "plt.show()"
   ]
  },
  {
   "cell_type": "markdown",
   "metadata": {
    "id": "ZyOpisAL9e26"
   },
   "source": [
    "Coordinate Reference Systems\n",
    "----------------------------\n",
    "\n",
    "Combined, projections and vertical datums can describe a Coordinate Reference System (CRS).\n",
    "\n",
    "There are many different ways of [detailing a coordinate reference system (CRS)](https://spatialreference.org/).  Three common CRS formats are:\n",
    "1. [Well-Known Text (WKT)](https://www.ogc.org/standards/wkt-crs): can describe any coordinate reference system and is the standard for a lot of software\n",
    "\n",
    "```\n",
    "GEOGCS[\"WGS 84\",\n",
    "    DATUM[\"WGS_1984\",\n",
    "        SPHEROID[\"WGS 84\",6378137,298.257223563,\n",
    "            AUTHORITY[\"EPSG\",\"7030\"]],\n",
    "        AUTHORITY[\"EPSG\",\"6326\"]],\n",
    "    PRIMEM[\"Greenwich\",0,\n",
    "        AUTHORITY[\"EPSG\",\"8901\"]],\n",
    "    UNIT[\"degree\",0.01745329251994328,\n",
    "        AUTHORITY[\"EPSG\",\"9122\"]],\n",
    "    AUTHORITY[\"EPSG\",\"4326\"]]\n",
    "```\n",
    "2. [PROJ string](https://proj.org/): shorter with some less information but can also describe any coordinate reference system\n",
    "\n",
    "```\n",
    "+proj=longlat +ellps=WGS84 +datum=WGS84 +no_defs \n",
    "```\n",
    "3. [EPSG code](https://epsg.io/): simple and easy to remember\n",
    "\n",
    "```\n",
    "EPSG:4326\n",
    "```"
   ]
  },
  {
   "cell_type": "code",
   "execution_count": null,
   "metadata": {
    "id": "tDBZWA2YK2m-"
   },
   "outputs": [],
   "source": [
    "crs4326 = pyproj.CRS.from_epsg(4326)\n",
    "crs3031 = pyproj.CRS.from_epsg(3031)\n",
    "transformer = pyproj.Transformer.from_crs(crs4326, crs3031, always_xy=True)"
   ]
  },
  {
   "cell_type": "markdown",
   "metadata": {
    "id": "nAzHjRuwNnwz"
   },
   "source": [
    "We can use these transformers with geopandas to make a polar stereographic plot.\n",
    "\n",
    "The Coordinate Reference System of a [geopandas GeoDataFrame can be transformed to another](http://geopandas.org/projections.html) using the `to_crs()` function.  The `to_crs()` function can import different forms including WKT strings, PROJ strings, EPSG codes and pyproj CRS objects.  The GeoDataFrame must have an original CRS before the conversion."
   ]
  },
  {
   "cell_type": "code",
   "execution_count": null,
   "metadata": {
    "colab": {
     "base_uri": "https://localhost:8080/",
     "height": 559
    },
    "id": "S0Od20RJMN3e",
    "outputId": "e16a538a-79dd-4b3c-832f-904c6a83de8e"
   },
   "outputs": [],
   "source": [
    "fig,ax3 = plt.subplots(num=3, figsize=(10,7.5))\n",
    "xmin,xmax,ymin,ymax = (-3100000,3100000,-2600000,2600000)\n",
    "# add coastlines\n",
    "world = gpd.read_file(gpd.datasets.get_path('naturalearth_lowres')).to_crs(crs3031)\n",
    "world.plot(ax=ax3, color='0.8', edgecolor='none')\n",
    "# set x and y limits\n",
    "ax3.set_xlim(xmin,xmax)\n",
    "ax3.set_ylim(ymin,ymax)\n",
    "ax3.set_aspect('equal', adjustable='box')\n",
    "# add x and y labels\n",
    "x_info,y_info = crs3031.axis_info\n",
    "ax3.set_xlabel('{0} [{1}]'.format(x_info.name,x_info.unit_name))\n",
    "ax3.set_ylabel('{0} [{1}]'.format(y_info.name,y_info.unit_name))\n",
    "# adjust subplot and show\n",
    "fig.subplots_adjust(left=0.06,right=0.98,bottom=0.08,top=0.98)"
   ]
  },
  {
   "cell_type": "markdown",
   "metadata": {
    "id": "l3Bj71TFOe4l"
   },
   "source": [
    "Ahhh Antarctica 🐧\n",
    "\n",
    "Stereographic projections are common for mapping in polar regions.  A lot of legacy data products for both Greenland and Antarctica use polar stereographic projections. Some other polar products, such as NSIDC EASE/EASE-2 grids, are in _equal-area_ projections.  \n",
    "\n",
    "Stereographic projections are _conformal_, preserving angles but not distances or areas.  _Equal-area_ map projection cannot be conformal, nor can a conformal map projection be equal-area.  \n",
    "\n",
    "_If CRS metadata on any products isn't included within the data product, make sure it's in the right projection and datum._\n"
   ]
  },
  {
   "cell_type": "code",
   "execution_count": null,
   "metadata": {
    "id": "j2S3AC4uKtkj"
   },
   "outputs": [],
   "source": [
    "def scale_areas(lat, flat=1.0/298.257223563, ref=70.0):\n",
    "    \"\"\"\n",
    "    Area scaling factors for a polar stereographic projection including special\n",
    "        exact pole case\n",
    "\n",
    "    Inputs:\n",
    "        lat: latitude (degrees north)\n",
    "\n",
    "    Options:\n",
    "        flat: ellipsoidal flattening\n",
    "        ref: reference latitude (standard parallel)\n",
    "\n",
    "    Returns:\n",
    "        scale: area scaling factors at input latitudes\n",
    "\n",
    "    References:\n",
    "        Snyder, J P (1982) Map Projections used by the U.S. Geological Survey\n",
    "            Forward formulas for the ellipsoid.  Geological Survey Bulletin\n",
    "            1532, U.S. Government Printing Office.\n",
    "        JPL Technical Memorandum 3349-85-101\n",
    "    \"\"\"\n",
    "    # convert latitude from degrees to positive radians\n",
    "    theta = np.abs(lat)*np.pi/180.0\n",
    "    # convert reference latitude from degrees to positive radians\n",
    "    theta_ref = np.abs(ref)*np.pi/180.0\n",
    "    # square of the eccentricity of the ellipsoid\n",
    "    # ecc2 = (1-b**2/a**2) = 2.0*flat - flat^2\n",
    "    ecc2 = 2.0*flat - flat**2\n",
    "    # eccentricity of the ellipsoid\n",
    "    ecc = np.sqrt(ecc2)\n",
    "    # calculate ratio at input latitudes\n",
    "    m = np.cos(theta)/np.sqrt(1.0 - ecc2*np.sin(theta)**2)\n",
    "    t = np.tan(np.pi/4.0 - theta/2.0)/((1.0 - ecc*np.sin(theta)) / \\\n",
    "        (1.0 + ecc*np.sin(theta)))**(ecc/2.0)\n",
    "    # calculate ratio at reference latitude\n",
    "    mref = np.cos(theta_ref)/np.sqrt(1.0 - ecc2*np.sin(theta_ref)**2)\n",
    "    tref = np.tan(np.pi/4.0 - theta_ref/2.0)/((1.0 - ecc*np.sin(theta_ref)) / \\\n",
    "        (1.0 + ecc*np.sin(theta_ref)))**(ecc/2.0)\n",
    "    # distance scaling for general and polar case\n",
    "    k = (mref/m)*(t/tref)\n",
    "    kp = 0.5*mref*np.sqrt(((1.0+ecc)**(1.0+ecc))*((1.0-ecc)**(1.0-ecc)))/tref\n",
    "    # calculate area scaling factor\n",
    "    scale = np.where(np.isclose(theta,np.pi/2.0),1.0/(kp**2),1.0/(k**2))\n",
    "    return scale"
   ]
  },
  {
   "cell_type": "markdown",
   "metadata": {
    "id": "NRVqLIxACL1I"
   },
   "source": [
    "pyproj transform objects can be used to change the Coordinate Reference System of arrays.\n",
    "\n",
    "Here, we'll use the transform to get the latitude and longitude coordinates of points in this projection (an _inverse_ transformation), and get the polar stereographic coordinates for plotting a circle around the standard parallel (-71°) of this projection (a _forward_ transformation).\n",
    "\n",
    "The _standard parallel_ of a stereographic projection is the latitude where there is no scale distortion."
   ]
  },
  {
   "cell_type": "code",
   "execution_count": null,
   "metadata": {
    "colab": {
     "base_uri": "https://localhost:8080/",
     "height": 559
    },
    "id": "0trvBO3rCfpM",
    "outputId": "b8b13789-21a2-4348-a968-248f7bb6566d"
   },
   "outputs": [],
   "source": [
    "fig,ax3 = plt.subplots(num=3, figsize=(10,7.5))\n",
    "xmin,xmax,ymin,ymax = (-3100000,3100000,-2600000,2600000)\n",
    "dx,dy = (10000,10000)\n",
    "# create a grid of polar stereographic points\n",
    "X = np.arange(xmin,xmax+dx,dx)\n",
    "Y = np.arange(ymin,ymax+dy,dy)\n",
    "gridx,gridy = np.meshgrid(X, Y)\n",
    "# convert polar stereographic points to latitude/longitude (WGS84)\n",
    "gridlon,gridlat = transformer.transform(gridx, gridy,\n",
    "    direction=pyproj.enums.TransformDirection.INVERSE)\n",
    "# calculate and plot grid area\n",
    "cf = crs3031.to_cf()\n",
    "flat = 1.0/cf['inverse_flattening']\n",
    "gridarea = scale_areas(gridlat, flat=flat, ref=cf['standard_parallel'])\n",
    "im = ax3.imshow(gridarea,\n",
    "    extent=(xmin,xmax,ymin,ymax), \n",
    "    interpolation='nearest',\n",
    "    cmap=plt.cm.get_cmap('plasma'),\n",
    "    origin='lower')\n",
    "# add circle around standard parallel\n",
    "ref_lon = np.arange(360)\n",
    "ref_lat = np.ones((360))*cf['standard_parallel']\n",
    "# convert latitude/longitude (WGS84) points to polar stereographic\n",
    "ref_x,ref_y = transformer.transform(ref_lon, ref_lat,\n",
    "    direction=pyproj.enums.TransformDirection.FORWARD)\n",
    "l, = ax3.plot(ref_x, ref_y, '--', color='w', dashes=(8,4), label='Standard Parallel')\n",
    "# add coastlines\n",
    "world = gpd.read_file(gpd.datasets.get_path('naturalearth_lowres')).to_crs(crs3031)\n",
    "world.plot(ax=ax3, color='none', edgecolor='black')\n",
    "# set x and y limits\n",
    "ax3.set_xlim(xmin,xmax)\n",
    "ax3.set_ylim(ymin,ymax)\n",
    "ax3.set_aspect('equal', adjustable='box')\n",
    "# add x and y labels\n",
    "x_info,y_info = crs3031.axis_info\n",
    "ax3.set_xlabel('{0} [{1}]'.format(x_info.name,x_info.unit_name))\n",
    "ax3.set_ylabel('{0} [{1}]'.format(y_info.name,y_info.unit_name))\n",
    "# add colorbar\n",
    "cbar = plt.colorbar(im, cax=fig.add_axes([0.92, 0.08, 0.025, 0.90]))\n",
    "cbar.ax.set_ylabel('Normalized Grid Area')\n",
    "cbar.solids.set_rasterized(True)\n",
    "# add legend\n",
    "lgd = ax3.legend(loc=4,frameon=False)\n",
    "lgd.get_frame().set_alpha(1.0)\n",
    "for line in lgd.get_lines():\n",
    "    line.set_linewidth(6)\n",
    "for i,text in enumerate(lgd.get_texts()):\n",
    "    text.set_color(l.get_color())\n",
    "fig.subplots_adjust(left=0.06,right=0.9,bottom=0.08,top=0.98)"
   ]
  },
  {
   "cell_type": "markdown",
   "metadata": {
    "id": "IvHhl1o1yUC6"
   },
   "source": [
    "Why is there a black line to the pole?  Because this coastline was reprojected from a Equirectangular projection.  That's the bottom of the Equirectangular map."
   ]
  },
  {
   "cell_type": "markdown",
   "metadata": {
    "id": "nQvP5cFxLkhQ"
   },
   "source": [
    "pyproj CRS Tricks\n",
    "-----------------\n",
    "\n",
    "pyproj CRS objects can:\n",
    "\n",
    "- Be converted to different methods of describing the CRS, such a to a PROJ string or WKT"
   ]
  },
  {
   "cell_type": "code",
   "execution_count": null,
   "metadata": {
    "colab": {
     "base_uri": "https://localhost:8080/"
    },
    "id": "ecgYJRjjLioy",
    "outputId": "b729a6b7-8612-4298-d451-e947ef75bca7"
   },
   "outputs": [],
   "source": [
    "proj3031 = crs3031.to_proj4()\n",
    "wkt3031 = crs3031.to_wkt()\n",
    "print(proj3031)"
   ]
  },
  {
   "cell_type": "code",
   "execution_count": null,
   "metadata": {
    "id": "zmuj7dLvTT_9"
   },
   "outputs": [],
   "source": [
    "assert(crs3031.is_exact_same(pyproj.CRS.from_wkt(wkt3031)))"
   ]
  },
  {
   "cell_type": "markdown",
   "metadata": {
    "id": "dGu9KVcK2UHG"
   },
   "source": [
    "- Provide information about each coordinate reference system, such as the name, area of use and axes units."
   ]
  },
  {
   "cell_type": "code",
   "execution_count": null,
   "metadata": {
    "colab": {
     "base_uri": "https://localhost:8080/"
    },
    "id": "KXjQgGzd2PLj",
    "outputId": "96cd0328-1c03-41eb-d058-82fddaebfdac"
   },
   "outputs": [],
   "source": [
    "for EPSG in (3031,3413,5936,6931,6932):\n",
    "  crs = pyproj.CRS.from_epsg(EPSG)\n",
    "  x_info,y_info = crs.axis_info\n",
    "  print(f'{crs.name} ({EPSG})')\n",
    "  print(f'\\tRegion: {crs.area_of_use.name}')\n",
    "  print(f'\\tScope: {crs.scope}')\n",
    "  print(f'\\tAxes: {x_info.name} ({x_info.unit_name}), {y_info.name} ({y_info.unit_name})')"
   ]
  },
  {
   "cell_type": "markdown",
   "metadata": {
    "id": "V775dy6h8QUY"
   },
   "source": [
    "- Get coordinate reference system metadata for including in files\n"
   ]
  },
  {
   "cell_type": "code",
   "execution_count": null,
   "metadata": {
    "colab": {
     "base_uri": "https://localhost:8080/"
    },
    "id": "-DNvV4X89_UA",
    "outputId": "aaa0b357-1403-42fc-888a-3f4eab1e301b"
   },
   "outputs": [],
   "source": [
    "print('Climate and Forecast (CF) conventions')\n",
    "cf = pyproj.CRS.from_epsg(5936).to_cf()\n",
    "for key,val in cf.items():\n",
    "    print(f'\\t{key}: {val}')"
   ]
  },
  {
   "cell_type": "markdown",
   "metadata": {
    "id": "Q6oosjf5l7Qp"
   },
   "source": [
    "- Be used to build transformer objects for converting coordinate systems\n",
    "- And a whole lot more!"
   ]
  },
  {
   "cell_type": "markdown",
   "metadata": {
    "id": "W_5FEZA2U4Kj"
   },
   "source": [
    "Geospatial Data\n",
    "---------------\n",
    "\n",
    "What is Geospatial Data?  Data that has location information associated with it.\n",
    "\n",
    "Geospatial data comes in two flavors: _vector_ and _raster_\n",
    "- Vector data is composed of points, lines, and polygons\n",
    "- Raster data is composed of individual grid cells\n",
    "\n",
    "[![Vector vs. Raster](https://developers.planet.com/planetschool/images/vectorraster.png)](https://developers.planet.com/planetschool/geospatial-data/)\n",
    "\n",
    "_Vector vs. Raster from [Planet School](https://developers.planet.com/planetschool)_\n",
    "\n",
    "### **Q: When would we use vector over raster?**\n",
    "### **Q: When would we use raster over vector?**\n",
    "\n",
    "Vector data will provide geometric information for every point or vertex in the geometry.\n",
    "\n",
    "Raster data will provide geometric information for a particular corner, which can be combined with the grid cell sizes and grid dimensions to get the grid cell coordinates.\n",
    "\n",
    "Common vector file formats:\n",
    "- GeoJSON\n",
    "- shapefile\n",
    "- GeoPackage\n",
    "- ESRI geodatabase\n",
    "- kml/kmz\n",
    "\n",
    "Common raster file formats:\n",
    "- geotiff/cog\n",
    "- jpeg\n",
    "- png\n",
    "- netCDF\n",
    "- HDF5\n",
    "\n",
    "All geospatial data (raster and vector) should have metadata for extracting the coordinate reference system of the data.  Some of this metadata is not included with the files but can be found in the documentation.\n",
    "\n",
    "### **Q: Are you more familiar with using vector or raster data?**\n",
    "### **Q: Do you more often use GIS software or command-line tools?**"
   ]
  },
  {
   "cell_type": "markdown",
   "metadata": {
    "id": "MJx18YUi_Vd_"
   },
   "source": [
    "There are different tools for working with raster and vector data.  Some are more advantageous for one data type over the other.\n",
    "\n",
    "Let's find the coordinate reference system of some data products using some common geospatial tools.\n",
    "\n",
    "Geospatial Data Abstraction Library\n",
    "-----------------------------------\n",
    "\n",
    "The [Geospatial Data Abstraction Library (GDAL/OGR)](https://gdal.org/) is a powerful piece of software. \n",
    "\n",
    "It can read, write and query a wide variety of raster and vector geospatial data formats, transform the coordinate system of images, and manipulate other forms of geospatial data.\n",
    "\n",
    "It is the backbone of a _large_ suite of geospatial libraries and programs.\n",
    "\n",
    "<!-- It can also be an absolute pain in the neck to install, particularly if you are wanting specific drivers not included in the [default installation](https://trac.osgeo.org/gdal/wiki/BuildingOnUnix).-->\n",
    "\n",
    "There are a number of wrapper libraries (e.g. [rasterio](https://rasterio.readthedocs.io/), [rioxarray](https://corteva.github.io/rioxarray), [shapely](https://shapely.readthedocs.io/), [fiona](https://fiona.readthedocs.io/)) that provide more user-friendly interfaces with GDAL functionality.\n",
    "\n",
    "Similar to pyproj CRS objects, GDAL `SpatialReference` functions can provide a lot of information about a particular Coordinate Reference System"
   ]
  },
  {
   "cell_type": "code",
   "execution_count": null,
   "metadata": {
    "id": "EDOgcnyvCH0c"
   },
   "outputs": [],
   "source": [
    "def crs_attributes(srs_proj4=None, srs_wkt=None, srs_epsg=None, **kwargs):\n",
    "    \"\"\"\n",
    "    Return a dictionary of attributes for a projection\n",
    "    \"\"\"\n",
    "    # output projection attributes dictionary\n",
    "    crs = {}\n",
    "    # set the spatial projection reference information\n",
    "    sr = osgeo.osr.SpatialReference()\n",
    "    if srs_proj4 is not None:\n",
    "        sr.ImportFromProj4(srs_proj4)\n",
    "    elif srs_wkt is not None:\n",
    "        sr.ImportFromWkt(srs_wkt)\n",
    "    elif srs_epsg is not None:\n",
    "        sr.ImportFromEPSG(srs_epsg)\n",
    "    else:\n",
    "        return\n",
    "    # convert proj4 string to dictionary\n",
    "    proj4_dict = {p[0]:p[1] for p in re.findall(r'\\+(.*?)\\=([^ ]+)',sr.ExportToProj4())}\n",
    "    # get projection attributes\n",
    "    try:\n",
    "        crs['spatial_epsg'] = int(sr.GetAttrValue('AUTHORITY',1))\n",
    "    except Exception as e:\n",
    "        pass\n",
    "    crs['crs_wkt'] = sr.ExportToWkt()\n",
    "    crs['spatial_ref'] = sr.ExportToWkt()\n",
    "    crs['proj4_params'] = sr.ExportToProj4()\n",
    "    # get datum attributes\n",
    "    crs['semi_major_axis'] = sr.GetSemiMajor()\n",
    "    crs['semi_minor_axis'] = sr.GetSemiMinor()\n",
    "    crs['inverse_flattening'] = sr.GetInvFlattening()\n",
    "    crs['reference_ellipsoid_name'] = sr.GetAttrValue('DATUM',0)\n",
    "    crs['geographic_crs_name'] = sr.GetAttrValue('GEOGCS',0)\n",
    "    # get projection attributes\n",
    "    try:\n",
    "        crs['projected_crs_name'] = sr.GetName()\n",
    "    except Exception as e:\n",
    "        pass\n",
    "    crs['grid_mapping_name'] = sr.GetAttrValue('PROJECTION',0).lower()\n",
    "    crs['standard_name'] = sr.GetAttrValue('PROJECTION',0)\n",
    "    crs['prime_meridian_name'] = sr.GetAttrValue('PRIMEM',0)\n",
    "    crs['longitude_of_prime_meridian'] = float(sr.GetAttrValue('PRIMEM',1))\n",
    "    try:\n",
    "        crs['latitude_of_projection_origin'] = float(proj4_dict['lat_0'])\n",
    "    except Exception as e:\n",
    "        pass\n",
    "    crs['standard_parallel'] = float(sr.GetProjParm(osgeo.osr.SRS_PP_LATITUDE_OF_ORIGIN,1))\n",
    "    crs['straight_vertical_longitude_from_pole'] = float(sr.GetProjParm(osgeo.osr.SRS_PP_CENTRAL_MERIDIAN,1))\n",
    "    crs['false_northing'] = float(sr.GetProjParm(osgeo.osr.SRS_PP_FALSE_NORTHING,1))\n",
    "    crs['false_easting'] = float(sr.GetProjParm(osgeo.osr.SRS_PP_FALSE_EASTING,1))\n",
    "    crs['scale_factor'] = float(sr.GetProjParm(osgeo.osr.SRS_PP_SCALE_FACTOR,1))\n",
    "    return crs"
   ]
  },
  {
   "cell_type": "code",
   "execution_count": null,
   "metadata": {
    "colab": {
     "base_uri": "https://localhost:8080/"
    },
    "id": "-ghuO1ZUCvAc",
    "outputId": "ea14d944-1385-4781-a3e2-f7ca52c8f037"
   },
   "outputs": [],
   "source": [
    "for key,val in crs_attributes(srs_epsg=5936).items():\n",
    "  print(key,val)"
   ]
  },
  {
   "cell_type": "markdown",
   "metadata": {
    "id": "j7XZOX1M6BSu"
   },
   "source": [
    "GDAL command-line utilities also allows for quick inspection of Coordinate Reference Systems (CRS) and geospatial data files"
   ]
  },
  {
   "cell_type": "code",
   "execution_count": null,
   "metadata": {
    "colab": {
     "base_uri": "https://localhost:8080/",
     "height": 0
    },
    "id": "vl2uIlWQ58Rw",
    "outputId": "436b2a72-4bf5-4448-fa87-6b24dfba3a8c"
   },
   "outputs": [],
   "source": [
    "! gdalsrsinfo EPSG:5936"
   ]
  },
  {
   "cell_type": "markdown",
   "metadata": {
    "id": "dmWhXrpqb68a"
   },
   "source": [
    "With GDAL, we can access raster and vector data that are available over network-based file systems and virtual file systems\n",
    "\n",
    "- `/vsicurl/`: http/https/ftp files\n",
    "- `/vsis3/`: AWS S3 files\n",
    "- `/vsigs/`: Google Cloud Storage files\n",
    "- `/vsizip/`: zip archives\n",
    "- `/vsitar/`: tar/tgz archives\n",
    "- `/vsigzip/`: gzipped files\n",
    "\n",
    "These can be chained together to access compressed files over networks\n",
    "\n",
    "GDAL environment variables can often have a large impact on performance when reading data via URLs. For example `GDAL_DISABLE_READDIR_ON_OPEN=EMPTY_DIR` disables scanning directories, which is very fast on a local file system, but very slow when querying a server.\n",
    "\n",
    "Vector Data\n",
    "-----------\n",
    "\n",
    "We can use GDAL virtual file systems to access the intermediate resolution shapefile of the [Global Self-consistent, Hierarchical, High-resolution Geography Database](https://www.soest.hawaii.edu/pwessel/gshhg/) from its https server.\n",
    "\n",
    "`ogrinfo` is a GDAL/OGR tool for inspecting vector data.  We'll get a summary (`-so`) of all data (`-al`) in read-only mode (`-ro`)."
   ]
  },
  {
   "cell_type": "code",
   "execution_count": null,
   "metadata": {
    "colab": {
     "base_uri": "https://localhost:8080/",
     "height": 0
    },
    "id": "a8ZmafkWbJ0L",
    "outputId": "02cc69e1-3fc4-479c-b73b-324e538bc8c4"
   },
   "outputs": [],
   "source": [
    "! GDAL_DISABLE_READDIR_ON_OPEN=EMPTY_DIR ogrinfo -ro -al -so '/vsizip//vsicurl/http://www.soest.hawaii.edu/pwessel/gshhg/gshhg-shp-2.3.7.zip/GSHHS_shp/i/GSHHS_i_L1.shp'"
   ]
  },
  {
   "cell_type": "markdown",
   "metadata": {
    "id": "7w6uqf5SgebP"
   },
   "source": [
    "So from `ogrinfo` we can see that this shapefile is in `EPSG:4326` (WGS84 Latitude/Longitude).\n",
    "\n",
    "We can read these shapefiles using geopandas, which uses a wrapper of GDAL/OGR for reading vector data"
   ]
  },
  {
   "cell_type": "code",
   "execution_count": null,
   "metadata": {
    "colab": {
     "base_uri": "https://localhost:8080/",
     "height": 0
    },
    "id": "LvlqWNBFfKZC",
    "outputId": "bc482771-df62-4766-b6bc-ecf4201c6b65"
   },
   "outputs": [],
   "source": [
    "%%time\n",
    "\n",
    "#CPU times: user 1.51 s, sys: 114 ms, total: 1.63 s\n",
    "#Wall time: 5.97 s\n",
    "\n",
    "#1.65 later due to caching\n",
    "\n",
    "gshhg = gpd.read_file('/vsizip//vsicurl/http://www.soest.hawaii.edu/pwessel/gshhg/gshhg-shp-2.3.7.zip/GSHHS_shp/i/GSHHS_i_L1.shp')\n",
    "print(gshhg.crs)"
   ]
  },
  {
   "cell_type": "markdown",
   "metadata": {
    "id": "rfAV_4smgK1J"
   },
   "source": [
    "Let's use these coastlines to make a plot of Greenland in a [Polar Stereographic projection (EPSG:3413)](https://epsg.io/3413)"
   ]
  },
  {
   "cell_type": "code",
   "execution_count": null,
   "metadata": {
    "colab": {
     "base_uri": "https://localhost:8080/",
     "height": 682
    },
    "id": "YCa08Oq8eaW4",
    "outputId": "aafc1d2f-4ff3-4587-c5b8-baab9f001d4b"
   },
   "outputs": [],
   "source": [
    "fig,ax4 = plt.subplots(num=4, figsize=(9,9))\n",
    "crs3413 = pyproj.CRS.from_epsg(3413)\n",
    "xmin,xmax,ymin,ymax = (-1530000, 1610000,-3600000, -280000)\n",
    "# add coastlines\n",
    "gshhg.to_crs(crs3413).plot(ax=ax4, color='0.8', edgecolor='none')\n",
    "# set x and y limits\n",
    "ax4.set_xlim(xmin,xmax)\n",
    "ax4.set_ylim(ymin,ymax)\n",
    "ax4.set_aspect('equal', adjustable='box')\n",
    "# add x and y labels\n",
    "x_info,y_info = crs3413.axis_info\n",
    "ax4.set_xlabel('{0} [{1}]'.format(x_info.name,x_info.unit_name))\n",
    "ax4.set_ylabel('{0} [{1}]'.format(y_info.name,y_info.unit_name))\n",
    "# adjust subplot and show\n",
    "fig.subplots_adjust(left=0.06,right=0.98,bottom=0.08,top=0.98)"
   ]
  },
  {
   "cell_type": "markdown",
   "metadata": {
    "id": "_0_ZUzHkzBST"
   },
   "source": [
    "Even with intermediate resolution, we can add much better coastlines than the ones that ship with geopandas!\n",
    "\n",
    "All coastline resolutions available:\n",
    "- `c`: coarse\n",
    "- `l`: low\n",
    "- `i`: intermediate\n",
    "- `h`: high\n",
    "- `f`: full"
   ]
  },
  {
   "cell_type": "markdown",
   "metadata": {
    "id": "UfDp_Y2se3kx"
   },
   "source": [
    "Raster Data\n",
    "-----------\n",
    "\n",
    "The same virtual file system commands can be used with raster images.\n",
    "\n",
    "Let's inspect some geotiff imagery from the Landsat program.\n",
    "\n",
    "`gdalinfo` allows us to inspect the format, size, geolocation and Coordinate Reference System of raster imagery.  Appending the `-proj4` option will additionally output the PROJ string associated with this geotiff image."
   ]
  },
  {
   "cell_type": "code",
   "execution_count": null,
   "metadata": {
    "colab": {
     "base_uri": "https://localhost:8080/",
     "height": 0
    },
    "id": "nxKi1VXKdVAd",
    "outputId": "9743b12e-b6ca-4150-9074-30c899c37b5f"
   },
   "outputs": [],
   "source": [
    "! GDAL_DISABLE_READDIR_ON_OPEN=EMPTY_DIR gdalinfo -proj4 \"/vsicurl/https://storage.googleapis.com/gcp-public-data-landsat/LC08/01/046/027/LC08_L1TP_046027_20181224_20190129_01_T1/LC08_L1TP_046027_20181224_20190129_01_T1_B8.TIF\"\n"
   ]
  },
  {
   "cell_type": "markdown",
   "metadata": {
    "id": "Heh-WKrjgEDZ"
   },
   "source": [
    "This image is projected in Universal Transverse Mercator (UTM), which divides the Earth into [60 north-south oriented zones](https://pubs.usgs.gov/fs/2001/0077/report.pdf) (each 6° longitude wide).\n",
    "\n",
    "We can read geotiff files using rasterio, which is a wrapper of GDAL for reading raster data\n",
    "\n",
    "Let's find out where this image is by _warping_ the outline of the image to latitude and longitude coordinates."
   ]
  },
  {
   "cell_type": "code",
   "execution_count": null,
   "metadata": {},
   "outputs": [],
   "source": [
    "# Environment variables in Python can be set via the 'os' library\n",
    "os.environ['GDAL_DISABLE_READDIR_ON_OPEN'] = 'EMPTY_DIR'"
   ]
  },
  {
   "cell_type": "code",
   "execution_count": null,
   "metadata": {
    "colab": {
     "base_uri": "https://localhost:8080/",
     "height": 646
    },
    "id": "rvXEMtJCfmnQ",
    "outputId": "b8db0152-073f-4640-d4ad-2c303a97964a"
   },
   "outputs": [],
   "source": [
    "url = \"/vsicurl/https://storage.googleapis.com/gcp-public-data-landsat/LC08/01/046/027/LC08_L1TP_046027_20181224_20190129_01_T1/LC08_L1TP_046027_20181224_20190129_01_T1_B8.TIF\"\n",
    "with rasterio.open(url) as ds:\n",
    "    for key,val in ds.profile.items():\n",
    "        print(f'{key}: {val}')\n",
    "\n",
    "    # read the valid data mask as a ndarray.\n",
    "    mask = ds.dataset_mask()\n",
    "    # extract feature shapes and values from the array.\n",
    "    for geom, val in rasterio.features.shapes(mask, transform=ds.transform):\n",
    "        # transform shapes to EPSG:4326\n",
    "        geometry = rasterio.warp.transform_geom(ds.crs, 'EPSG:4326', geom, precision=6)\n",
    "\n",
    "    # plot location of landsat image\n",
    "    fig,ax1 = plt.subplots(num=1, figsize=(10.375,5.0))\n",
    "    minlon,maxlon,minlat,maxlat = (-180,180,-90,90)\n",
    "    # add geometry of image\n",
    "    poly = matplotlib.patches.Polygon(geometry['coordinates'][0],facecolor='red',edgecolor='red',alpha=0.5)\n",
    "    ax1.add_patch(poly)\n",
    "    # add annotation\n",
    "    xy = np.mean(poly.get_xy(),axis=0)\n",
    "    ax1.annotate(\"Here!\", xy=xy, xytext=(xy - 15.0),\n",
    "        arrowprops=dict(arrowstyle=\"->\",connectionstyle=\"arc3,rad=0.3\",color='red'),\n",
    "        bbox=dict(boxstyle=\"square\", fc=\"w\", ec=\"w\", pad=0.1),\n",
    "        color='red', weight='bold', xycoords='data', ha='center')\n",
    "    # add coastlines\n",
    "    world = gpd.read_file(gpd.datasets.get_path('naturalearth_lowres'))\n",
    "    world.plot(ax=ax1, color='none', edgecolor='black')\n",
    "    # set x and y limits\n",
    "    ax1.set_xlim(minlon,maxlon)\n",
    "    ax1.set_ylim(minlat,maxlat)\n",
    "    ax1.set_aspect('equal', adjustable='box')\n",
    "    # add x and y labels\n",
    "    ax1.set_xlabel('Longitude')\n",
    "    ax1.set_ylabel('Latitude')\n",
    "    # adjust subplot and show\n",
    "    fig.subplots_adjust(left=0.06,right=0.98,bottom=0.08,top=0.98)\n"
   ]
  },
  {
   "cell_type": "markdown",
   "metadata": {
    "id": "DijMDzqzswy1"
   },
   "source": [
    "Okay! It covers Western Washington and the University of Washington.\n",
    "\n",
    "Let's see what this image looks like first in the original image coordinates (UTM)\n",
    "\n",
    "We'll read the image data using rasterio and plot it directly with matplotlib"
   ]
  },
  {
   "cell_type": "code",
   "execution_count": null,
   "metadata": {
    "colab": {
     "base_uri": "https://localhost:8080/",
     "height": 319
    },
    "id": "eptpKv0UrHdE",
    "outputId": "5042b15c-9698-4b72-fe30-0b4a1ed230b7"
   },
   "outputs": [],
   "source": [
    "url = \"/vsicurl/https://storage.googleapis.com/gcp-public-data-landsat/LC08/01/046/027/LC08_L1TP_046027_20181224_20190129_01_T1/LC08_L1TP_046027_20181224_20190129_01_T1_B8.TIF\"\n",
    "with rasterio.open(url) as ds:\n",
    "    # read image\n",
    "    image = np.ma.zeros((ds.count,ds.height,ds.width),dtype=ds.dtypes[0],fill_value=0)\n",
    "    image.mask = np.zeros((ds.count,ds.height,ds.width), dtype=bool)\n",
    "    image.data[...] = ds.read(ds.indexes)\n",
    "    image.mask[image.data == 0] = True\n",
    "    image.data[image.mask] = image.fill_value\n",
    "    # save the coordinate reference system and transform\n",
    "    src_crs = ds.crs\n",
    "    src_transform = ds.transform\n",
    "\n",
    "    # create figure axis\n",
    "    fig, ax = plt.subplots(num=5)\n",
    "    im = ax.imshow(image[0,:,:],\n",
    "        interpolation='nearest',\n",
    "        extent=(ds.bounds.left,ds.bounds.right,ds.bounds.bottom,ds.bounds.top),\n",
    "        origin='upper')\n",
    "    # set x and y limits\n",
    "    ax.set_xlim(ds.bounds.left,ds.bounds.right)\n",
    "    ax.set_ylim(ds.bounds.bottom,ds.bounds.top)\n",
    "    # turn of frame and ticks\n",
    "    ax.set_frame_on(False)\n",
    "    ax.set_xticks([])\n",
    "    ax.set_yticks([])\n",
    "    plt.axis('off')\n",
    "    # adjust subplot within figure\n",
    "    fig.subplots_adjust(left=0, bottom=0, right=1, top=1, wspace=None, hspace=None)"
   ]
  },
  {
   "cell_type": "markdown",
   "metadata": {
    "id": "YebTTqBPMifU"
   },
   "source": [
    "Warping Raster Imagery\n",
    "----------------------\n",
    "\n",
    "_Warping_ transfers a raster image from one Coordinate Reference System (CRS) into another.\n",
    "\n",
    "We can use [GDAL to reproject the imagery data](https://gdal.org/programs/gdalwarp.html) into another CRS or change the pixel resolution of the raster image.\n",
    "\n",
    "Ground control points (GCPs) can also be applied to georeference raw maps or imagery.\n",
    "\n",
    "![ESRI warp](https://www.esri.com/about/newsroom/wp-content/uploads/2018/07/auspr18_Georefer_2.gif)\n",
    "\n",
    "_Raster Georeferencing from [ESRI](https://www.esri.com/about/newsroom/arcuser/understanding-raster-georeferencing/)_\n",
    "\n",
    "`gdalwarp` is a GDAL tool for warping raster data.  We'll warp this image into `EPSG:4326` (WGS84 Latitude/Longitude) using bilinear interpolation as the resampling method (`-r`).  We'll set the target extent (`-te`) and target resolution (`-tr`) of our output geotiff image."
   ]
  },
  {
   "cell_type": "code",
   "execution_count": null,
   "metadata": {
    "colab": {
     "base_uri": "https://localhost:8080/",
     "height": 0
    },
    "id": "4jAm5o4I8R4r",
    "outputId": "b9584b2e-aa3a-40f5-c8f3-59c6b96bfc76"
   },
   "outputs": [],
   "source": [
    "%%bash\n",
    "# remove any previous instance of file\n",
    "if [ -f LC08_L1TP_046027_20181224_20190129_01_T1_B8.TIF ]; then\n",
    "  rm -v LC08_L1TP_046027_20181224_20190129_01_T1_B8.TIF\n",
    "fi\n",
    "# warp landsat image using GDAL command line tools\n",
    "export url=\"/vsicurl/https://storage.googleapis.com/gcp-public-data-landsat/LC08/01/046/027/LC08_L1TP_046027_20181224_20190129_01_T1/LC08_L1TP_046027_20181224_20190129_01_T1_B8.TIF\"\n",
    "gdalwarp -co \"COMPRESS=LZW\" -te -124 46 -120 49 -tr 0.01 0.01 \\\n",
    "   -t_srs EPSG:4326 -srcnodata 0 -dstnodata 0 \\\n",
    "   -r bilinear ${url} /tmp/LC08_L1TP_046027_20181224_20190129_01_T1_B8.TIF\n",
    "ls -lh /tmp/LC08_L1TP_046027_20181224_20190129_01_T1_B8.TIF"
   ]
  },
  {
   "cell_type": "code",
   "execution_count": null,
   "metadata": {
    "colab": {
     "base_uri": "https://localhost:8080/",
     "height": 390
    },
    "id": "PLLJC5ff9WXT",
    "outputId": "313abc94-5592-4ab1-fb15-bffb6dcb051a"
   },
   "outputs": [],
   "source": [
    "with rasterio.open('/tmp/LC08_L1TP_046027_20181224_20190129_01_T1_B8.TIF') as ds:\n",
    "    # read warped landsat image\n",
    "    warped = np.ma.zeros((ds.count,ds.height,ds.width),dtype=ds.dtypes[0],fill_value=0)\n",
    "    warped.mask = np.zeros((ds.count,ds.height,ds.width), dtype=bool)\n",
    "    warped.data[...] = ds.read(ds.indexes)\n",
    "    warped.mask[warped.data == 0] = True\n",
    "    warped.data[warped.mask] = warped.fill_value\n",
    "    xmin,xmax,ymin,ymax=(ds.bounds.left,ds.bounds.right,ds.bounds.bottom,ds.bounds.top)\n",
    "\n",
    "    # plot warped landsat image\n",
    "    fig,ax1 = plt.subplots(num=1, figsize=(10.375,5.0))\n",
    "    # add geometry of image\n",
    "    ax1.imshow(warped[0,:,:],\n",
    "        interpolation='nearest',\n",
    "        extent=(xmin,xmax,ymin,ymax),\n",
    "        origin='upper')\n",
    "    # add coastlines\n",
    "    gshhg.plot(ax=ax1, color='none', edgecolor='black')\n",
    "    # set x and y limits\n",
    "    ax1.set_xlim(xmin-1,xmax+1)\n",
    "    ax1.set_ylim(ymin-1,ymax+1)\n",
    "    ax1.set_aspect('equal', adjustable='box')\n",
    "    # add x and y labels\n",
    "    ax1.set_xlabel('Longitude')\n",
    "    ax1.set_ylabel('Latitude')\n",
    "    # adjust subplot and show\n",
    "    fig.subplots_adjust(left=0.06,right=0.98,bottom=0.08,top=0.98)"
   ]
  },
  {
   "cell_type": "markdown",
   "metadata": {
    "id": "YA8ee1Frv4XN"
   },
   "source": [
    "Q: can we do this directly with rasterio?\n",
    "\n",
    "Yes!\n",
    "\n",
    "Rasterio Transforms\n",
    "-------------------\n",
    "\n",
    "For every rasterio object, there is an associated _affine transform_ (`ds.transform`), which allows you to [transfer from image coordinates to geospatial coordinates](https://rasterio.readthedocs.io/en/latest/quickstart.html#dataset-georeferencing).\n",
    "\n",
    "<p align=\"center\">\n",
    "$\n",
    "x = A*row + B*col + C\\\\\n",
    "y = D*row + E*col + F\n",
    "$\n",
    "</p>\n",
    "\n",
    "_Affine Transformation_: maps between pixel locations in `(row, col)` coordinates to `(x, y)` spatial positions:\n",
    "\n",
    "`x,y = ds.transform*(row,col)`\n",
    "\n",
    "Upper left coordinate:\n",
    "- `row = 0`\n",
    "- `col = 0`\n",
    "\n",
    "Lower right coordinate:\n",
    "- `row = ds.width`\n",
    "- `col = ds.height`\n",
    "\n",
    "\n",
    "![ESRI affine](https://www.esri.com/about/newsroom/wp-content/uploads/2018/07/aufall18_Georefer_1.gif)\n",
    "\n",
    "_Raster Georeferencing from [ESRI](https://www.esri.com/about/newsroom/arcuser/understanding-raster-georeferencing/)_\n",
    "\n",
    "We use the affine transformations for warping our raster image into `EPSG:4326` (WGS84 Latitude/Longitude)."
   ]
  },
  {
   "cell_type": "code",
   "execution_count": null,
   "metadata": {
    "colab": {
     "base_uri": "https://localhost:8080/",
     "height": 389
    },
    "id": "53OF_jiXtfeu",
    "outputId": "5622c7aa-48aa-4d89-cd36-3e9ba0128b1c"
   },
   "outputs": [],
   "source": [
    "# transform image to EPSG:4326\n",
    "warped,affine = rasterio.warp.reproject(image.data, src_transform=src_transform,\n",
    "  src_crs=src_crs, src_nodata=0, dst_crs=crs4326,\n",
    "  dst_resolution=(0.01,0.01), resampling=rasterio.enums.Resampling.bilinear)\n",
    "dst_count,dst_height,dst_width = warped.shape\n",
    "xmin,ymax = affine*(0,0)\n",
    "xmax,ymin = affine*(dst_width,dst_height)\n",
    "# convert to masked array with fill values\n",
    "warped = np.ma.array(warped, dtype=ds.dtypes[0], fill_value=0)\n",
    "warped.mask = np.zeros_like(warped, dtype=bool)\n",
    "warped.mask[warped.data == 0] = True\n",
    "warped.data[warped.mask] = warped.fill_value\n",
    "\n",
    "# plot warped landsat image\n",
    "fig,ax1 = plt.subplots(num=1, figsize=(10.375,5.0))\n",
    "# add geometry of image\n",
    "ax1.imshow(warped[0,:,:],\n",
    "    interpolation='nearest',\n",
    "    extent=(xmin,xmax,ymin,ymax),\n",
    "    origin='upper')\n",
    "# add coastlines\n",
    "gshhg.plot(ax=ax1, color='none', edgecolor='black')\n",
    "# set x and y limits\n",
    "ax1.set_xlim(xmin-1,xmax+1)\n",
    "ax1.set_ylim(ymin-1,ymax+1)\n",
    "ax1.set_aspect('equal', adjustable='box')\n",
    "# add x and y labels\n",
    "ax1.set_xlabel('Longitude')\n",
    "ax1.set_ylabel('Latitude')\n",
    "# adjust subplot and show\n",
    "fig.subplots_adjust(left=0.06,right=0.98,bottom=0.08,top=0.98)"
   ]
  },
  {
   "cell_type": "markdown",
   "metadata": {
    "id": "na1cQKj07plQ"
   },
   "source": [
    "## Saving Raster Data with Rasterio"
   ]
  },
  {
   "cell_type": "code",
   "execution_count": null,
   "metadata": {
    "id": "zzeXFAmnZlA2"
   },
   "outputs": [],
   "source": [
    "# write an array as a raster band\n",
    "profile = dict(\n",
    "    driver='GTiff',\n",
    "    dtype=warped.dtype,\n",
    "    nodata=warped.fill_value,\n",
    "    width=dst_width,\n",
    "    height=dst_height,\n",
    "    count=dst_count,\n",
    "    crs=crs4326,\n",
    "    transform=affine\n",
    ")\n",
    "\n",
    "# Save to scratch space instead of within limited home directory\n",
    "with rasterio.open('/tmp/LC08_L1TP_046027_20181224_20190129_01_T1_B8.TIF', 'w', **profile) as ds:\n",
    "    ds.write(warped)"
   ]
  },
  {
   "cell_type": "code",
   "execution_count": null,
   "metadata": {
    "colab": {
     "base_uri": "https://localhost:8080/",
     "height": 0
    },
    "id": "QQROCm8lbZ9p",
    "outputId": "fa119be2-baa8-4868-d05d-051a1d2fd5ea"
   },
   "outputs": [],
   "source": [
    "! gdalinfo /tmp/LC08_L1TP_046027_20181224_20190129_01_T1_B8.TIF"
   ]
  },
  {
   "cell_type": "markdown",
   "metadata": {
    "id": "K02PL3qJ7P_G"
   },
   "source": [
    "## Climate and Forecast (CF) Metadata Conventions\n",
    "\n",
    "\n",
    "NASA adopted the [Climate and Forecast (CF) conventions](http://cfconventions.org/) as the [standard for NASA Science Data Systems (SDS)](https://earthdata.nasa.gov/esdis/esco/standards-and-references/climate-and-forecast-cf-metadata-conventions).  The CF metadata standards were designed to ease the processing and sharing of Earth sciences netCDF data.  It follows and extends geospatial data guidelines and standards from the [Federal Geographic Data Committee (FGDC)](https://www.fgdc.gov/standards/projects/FGDC-standards-projects/metadata/base-metadata/v2_0698.pdf), [Cooperative Ocean/Atmosphere Research Data Service (COARDS)](https://ferret.pmel.noaa.gov/noaa_coop/coop_cdf_profile.html), and other earlier sources, such as the Gregory/Drach/Tett (GDT) conventions.\n",
    "\n",
    "For grid fields in netCDF files following CF standards, there is a variable attribute named `grid_mapping`.  This attribute contains the name of the variable describing the Coordinate Reference System (CRS) of the geospatial field.\n",
    "\n",
    "Common attributes for a [CF grid mapping variable](https://cfconventions.org/):\n",
    "\n",
    "- `grid_mapping_name`: [name of the grid mapping](https://cfconventions.org/Data/cf-conventions/cf-conventions-1.7/build/apf.html)  _(required)_\n",
    "- `crs_wkt`: Well-Known Text (WKT) of the Coordinate Reference System (CRS)\n",
    "- `semi_major_axis`: semi-major axis of the ellipsoid\n",
    "- `semi_minor_axis`: semi-minor axis of the ellipsoid\n",
    "- `inverse_flattening`: ellipsoidal flattening <!--(difference between the semi-major axis and the semi-minor axis divided by the semi-major axis)-->\n",
    "- `reference_ellipsoid_name`: name of the ellipsoid\n",
    "- `geographic_crs_name`: name of the geographic coordinate reference system\n",
    "- `longitude_of_prime_meridian`: longitude of the Prime Meridian\n",
    "- `prime_meridian_name`: name of the Prime Meridian\n",
    "\n",
    "In ICESat-2 ATL15 gridded land ice height change products, the data is separated into individual groups:\n",
    "- `delta_h`: group with height anomalies at quarterly time steps\n",
    "- `dhdt_lag1`: group with height difference rates between quarterly time steps\n",
    "- `dhdt_lag4`: group with annual height change rates at quarterly time steps\n",
    "- `dhdt_lag8`: group with biennial height change rates at quarterly time steps\n",
    "\n",
    "These groups each contain a `grid_mapping` variable `polar_stereographic` that contains the CF standard Coordinate Reference System (CRS) attributes."
   ]
  },
  {
   "cell_type": "code",
   "execution_count": null,
   "metadata": {},
   "outputs": [],
   "source": [
    "HOST = 'urs.earthdata.nasa.gov'\n",
    "username = builtins.input('Username for {0}: '.format(HOST))\n",
    "password = getpass.getpass(prompt='Password for {0}@{1}:'.format(username,HOST))"
   ]
  },
  {
   "cell_type": "code",
   "execution_count": null,
   "metadata": {
    "id": "XHBo3dfT7Po3"
   },
   "outputs": [],
   "source": [
    "# query CMR for ATL15 files\n",
    "ids,urls = utilities.cmr(product='ATL15',regions='GL',resolutions='10km',verbose=False)\n",
    "buffer,response_error = utilities.from_nsidc(urls[0], username=username,\n",
    "    password=password, local=os.path.join('/tmp',ids[0]))\n",
    "# open the ATL15 netCDF4 file with xarray\n",
    "ds = xr.open_dataset(buffer, group='dhdt_lag8')\n",
    "ds"
   ]
  },
  {
   "cell_type": "code",
   "execution_count": null,
   "metadata": {
    "id": "_2ZWGM-OBUaD"
   },
   "outputs": [],
   "source": [
    "fig,ax4 = plt.subplots(num=4, figsize=(9,9))\n",
    "# get coordinate reference system of ATL15\n",
    "field = 'dhdt'\n",
    "grid_mapping_name = ds[field].grid_mapping\n",
    "crs = pyproj.CRS.from_wkt(ds[grid_mapping_name].crs_wkt)\n",
    "# extents of output image\n",
    "xmin,xmax,ymin,ymax = (-1530000, 1610000,-3600000, -280000)\n",
    "# extents of ATL15 image\n",
    "extent = (ds['x'].min(),ds['x'].max(),ds['y'].min(),ds['y'].max())\n",
    "# get vmin and vmax from all ATL15 values\n",
    "vmin,vmax = np.nanquantile(np.ma.filled(ds[field], np.nan), (0.01, 0.99))\n",
    "# add ATL15 image for field\n",
    "im = ax4.imshow(ds[field][0,:,:],\n",
    "    extent=extent, vmin=vmin, vmax=vmax,\n",
    "    interpolation='nearest',\n",
    "    cmap=plt.cm.get_cmap('viridis'),\n",
    "    origin='lower')\n",
    "# add coastlines\n",
    "gshhg.to_crs(crs).plot(ax=ax4, color='none', edgecolor='black')\n",
    "# set x and y limits\n",
    "ax4.set_xlim(xmin,xmax)\n",
    "ax4.set_ylim(ymin,ymax)\n",
    "ax4.set_aspect('equal', adjustable='box')\n",
    "# add x and y labels\n",
    "x_info,y_info = crs.axis_info\n",
    "ax4.set_xlabel('{0} [{1}]'.format(x_info.name,x_info.unit_name))\n",
    "ax4.set_ylabel('{0} [{1}]'.format(y_info.name,y_info.unit_name))\n",
    "# add colorbar\n",
    "cbar = plt.colorbar(im, cax=fig.add_axes([0.86, 0.13, 0.025, 0.8]),\n",
    "    extend='both')\n",
    "cbar.ax.set_ylabel(ds[field].long_name.title())\n",
    "cbar.solids.set_rasterized(True)\n",
    "# adjust subplot and show\n",
    "fig.subplots_adjust(left=0.06,right=0.84,bottom=0.08,top=0.98)"
   ]
  },
  {
   "cell_type": "markdown",
   "metadata": {
    "id": "lqNtDFUzz5RX"
   },
   "source": [
    "## Converting netCDF4 to Cloud Optimized GeoTIFF (COG)\n",
    "GDAL has a translation tool for converting raster data between different formats.  If GDAL is compiled with the netCDF4 driver, then fields from gridded ICESat-2 land ice height files can be converted to other raster formats (such as GeoTIFFs) because the files contain the necessary CRS metadata."
   ]
  },
  {
   "cell_type": "code",
   "execution_count": null,
   "metadata": {},
   "outputs": [],
   "source": [
    "%%bash\n",
    "gdal_translate -co \"COMPRESS=LZW\" -co \"BIGTIFF=YES\" \\\n",
    "  NETCDF:/tmp/ATL15_GL_0311_10km_001_01.nc:delta_h/delta_h \\\n",
    "  -of 'cog' /tmp/ATL15_GL_delta_h_0311_10km_001_01.tif\n",
    "gdalinfo -proj4 -nomd /tmp/ATL15_GL_delta_h_0311_10km_001_01.tif"
   ]
  },
  {
   "cell_type": "markdown",
   "metadata": {},
   "source": [
    "## Combining Concepts: Comparing Datasets\n",
    "Here, we're going to combine some concepts of geospatial transforms for ICESat-2 applications\n",
    "\n",
    "First, we'll download a granule of ICESat-2 ATL06 land ice heights for a region of Antarctica\n",
    "\n",
    "This is _along-track_ data stored in an HDF5 file with geospatial coordinates latitude and longtude (WGS84)\n",
    "\n",
    "We'll download the HDF5 data from the [National Snow and Ice Data Center (NSIDC)](https://nsidc.org/data/atl06), and merge it into a single GeoDataFrame. "
   ]
  },
  {
   "cell_type": "code",
   "execution_count": null,
   "metadata": {},
   "outputs": [],
   "source": [
    "# query CMR for ATL06 files\n",
    "ids,urls = utilities.cmr(product='ATL06',release='005',cycles=3,tracks=483,granules=11,verbose=False)\n",
    "# ICESat-2 ATL06 files as geodataframe\n",
    "atl06 = gpd.GeoDataFrame(geometry=gpd.points_from_xy([],[]), crs='EPSG:7661')\n",
    "for i,url in enumerate(urls):\n",
    "    # read ATL06 as in-memory file-like object\n",
    "    buffer,response_error = utilities.from_nsidc(url, username=username, password=password)\n",
    "    atl06 = atl06.append(ATL06_to_dataframe(buffer, groups=[], crs='EPSG:7661'))"
   ]
  },
  {
   "cell_type": "markdown",
   "metadata": {},
   "source": [
    "We'll overlay our ICESat-2 data on top of the Reference Elevation Model of Antarctica (REMA), a high resolution Digital Elevation Model (DEM)\n",
    "\n",
    "The 8m REMA DEM mosaic is tiled into 1,524 individual geotiff files.\n",
    "\n",
    "We'll start by reading the REMA tile index, a vector file containing the bounds of each DEM tile.  The vector and raster data are both in [Antarctic Polar Stereographic (EPSG:3031)](https://epsg.io/3031) projections.\n",
    "\n",
    "We'll project our ICESat-2 data to this projection, and _intersect_ the ICESat-2 geolocations with the polygon bounds of each tile.  This will give us the tiles that we could need to read to compare with our ICESat-2 data."
   ]
  },
  {
   "cell_type": "code",
   "execution_count": null,
   "metadata": {},
   "outputs": [],
   "source": [
    "rema = gpd.read_file('/vsizip//vsicurl/https://data.pgc.umn.edu/elev/dem/setsm/REMA/indexes/REMA_Tile_Index_Rel1.1.zip')\n",
    "tiles = gpd.sjoin(atl06.to_crs(rema.crs), rema, how=\"inner\", op='intersects')\n",
    "\n",
    "fig,ax3 = plt.subplots(num=3, figsize=(10,7.5))\n",
    "xmin,xmax,ymin,ymax = (-3100000,3100000,-2600000,2600000) \n",
    "# add coastlines\n",
    "world = gpd.read_file(gpd.datasets.get_path('naturalearth_lowres')).to_crs(rema.crs)\n",
    "world.plot(ax=ax3, color='none', edgecolor='black')\n",
    "# add polygons of REMA outputs\n",
    "rema.plot(ax=ax3, color='none', edgecolor='0.5')\n",
    "# add scatter plot of ATL06 data marked by REMA bin\n",
    "legend_kwds = dict(bbox_to_anchor=(1.04, 1), loc=2, borderaxespad=0., frameon=False)\n",
    "tiles.plot('tile', ax=ax3, markersize=0.5, cmap=plt.cm.get_cmap('Spectral'),\n",
    "   legend=True, categorical=True, legend_kwds=legend_kwds)\n",
    "# set x and y limits\n",
    "ax3.set_xlim(xmin,xmax)\n",
    "ax3.set_ylim(ymin,ymax)\n",
    "ax3.set_aspect('equal', adjustable='box')\n",
    "# add x and y labels\n",
    "x_info,y_info = rema.crs.axis_info\n",
    "ax3.set_xlabel('{0} [{1}]'.format(x_info.name,x_info.unit_name))\n",
    "ax3.set_ylabel('{0} [{1}]'.format(y_info.name,y_info.unit_name))\n",
    "fig.subplots_adjust(left=0.06,right=0.9,bottom=0.08,top=0.98)"
   ]
  },
  {
   "cell_type": "code",
   "execution_count": null,
   "metadata": {},
   "outputs": [],
   "source": [
    "fig,ax3 = plt.subplots(num=3, figsize=(10,7.5))\n",
    "xmin,xmax,ymin,ymax = (-3100000,3100000,-2600000,2600000) \n",
    "# iterate over unique tiles\n",
    "unique = tiles.copy().drop_duplicates(subset='name')\n",
    "# for time let's just use a single tile\n",
    "unique = unique.iloc[-2:-1]\n",
    "# # range of land ice heights\n",
    "# vmin,vmax = (atl06.h_li.min(),atl06.h_li.max())\n",
    "for i,row in unique.iterrows():\n",
    "    url = row['fileurl']\n",
    "    name = row['name']\n",
    "    with rasterio.open(f'/vsitar//vsicurl/{url}/{name}_dem.tif') as ds:\n",
    "        # read image\n",
    "        image = np.ma.zeros((ds.count,ds.height,ds.width),dtype=ds.dtypes[0],fill_value=ds.nodata)\n",
    "        image.mask = np.zeros((ds.count,ds.height,ds.width), dtype=bool)\n",
    "        image.data[...] = ds.read(ds.indexes)\n",
    "        image.mask[(image.data == image.fill_value) | np.isnan(image.data)] = True\n",
    "        image.data[image.mask] = image.fill_value\n",
    "        # save the coordinate reference system, transform and extents\n",
    "        src_crs = ds.crs\n",
    "        src_transform = ds.transform\n",
    "        extent = (ds.bounds.left,ds.bounds.right,ds.bounds.bottom,ds.bounds.top)\n",
    "        # indices for ATL06 data points\n",
    "        row,col = ds.index(atl06.to_crs(src_crs).geometry.x,atl06.to_crs(src_crs).geometry.y)\n",
    "# range of REMA heights\n",
    "vmin,vmax = (image.min(),image.max())\n",
    "# create image axis\n",
    "im = ax3.imshow(image[0,:,:],\n",
    "    interpolation='nearest',\n",
    "    extent=extent, vmin=vmin, vmax=vmax,\n",
    "    origin='upper')\n",
    "# add scatter plot of ATL06 height data\n",
    "atl06.to_crs(rema.crs).plot('h_li', ax=ax3, markersize=0.5, vmin=vmin, vmax=vmax)\n",
    "# set x and y limits\n",
    "ax3.set_xlim(extent[0]-10e3,extent[1]+10e3)\n",
    "ax3.set_ylim(extent[2]-10e3,extent[3]+10e3)\n",
    "ax3.set_aspect('equal', adjustable='box')\n",
    "# add x and y labels\n",
    "x_info,y_info = rema.crs.axis_info\n",
    "ax3.set_xlabel('{0} [{1}]'.format(x_info.name,x_info.unit_name))\n",
    "ax3.set_ylabel('{0} [{1}]'.format(y_info.name,y_info.unit_name))\n",
    "# add colorbar\n",
    "cbar = plt.colorbar(im, cax=fig.add_axes([0.92, 0.08, 0.025, 0.90]))\n",
    "cbar.ax.set_ylabel('Height Above WGS84 Ellipsoid [m]')\n",
    "cbar.solids.set_rasterized(True)\n",
    "# add legend\n",
    "lgd = ax3.legend(loc=4,frameon=False)\n",
    "lgd.get_frame().set_alpha(1.0)\n",
    "for line in lgd.get_lines():\n",
    "    line.set_linewidth(6)\n",
    "for i,text in enumerate(lgd.get_texts()):\n",
    "    text.set_color(l.get_color())\n",
    "fig.subplots_adjust(left=0.06,right=0.9,bottom=0.08,top=0.98)"
   ]
  },
  {
   "cell_type": "code",
   "execution_count": null,
   "metadata": {},
   "outputs": [],
   "source": [
    "# create figure of Antarctica\n",
    "fig,ax3 = plt.subplots(num=3, figsize=(10,7.5))\n",
    "# reduce indices to valid values\n",
    "_,height,width = np.shape(image)\n",
    "valid, = np.nonzero((np.array(row) >= 0) & (np.array(row) <= height) & \n",
    "    (np.array(col) >= 0) & (np.array(col) <= width))\n",
    "irow,icol = row[valid],col[valid]\n",
    "# calculate differences from REMA using nearest-neighbors\n",
    "atl06['h_diff'] = image[0,irow,icol] - atl06['h_li'].values\n",
    "# add scatter plot of ATL06 land ice height differences\n",
    "legend_label = 'Height Difference from REMA [m]'\n",
    "atl06.to_crs(crs3031).plot('h_diff', ax=ax3, markersize=0.5,\n",
    "    vmin=-10, vmax=10, legend=True, cmap=plt.cm.get_cmap('PRGn'),\n",
    "    legend_kwds=dict(label=legend_label, extend='both', shrink=0.90))\n",
    "# set x and y limits\n",
    "ax3.set_xlim(extent[0]-10e3,extent[1]+10e3)\n",
    "ax3.set_ylim(extent[2]-10e3,extent[3]+10e3)\n",
    "ax3.set_aspect('equal', adjustable='box')\n",
    "# add x and y labels\n",
    "x_info,y_info = crs3031.axis_info\n",
    "ax3.set_xlabel('{0} [{1}]'.format(x_info.name,x_info.unit_name))\n",
    "ax3.set_ylabel('{0} [{1}]'.format(y_info.name,y_info.unit_name))\n",
    "fig.subplots_adjust(left=0.06,right=0.9,bottom=0.08,top=0.98)"
   ]
  },
  {
   "cell_type": "markdown",
   "metadata": {},
   "source": [
    "### **Q: How could we improve the comparison?**"
   ]
  },
  {
   "cell_type": "markdown",
   "metadata": {},
   "source": [
    "References\n",
    "----------\n",
    "\n",
    "Below is an alphabetical list to all the great open source libraries we used in this notebook\n",
    "\n",
    "- [geopandas: for geospatial vector data](https://geopandas.org/en/stable/)\n",
    "- [GEOS: geometry, spatial operations](https://trac.osgeo.org/geos)\n",
    "- [GDAL/OGR: Pythonic interface to the Geospatial Data Abstraction Library (GDAL)](https://gdal.org)\n",
    "- [fiona: Python wrapper for vector data access functions from the OGR library](https://fiona.readthedocs.io)\n",
    "- [matplotlib: visualizations and publication-quality plots](https://matplotlib.org)\n",
    "- [numpy: Scientific Computing Tools For Python](http://www.numpy.org)\n",
    "- [pandas: Python Data Analysis Library](https://pandas.pydata.org)\n",
    "- [PROJ: cartographic projection and coordinate transformation library](https://proj.org)\n",
    "- [pyproj: Python interface to PROJ library](https://pyproj4.github.io/pyproj)\n",
    "- [shapely: PostGIS-ish operations outside a database context for Python](https://shapely.readthedocs.io)"
   ]
  }
 ],
 "metadata": {
  "colab": {
   "collapsed_sections": [],
   "name": "Geospatial-Transformations.ipynb",
   "provenance": []
  },
  "kernelspec": {
   "display_name": "Python 3 (ipykernel)",
   "language": "python",
   "name": "python3"
  },
  "language_info": {
   "codemirror_mode": {
    "name": "ipython",
    "version": 3
   },
   "file_extension": ".py",
   "mimetype": "text/x-python",
   "name": "python",
   "nbconvert_exporter": "python",
   "pygments_lexer": "ipython3",
   "version": "3.9.10"
  }
 },
 "nbformat": 4,
 "nbformat_minor": 4
}
