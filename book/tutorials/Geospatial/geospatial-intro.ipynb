{
 "cells": [
  {
   "cell_type": "markdown",
   "id": "429d3523-171d-48fc-a71a-20f0831b90e9",
   "metadata": {},
   "source": [
    "# Geospatial Transforms Introduction"
   ]
  },
  {
   "cell_type": "code",
   "execution_count": null,
   "id": "a0709019-8830-4932-93b2-795b6d4d9f88",
   "metadata": {},
   "outputs": [],
   "source": []
  }
 ],
 "metadata": {
  "kernelspec": {
   "display_name": "Python 3 (ipykernel)",
   "language": "python",
   "name": "python3"
  },
  "language_info": {
   "codemirror_mode": {
    "name": "ipython",
    "version": 3
   },
   "file_extension": ".py",
   "mimetype": "text/x-python",
   "name": "python",
   "nbconvert_exporter": "python",
   "pygments_lexer": "ipython3",
   "version": "3.9.10"
  }
 },
 "nbformat": 4,
 "nbformat_minor": 5
}
