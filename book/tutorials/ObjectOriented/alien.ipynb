{
  "nbformat": 4,
  "nbformat_minor": 0,
  "metadata": {
    "colab": {
      "name": "alien.ipynb",
      "provenance": []
    },
    "kernelspec": {
      "name": "python3",
      "display_name": "Python 3"
    },
    "language_info": {
      "name": "python"
    }
  },
  "cells": [
    {
      "cell_type": "code",
      "execution_count": 1,
      "metadata": {
        "id": "cLfvUyyxGyXH"
      },
      "outputs": [],
      "source": [
        "class Alien:\n",
        "  def __init__(self, name):\n",
        "    self.name = name\n",
        "    self.energy = 10\n",
        "\n",
        "  \n",
        "  def move(self, distance=1):\n",
        "    if self.energy < steps:\n",
        "      print(\"I don't have the energy to move that far\")\n",
        "    else:\n",
        "      self.energy -= steps\n",
        "  \n",
        "  def sleep(self):\n",
        "    self.energy = 10\n",
        "  "
      ]
    },
    {
      "cell_type": "code",
      "source": [
        "class MyAlien(Alien): # give your alien a unique name\n",
        "  def __init__(self, name):\n",
        "      super().__init__(name)\n",
        "      # define two more attributes your alien has\n",
        "  \n",
        "  # think of a unique way to display your alien's attributes\n",
        "  def __str__(self):\n",
        "      s = 'How should you display your alien?'\n",
        "      return s\n",
        "\n",
        "\n",
        "  # think of two new actions your alien can do\n",
        "  def action1(self):\n",
        "    pass\n",
        "  \n",
        "  def action2(self):\n",
        "    pass"
      ],
      "metadata": {
        "id": "fwb0mHZPHOdW"
      },
      "execution_count": 2,
      "outputs": []
    },
    {
      "cell_type": "code",
      "source": [
        "# Use this space to initialize and display a new instance of your alien"
      ],
      "metadata": {
        "id": "w08zITUNIDJ-"
      },
      "execution_count": 3,
      "outputs": []
    },
    {
      "cell_type": "code",
      "source": [
        "# have your alien move some distance\n",
        "\n",
        "# display their new energy level"
      ],
      "metadata": {
        "id": "ipjlZtVwIJrq"
      },
      "execution_count": 7,
      "outputs": []
    },
    {
      "cell_type": "code",
      "source": [
        "# have your alien sleep\n",
        "\n",
        "# display their new energy level"
      ],
      "metadata": {
        "id": "dLt6t_n4INJ0"
      },
      "execution_count": 5,
      "outputs": []
    },
    {
      "cell_type": "code",
      "source": [
        "# use this space to have your alien perform the first new action\n",
        "# did any attributes change?"
      ],
      "metadata": {
        "id": "OZt8KJvJIPlU"
      },
      "execution_count": 8,
      "outputs": []
    },
    {
      "cell_type": "code",
      "source": [
        "# use this space to have your alien perform the second new action\n",
        "# did any attributes change?"
      ],
      "metadata": {
        "id": "4PuSCcWgIWo1"
      },
      "execution_count": null,
      "outputs": []
    }
  ]
}