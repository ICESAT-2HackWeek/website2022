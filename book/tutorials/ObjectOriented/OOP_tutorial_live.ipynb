{
 "cells": [
  {
   "cell_type": "code",
   "execution_count": 25,
   "id": "984adf62-0033-4242-b25f-f5acfda0951d",
   "metadata": {},
   "outputs": [],
   "source": [
    "# capitalise class names\n",
    "class Human:\n",
    "    def __init__(self, name):\n",
    "        self.name = name\n",
    "        self.energy = 10\n",
    "        self.friends = []\n",
    "        \n",
    "    def __str__(self):\n",
    "        '''\n",
    "        string representation of self\n",
    "        :return: string\n",
    "        '''\n",
    "        s =  \"Hi, my name is {0}\".format(self.name)\n",
    "        return s\n",
    "    \n",
    "    def move(self, distance=1):\n",
    "        '''\n",
    "        will reduce energy level eqal to dist travelled\n",
    "        if sufficient energy is available\n",
    "        :return: None\n",
    "        '''\n",
    "        if self.energy < distance:\n",
    "            print(\"I don't have enough energy to move that far\")\n",
    "        else:\n",
    "            self.energy -= distance\n",
    "    \n",
    "    def sleep(self):\n",
    "        '''\n",
    "        replenish energy level to 10\n",
    "        :return: None\n",
    "        '''\n",
    "        self.energy = 10\n",
    "        \n",
    "    def makefriends(self, friend):\n",
    "        self.friends.append(friend)\n",
    "        friend.friends.append(self)"
   ]
  },
  {
   "cell_type": "code",
   "execution_count": 26,
   "id": "4d6368c5-7bf3-4570-9ab9-116a54f9562a",
   "metadata": {},
   "outputs": [],
   "source": [
    "a = Human('Alice')\n",
    "b = Human('Bruno')\n",
    "c = Human('Chantel')"
   ]
  },
  {
   "cell_type": "code",
   "execution_count": 27,
   "id": "213ee492-5acd-47cf-946f-c50c97b49d74",
   "metadata": {},
   "outputs": [
    {
     "name": "stdout",
     "output_type": "stream",
     "text": [
      "Hi, my name is Alice\n"
     ]
    }
   ],
   "source": [
    "print(a)"
   ]
  },
  {
   "cell_type": "code",
   "execution_count": 28,
   "id": "60ca48b8-e97f-4bbe-9c17-a1bed0623d59",
   "metadata": {},
   "outputs": [
    {
     "name": "stdout",
     "output_type": "stream",
     "text": [
      "7\n"
     ]
    }
   ],
   "source": [
    "a.move(3)\n",
    "print(a.energy)"
   ]
  },
  {
   "cell_type": "code",
   "execution_count": 29,
   "id": "960f5d26-c9d5-422f-ac03-01193c1711ed",
   "metadata": {},
   "outputs": [
    {
     "name": "stdout",
     "output_type": "stream",
     "text": [
      "10\n"
     ]
    }
   ],
   "source": [
    "a.sleep()\n",
    "print(a.energy)"
   ]
  },
  {
   "cell_type": "code",
   "execution_count": 30,
   "id": "95d923ff-a34a-4928-8d93-df7acab9eda4",
   "metadata": {},
   "outputs": [
    {
     "name": "stdout",
     "output_type": "stream",
     "text": [
      "Alice's frinds\n",
      "Bruno\n",
      "Chantel\n",
      "\n",
      "Bruno's frinds\n",
      "Alice\n"
     ]
    }
   ],
   "source": [
    "a.makefriends(b)\n",
    "a.makefriends(c)\n",
    "\n",
    "print(\"Alice's frinds\")\n",
    "for i in a.friends:\n",
    "    print(i.name)\n",
    "    \n",
    "print(\"\\nBruno's frinds\")\n",
    "for i in b.friends:\n",
    "    print(i.name)"
   ]
  },
  {
   "cell_type": "code",
   "execution_count": 31,
   "id": "0b463f8a-b5d2-4b33-9a57-8f7090dfd63f",
   "metadata": {},
   "outputs": [],
   "source": [
    "class Bakery:\n",
    "    def __init__(self, cookies, cost):\n",
    "        self.numcookies = cookies\n",
    "        self.cost = cost\n",
    "        \n",
    "    \n",
    "    def __str__(self):\n",
    "        s = 'This Bakery has {0} cookies at ${1} each'.format(self.numcookies,\n",
    "                                                              self.cost)\n",
    "        return s\n"
   ]
  },
  {
   "cell_type": "code",
   "execution_count": 32,
   "id": "3b080ddf-fd40-4b43-bacb-db15f16a75e9",
   "metadata": {},
   "outputs": [],
   "source": [
    "class Baker(Human):\n",
    "    def __init__(self, name):\n",
    "        super().__init__(name)\n",
    "        self.sales = 0\n",
    "    \n",
    "    def make_cookies(self, bakery, n_cookies):\n",
    "        bakery.numcookies += n_cookies\n",
    "  \n",
    "    def sell_cookies(self, customer, bakery, n_cookies):\n",
    "        if n_cookies > bakery.numcookies:\n",
    "            print(\"This bakery doesn't have {0} cookies to sell\".format(n_cookies))\n",
    "            return\n",
    "\n",
    "        subtotal = n_cookies * bakery.cost\n",
    "        if customer.money < subtotal:\n",
    "            print(\"The customer can't afford these cookies.\")\n",
    "            return\n",
    "\n",
    "\n",
    "        bakery.numcookies -= n_cookies\n",
    "        self.sales += subtotal\n",
    "        customer.money -= subtotal\n",
    "        customer.cookies += n_cookies\n"
   ]
  },
  {
   "cell_type": "code",
   "execution_count": 34,
   "id": "27f65dca-0226-4d6b-acfd-e5e19a88af50",
   "metadata": {},
   "outputs": [],
   "source": [
    "class Customer(Human):\n",
    "    def __init__(self, name, money):\n",
    "        super().__init__(name)\n",
    "        self.money = money\n",
    "        self.cookies = 0\n",
    "\n",
    "    def __str__(self):\n",
    "        s = super().__str__() + ' and I have {0} cookies'.format(self.cookies)\n",
    "        return s\n",
    "    "
   ]
  },
  {
   "cell_type": "code",
   "execution_count": 35,
   "id": "2ab85a68-288f-460d-986b-471be23b666e",
   "metadata": {},
   "outputs": [
    {
     "name": "stdout",
     "output_type": "stream",
     "text": [
      "Hi, my name is Romina\n"
     ]
    }
   ],
   "source": [
    "romina = Baker('Romina')\n",
    "print(romina)"
   ]
  },
  {
   "cell_type": "code",
   "execution_count": 36,
   "id": "2b1336cd-d211-42db-a1c7-d5b2afb6b933",
   "metadata": {},
   "outputs": [
    {
     "name": "stdout",
     "output_type": "stream",
     "text": [
      "Hi, my name is Kelsey and I have 0 cookies\n"
     ]
    }
   ],
   "source": [
    "kelsey = Customer('Kelsey', 10)\n",
    "print(kelsey)"
   ]
  },
  {
   "cell_type": "code",
   "execution_count": 37,
   "id": "49fc9b06-a0af-4c0d-b793-e5924c0dcf0c",
   "metadata": {},
   "outputs": [
    {
     "name": "stdout",
     "output_type": "stream",
     "text": [
      "This Bakery has 20 cookies at $1.25 each\n"
     ]
    }
   ],
   "source": [
    "my_bakery = Bakery(20, 1.25)\n",
    "print(my_bakery)"
   ]
  },
  {
   "cell_type": "code",
   "execution_count": 38,
   "id": "5c73bb80-2b37-43cb-ae18-ce5925bb5109",
   "metadata": {},
   "outputs": [
    {
     "name": "stdout",
     "output_type": "stream",
     "text": [
      "Hi, my name is Kelsey and I have 5 cookies\n",
      "3.75\n",
      "This Bakery has 15 cookies at $1.25 each\n"
     ]
    }
   ],
   "source": [
    "romina.sell_cookies(kelsey, my_bakery, 5)\n",
    "print(kelsey)\n",
    "print(kelsey.money)\n",
    "print(my_bakery)"
   ]
  },
  {
   "cell_type": "code",
   "execution_count": null,
   "id": "6e541ba2-4aac-4e5f-8ff6-c0ca5c146bb8",
   "metadata": {},
   "outputs": [],
   "source": []
  }
 ],
 "metadata": {
  "kernelspec": {
   "display_name": "Python 3 (ipykernel)",
   "language": "python",
   "name": "python3"
  },
  "language_info": {
   "codemirror_mode": {
    "name": "ipython",
    "version": 3
   },
   "file_extension": ".py",
   "mimetype": "text/x-python",
   "name": "python",
   "nbconvert_exporter": "python",
   "pygments_lexer": "ipython3",
   "version": "3.9.10"
  }
 },
 "nbformat": 4,
 "nbformat_minor": 5
}
