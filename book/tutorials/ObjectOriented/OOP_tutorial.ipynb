{
  "nbformat": 4,
  "nbformat_minor": 0,
  "metadata": {
    "colab": {
      "name": "OOP_tutorial.ipynb",
      "provenance": []
    },
    "kernelspec": {
      "name": "python3",
      "display_name": "Python 3"
    },
    "language_info": {
      "name": "python"
    }
  },
  "cells": [
    {
      "cell_type": "code",
      "execution_count": 12,
      "metadata": {
        "id": "7LYQx0iEvQoR"
      },
      "outputs": [],
      "source": [
        "class Human:\n",
        "  def __init__(self, name):\n",
        "    self.name = name\n",
        "    self.energy = 10\n",
        "    self.friends = []\n",
        "\n",
        "  def __str__(self):\n",
        "    s = 'Hi, my name is {0}'.format(self.name)\n",
        "    return s\n",
        "  \n",
        "  def move(self, steps=1):\n",
        "    if self.energy < steps:\n",
        "      print(\"I don't have the energy to walk that far\")\n",
        "    else:\n",
        "      self.energy -= steps\n",
        "  \n",
        "  def sleep(self):\n",
        "    self.energy = 10\n",
        "  \n",
        "  def makefriend(self, friend):\n",
        "    self.friends.append(friend)\n",
        "    friend.friends.append(self)\n",
        "  "
      ]
    },
    {
      "cell_type": "code",
      "source": [
        "a = Human('Alice')\n",
        "b = Human('Bruno')\n",
        "c = Human('Chantel')"
      ],
      "metadata": {
        "id": "9WOs0gifx_Mh"
      },
      "execution_count": 13,
      "outputs": []
    },
    {
      "cell_type": "code",
      "source": [
        "print(a)\n",
        "a.move(3)\n",
        "print(a.energy)"
      ],
      "metadata": {
        "colab": {
          "base_uri": "https://localhost:8080/"
        },
        "id": "VR4eCp91yXCS",
        "outputId": "e269f42b-1020-4225-bc00-03d9fd61fb01"
      },
      "execution_count": 14,
      "outputs": [
        {
          "output_type": "stream",
          "name": "stdout",
          "text": [
            "Hi, my name is Alice\n",
            "7\n"
          ]
        }
      ]
    },
    {
      "cell_type": "code",
      "source": [
        "a.makefriend(b)\n",
        "a.makefriend(c)\n",
        "print(\"Alice's friends: \")\n",
        "for i in a.friends:\n",
        "  print(i.name)\n",
        "\n",
        "print(\"\\nBruno's friends: \")\n",
        "for i in b.friends:\n",
        "  print(i.name)"
      ],
      "metadata": {
        "colab": {
          "base_uri": "https://localhost:8080/"
        },
        "id": "o75Dp-Xfyj3w",
        "outputId": "c024aee9-21a8-43bc-918e-aea7fd85fa0a"
      },
      "execution_count": 15,
      "outputs": [
        {
          "output_type": "stream",
          "name": "stdout",
          "text": [
            "Alice's friends: \n",
            "Bruno\n",
            "Chantel\n",
            "\n",
            "Bruno's friends: \n",
            "Alice\n"
          ]
        }
      ]
    },
    {
      "cell_type": "code",
      "source": [
        "class Bakery:\n",
        "  def __init__(self, cookies, cost):\n",
        "    self.numcookies = cookies\n",
        "    self.cost = cost\n",
        "\n",
        "  def __str__(self):\n",
        "    s = 'This Bakery has {0} cookies at ${1} each'.format(self.numcookies,\n",
        "                                                          self.cost)\n",
        "    return s\n"
      ],
      "metadata": {
        "id": "ncPHMHjqytyP"
      },
      "execution_count": 5,
      "outputs": []
    },
    {
      "cell_type": "code",
      "source": [
        "class Baker(Human):\n",
        "  def __init__(self, name):\n",
        "      super().__init__(name)\n",
        "      self.sales = 0\n",
        "  \n",
        "  def make_cookies(self, bakery, n_cookies):\n",
        "    bakery.numcookies += n_cookies\n",
        "  \n",
        "  def sell_cookies(self, customer, bakery, n_cookies):\n",
        "    if n_cookies > bakery.numcookies:\n",
        "      print(\"This bakery doesn't have {0} cookies to sell\".format(n_cookies))\n",
        "      return\n",
        "    \n",
        "    subtotal = n_cookies * bakery.cost\n",
        "    if customer.money < subtotal:\n",
        "      print(\"The customer can't afford these cookies.\")\n",
        "      return\n",
        "\n",
        "\n",
        "    bakery.numcookies -= n_cookies\n",
        "    self.sales += subtotal\n",
        "    customer.money -= subtotal\n",
        "    customer.cookies += n_cookies\n"
      ],
      "metadata": {
        "id": "r3APw78OsBeA"
      },
      "execution_count": 6,
      "outputs": []
    },
    {
      "cell_type": "code",
      "source": [
        "class Customer(Human):\n",
        "  def __init__(self, name, money):\n",
        "    super().__init__(name)\n",
        "    self.money = money\n",
        "    self.cookies = 0\n",
        "\n",
        "  def __str__(self):\n",
        "    s = super().__str__() + ' and I have {0} cookies'.format(self.cookies)\n",
        "    return s"
      ],
      "metadata": {
        "id": "RQiDoyfCvHbN"
      },
      "execution_count": 7,
      "outputs": []
    },
    {
      "cell_type": "code",
      "source": [
        "romina = Baker('Romina')\n",
        "print(romina)"
      ],
      "metadata": {
        "colab": {
          "base_uri": "https://localhost:8080/"
        },
        "id": "8GPXKfn1yOll",
        "outputId": "70d8fca8-5249-4a29-8551-c31f0ced8d77"
      },
      "execution_count": 8,
      "outputs": [
        {
          "output_type": "stream",
          "name": "stdout",
          "text": [
            "Hi, my name is Romina\n"
          ]
        }
      ]
    },
    {
      "cell_type": "code",
      "source": [
        "kelsey = Customer('Kelsey', 10)\n",
        "print(kelsey)"
      ],
      "metadata": {
        "colab": {
          "base_uri": "https://localhost:8080/"
        },
        "id": "aPM1XpuhyYUh",
        "outputId": "c8f4791b-fa31-4970-825b-5195d372818b"
      },
      "execution_count": 9,
      "outputs": [
        {
          "output_type": "stream",
          "name": "stdout",
          "text": [
            "Hi, my name is Kelsey and I have 0 cookies\n"
          ]
        }
      ]
    },
    {
      "cell_type": "code",
      "source": [
        "my_bakery = Bakery(20, 1.25)\n",
        "print(my_bakery)"
      ],
      "metadata": {
        "colab": {
          "base_uri": "https://localhost:8080/"
        },
        "id": "6YGVzjflyfdu",
        "outputId": "d9dbb6cb-79d1-4bde-b97b-5f05815722b5"
      },
      "execution_count": 10,
      "outputs": [
        {
          "output_type": "stream",
          "name": "stdout",
          "text": [
            "This Bakery has 20 cookies at $1.25 each\n"
          ]
        }
      ]
    },
    {
      "cell_type": "code",
      "source": [
        "romina.sell_cookies(kelsey, my_bakery, 5)\n",
        "print(kelsey)\n",
        "print(kelsey.money)\n",
        "print(my_bakery)"
      ],
      "metadata": {
        "colab": {
          "base_uri": "https://localhost:8080/"
        },
        "id": "-dRiCA035pAn",
        "outputId": "785995d4-6b7f-4100-f58b-b48c4934def0"
      },
      "execution_count": 11,
      "outputs": [
        {
          "output_type": "stream",
          "name": "stdout",
          "text": [
            "Hi, my name is Kelsey and I have 5 cookies\n",
            "3.75\n",
            "This Bakery has 15 cookies at $1.25 each\n"
          ]
        }
      ]
    },
    {
      "cell_type": "code",
      "source": [
        ""
      ],
      "metadata": {
        "id": "36jC2zU26FWN"
      },
      "execution_count": null,
      "outputs": []
    }
  ]
}