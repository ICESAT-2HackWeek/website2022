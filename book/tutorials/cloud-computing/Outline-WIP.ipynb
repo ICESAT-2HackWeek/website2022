{
 "cells": [
  {
   "cell_type": "markdown",
   "id": "3431c040-8f61-482f-b3cd-fa94d9207919",
   "metadata": {},
   "source": [
    "# Cloud Computing Tutorial\n",
    "\n",
    "For ICESat-2 UW Hackweek 2022\n",
    "\n",
    "## Icebreaker questions\n",
    "\n",
    "* What do you think of when you think of cloud computing?\n",
    "* Why are you insterested in cloud computing?\n",
    "\n",
    "\n",
    "Add diagram from: https://podaac.jpl.nasa.gov/cloud-datasets/about"
   ]
  },
  {
   "cell_type": "markdown",
   "id": "69ea730a-5e66-4ec1-b16c-d58314e11b82",
   "metadata": {},
   "source": [
    "## Learning Objectives\n",
    "\n",
    "* The differences and benefits of running code on your local machine vs a remote jupyterhub environment.\n",
    "* The difference between data hosted by cloud providers, like AWS, and on-prem data centers\n",
    "* The difference between and how to access data hosted by NASA DAACs, on-prem, cloud, s3\n",
    "* Cloud Computing Tools for scaling your science\n",
    "\n",
    "## Key Takeaways\n",
    "\n",
    "* At least one tutorial (or tool) to try"
   ]
  },
  {
   "cell_type": "markdown",
   "id": "9e598bf2-0d5b-48bd-a461-943a52d951ed",
   "metadata": {},
   "source": [
    "## Tools used in this tutorial"
   ]
  },
  {
   "cell_type": "markdown",
   "id": "8aee29b9-68e3-46ab-8786-00689984d4e0",
   "metadata": {},
   "source": [
    "## Local vs Remote Coding\n",
    "\n",
    "What's the difference between running code on your local machine this remote jupyterhub?\n",
    "\n",
    "* CPU, memory differences\n",
    "* Ability to share environments\n",
    "\n",
    "Exercise with CPU and memory\n",
    "\n",
    "When might you want to use one versus the other?"
   ]
  },
  {
   "cell_type": "markdown",
   "id": "e7c0ea5b-a750-430d-a108-9dfe9bcf621f",
   "metadata": {},
   "source": [
    "## Cloud vs On-Prem\n",
    "\n",
    "### What's the difference between data hosted by cloud providers, like AWS, and on-prem data centers?\n",
    "\n",
    "Slides\n",
    "\n",
    "Exercise - go to earthdata search and try and find a dataset of interest and determine which DAAC hosts that data\n",
    "\n",
    "### Other cloud data providers"
   ]
  },
  {
   "cell_type": "markdown",
   "id": "e14d70b5-330c-4812-a7f4-6610e016988d",
   "metadata": {},
   "source": [
    "## How to access NASA data\n",
    "\n",
    "### What's the difference between how to access data hosted by NASA DAACs, on-prem, cloud, s3 and what are some tools for access the data?\n",
    "\n",
    "### Earthdata Login for Access\n",
    "\n",
    "NASA uses Earthdata Login to authenticate users requesting data to track usage. You must supply EDL credentials to access all data hosted by NASA. Some data is available to all EDL users and some is restricted.\n",
    "\n",
    "You can access data from NASA using ~/.netrc files locally which store your credentials.\n",
    "\n",
    "Exercise: The Openscapes Tutial [04. Authentication for NASA Earthdata](https://nasa-openscapes.github.io/2021-Cloud-Hackathon/tutorials/04_NASA_Earthdata_Authentication.html) offers an excellent quick tutorial on how to create a ~/.netrc file. \n",
    "\n",
    "**Why might you want to be careful running this code in a shared jupyterhub environment?**\n",
    "\n",
    "### Access to On-premise data\n",
    "\n",
    "* On-prem access / HTTPS: Use earthdata library to find and download ATL08 files from NSIDC DAAC\n",
    "\n",
    "See ICESat2-CMR-AWS-S3.ipynb\n",
    "\n",
    "Earthdata library uses a [session](https://github.com/nsidc/earthdata/blob/cb54f645a9fced3ce28d6312cd57aa4d7b68683e/earthdata/auth.py#L91) so credentials are not stored in files.\n",
    "\n",
    "\n",
    "* Cloud access via Earthdata Login: Exercise using Earthdata\n",
    "\n",
    "Navigate to Earthdata and search for data, demonstrate how to find data on cloud vs on-prem\n",
    "\n",
    "* Example of downloading GEDI data - speed of S3 link vs HTTPS link\n",
    "\n",
    "(Just to clarify - where is the data coming from in HTTPS vs S3 cases?)"
   ]
  },
  {
   "cell_type": "markdown",
   "id": "460a89d8-e6e1-4d65-b606-b2e2f3f5179b",
   "metadata": {},
   "source": [
    "## What is data subsetting?\n",
    "\n",
    "How to access subsets of data\n",
    "\n",
    "* rioxarray for Cloud-Optimized GeoTIFFs\n",
    "* icepyx\n",
    "* harmony"
   ]
  },
  {
   "cell_type": "markdown",
   "id": "591030f5-7cf1-49d6-9319-632c76e6327e",
   "metadata": {},
   "source": [
    "## How to scale your science with cloud computing tools\n",
    "\n",
    "* Dask - Used by pangeo, Microsoft Planetary Computer. Kubernetes\n",
    "* Load a cluster in ESIP to demonstrate what a cluster looks like, example tutorial there\n",
    "* Dask Geopandas\n",
    "* Other cluster compute options - kubernetes"
   ]
  },
  {
   "cell_type": "markdown",
   "id": "c6c1e3a9-41f0-4ea9-8fc2-65e650ecee75",
   "metadata": {},
   "source": [
    "## References\n",
    "\n",
    "### Collections of tutorials\n",
    "\n",
    "* [NASA Openscapes 2021 Cloud Hackathon Tutorials](https://nasa-openscapes.github.io/2021-Cloud-Hackathon/tutorials)\n",
    "<br />\n",
    "<img alt='NASA Openscapes 2021 Cloud Hackathon Tutorials Table of Contents' src='cloud-hackathon-tutorials.png' style='height: 350px' />\n",
    "\n",
    "* https://nasa-openscapes.github.io/2021-Cloud-Workshop-AGU/\n",
    "* https://nasa-openscapes.github.io/earthdata-cloud-cookbook/\n",
    "\n",
    "### Intro to cloud\n",
    "\n",
    "* https://podaac.jpl.nasa.gov/cloud-datasets/about"
   ]
  }
 ],
 "metadata": {
  "kernelspec": {
   "display_name": "Python 3 (ipykernel)",
   "language": "python",
   "name": "python3"
  },
  "language_info": {
   "codemirror_mode": {
    "name": "ipython",
    "version": 3
   },
   "file_extension": ".py",
   "mimetype": "text/x-python",
   "name": "python",
   "nbconvert_exporter": "python",
   "pygments_lexer": "ipython3",
   "version": "3.9.10"
  }
 },
 "nbformat": 4,
 "nbformat_minor": 5
}
