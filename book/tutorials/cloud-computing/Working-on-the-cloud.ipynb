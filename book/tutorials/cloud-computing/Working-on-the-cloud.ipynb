{
 "cells": [
  {
   "cell_type": "markdown",
   "id": "1bbc4650-1593-44d8-a9bc-a376d388a8f0",
   "metadata": {},
   "source": [
    "# Working on the cloud"
   ]
  },
  {
   "cell_type": "markdown",
   "id": "6c689b48-d2e8-4ebf-a3ed-127cf46deae5",
   "metadata": {},
   "source": [
    "As you are probably aware, this code is running on machine somewhere in Amazon land. \n",
    "\n",
    "How does this machine compare to your local machine?"
   ]
  },
  {
   "cell_type": "code",
   "execution_count": 4,
   "id": "683343a0-d864-4e0d-b77c-2acb4c8710dc",
   "metadata": {},
   "outputs": [
    {
     "name": "stdout",
     "output_type": "stream",
     "text": [
      "CPU(s):              2\n"
     ]
    }
   ],
   "source": [
    "# CPUs\n",
    "!lscpu | grep ^CPU\\(s\\):"
   ]
  },
  {
   "cell_type": "code",
   "execution_count": 3,
   "id": "1dfa1777-60a5-4dcc-b546-cbe36ddf7322",
   "metadata": {},
   "outputs": [
    {
     "name": "stdout",
     "output_type": "stream",
     "text": [
      "              total        used        free      shared  buff/cache   available\n",
      "Mem:           7.5G        975M        743M        736K        5.8G        6.3G\n",
      "Swap:            0B          0B          0B\n"
     ]
    }
   ],
   "source": [
    "# Memory\n",
    "!free -h"
   ]
  },
  {
   "cell_type": "markdown",
   "id": "136ebc8f-a719-4304-8446-811de2b49ada",
   "metadata": {},
   "source": [
    "## Exercise: How many resources are on your local machine?\n",
    "\n",
    "Unless you are using a linux machine, the above commands probably won't give you what you need.\n",
    "\n",
    "### How many CPUs does your machine have?\n",
    "\n",
    "1. For MAC users: `sysctl -a | grep cpu | grep hw` or https://www.linux.com/training-tutorials/5-commands-checking-memory-usage-linux/\n",
    "2. For Windows users: https://www.top-password.com/blog/find-number-of-cores-in-your-cpu-on-windows-10/ (Not tested)\n",
    "\n",
    "### How much memory does your machine have?\n",
    "\n",
    "...\n",
    "\n",
    "\n",
    "### Why might you want to use cloud computing?\n",
    "\n",
    "* Add your answers here...\n",
    "* "
   ]
  },
  {
   "cell_type": "markdown",
   "id": "6aee98bd-1ce7-4372-b82c-870ab739c6f2",
   "metadata": {},
   "source": []
  }
 ],
 "metadata": {
  "kernelspec": {
   "display_name": "Python 3 (ipykernel)",
   "language": "python",
   "name": "python3"
  },
  "language_info": {
   "codemirror_mode": {
    "name": "ipython",
    "version": 3
   },
   "file_extension": ".py",
   "mimetype": "text/x-python",
   "name": "python",
   "nbconvert_exporter": "python",
   "pygments_lexer": "ipython3",
   "version": "3.9.10"
  }
 },
 "nbformat": 4,
 "nbformat_minor": 5
}
