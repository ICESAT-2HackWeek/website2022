{
 "cells": [
  {
   "cell_type": "markdown",
   "id": "failing-wallace",
   "metadata": {},
   "source": [
    "# Accessing CMR Cloud Collections \n",
    "\n",
    "References:\n",
    "* https://github.com/nsidc/earthdata/blob/main/notebooks/Demo.ipynb\n",
    "* https://nasa-openscapes.github.io/earthdata-cloud-cookbook/examples/NSIDC/ICESat2-CMR-AWS-S3.html\n",
    "* https://nasa-openscapes.github.io/2021-Cloud-Workshop-AGU/how-tos/Earthdata_Cloud__Single_File__Direct_S3_Access_NetCDF4_Example.html\n",
    "\n",
    "Programmatic access of NSIDC data can happen in 2 ways:\n",
    "\n",
    "```text\n",
    "Search -> Download -> Process -> Research\n",
    "```\n",
    "\n",
    "<img src=\"https://raw.githubusercontent.com/NASA-Openscapes/earthdata-cloud-cookbook/main/examples/NSIDC/img/download-model.png\" width=\"35%\"/>\n",
    "\n",
    "```text\n",
    "Search -> Process in the cloud -> Research\n",
    "```\n",
    "\n",
    "<img src=\"https://raw.githubusercontent.com/NASA-Openscapes/earthdata-cloud-cookbook/main/examples/NSIDC/img/cloud-model.png\" width=\"35%\"/>\n",
    "\n",
    "> **Credit**: Open Architecture for scalable cloud-based data analytics. From Abernathey, Ryan (2020): Data Access Modes in Science.\n",
    "\n",
    "\n",
    "## The big picture: \n",
    "\n",
    "There is nothing wrong with downloading data to our local machine but that can get complicated or even impossible if a dataset is too large.\n",
    "For this reason NSIDC along with other NASA data centers started to collocate or migrate their dataset holdings to the cloud. \n",
    "\n",
    "### Steps\n",
    "\n",
    "1. Authenticate with the NASA Earthdata Login API (EDL).\n",
    "2. Search granules/collections using a CMR client that supports authentication\n",
    "3. Parse CMR responses and get AWS S3 URLs\n",
    "4. Access the data granules using temporary AWS credentials given by the NSIDC cloud credentials endpoint\n",
    "\n",
    "### Data used:\n",
    "\n",
    "*  ICESat-2 [ATL03](https://nsidc.org/data/ATL03/versions/4): This data set contains height above the WGS 84 ellipsoid (ITRF2014 reference frame), latitude, longitude, and time for all photons.\n",
    "\n",
    "### Requirements\n",
    "\n",
    "* [NASA Eartdata Login (EDL) credentials](https://urs.earthdata.nasa.gov/)\n",
    "* python libraries:\n",
    "  - h5py\n",
    "  - matplotlib\n",
    "  - xarray\n",
    "  - s3fs\n",
    "  - https://github.com/nsidc/earthdata/tree/main\n",
    "  \n",
    "  \n",
    "Another python tutorial for finding data with the python requests\n",
    "* https://nasa-openscapes.github.io/2021-Cloud-Hackathon/tutorials/01_Data_Discovery_CMR.html\n",
    "* https://github.com/nasa/eo-metadata-tools/tree/master/CMR/python"
   ]
  },
  {
   "cell_type": "code",
   "execution_count": null,
   "id": "bd3cb4e3-e3bb-45c4-aef1-312014ef0aa3",
   "metadata": {},
   "outputs": [],
   "source": [
    "# !pip install earthdata\n",
    "# !pip install 's3fs<2022.0.0,>=2021.8.1'"
   ]
  },
  {
   "cell_type": "markdown",
   "id": "visible-indian",
   "metadata": {},
   "source": [
    "## Querying CMR for NSIDC data in the cloud\n",
    "\n",
    "Most collections at NSIDC have not being migrated to the cloud and can be found using CMR with no authentication at all. Here is a simple example for \n",
    "altimeter data (ATL03) coming from the ICESat-2 mission. First we'll search the regular collection and then we'll do the same using the cloud collection.\n",
    "\n",
    "**Note**: This notebook uses CMR to search and locate the data granules, this is not the only workflow for data access and discovery. \n",
    "\n",
    "* **HarmonyPy**: Uses **Harmony** the NASA API to search, subset and transform the data in the cloud.\n",
    "* **cmr-stac**: A \"static\" metadata catalog than can be read by **Intake** oand other client libraries to optimize the access of files in the cloud.\n",
    "\n"
   ]
  },
  {
   "cell_type": "markdown",
   "id": "laughing-malawi",
   "metadata": {},
   "source": [
    "## Cloud Collections\n",
    "\n",
    "Some NSIDC cloud collections are not yet, which means that temporarily you'll have to request access emailing nsidc@nsidc.org so your Eartdata login is in the authorized list for early users."
   ]
  },
  {
   "cell_type": "code",
   "execution_count": 1,
   "id": "195b7f7e-679b-425b-9190-329cd03e8e38",
   "metadata": {},
   "outputs": [
    {
     "name": "stdin",
     "output_type": "stream",
     "text": [
      "Enter your Earthdata Login username:  aimeeb\n",
      "Enter your Earthdata password:  ··················\n"
     ]
    },
    {
     "name": "stdout",
     "output_type": "stream",
     "text": [
      "You're now authenticated with NASA Earthdata Login\n"
     ]
    },
    {
     "data": {
      "text/plain": [
       "True"
      ]
     },
     "execution_count": 1,
     "metadata": {},
     "output_type": "execute_result"
    }
   ],
   "source": [
    "from earthdata import Auth, DataGranules, DataCollections, Accessor\n",
    "\n",
    "auth = Auth() # if we want to access NASA DATA in the cloud\n",
    "auth.login()"
   ]
  },
  {
   "cell_type": "code",
   "execution_count": 3,
   "id": "0c32e33d-7514-4cca-8ffe-6c4da3fc89cc",
   "metadata": {},
   "outputs": [
    {
     "data": {
      "text/plain": [
       "<earthdata.auth.SessionWithHeaderRedirection at 0x7f4d1b1059a0>"
      ]
     },
     "execution_count": 3,
     "metadata": {},
     "output_type": "execute_result"
    }
   ],
   "source": [
    "auth._session"
   ]
  },
  {
   "cell_type": "code",
   "execution_count": null,
   "id": "68d6206f-362a-4c02-a9e7-90a0444f333f",
   "metadata": {},
   "outputs": [],
   "source": [
    "collections = DataCollections(auth).keyword('ICESat-2').get(10)\n",
    "collections[0]['meta']"
   ]
  },
  {
   "cell_type": "code",
   "execution_count": null,
   "id": "3a5c4da0-a11c-4477-b47a-d76a02c4c226",
   "metadata": {},
   "outputs": [],
   "source": [
    "granules = DataGranules(auth).short_name('ATL08').bounding_box(-10,20,10,50).get(5)\n",
    "[display(g) for g in granules[0:5]]"
   ]
  },
  {
   "cell_type": "markdown",
   "id": "covered-handle",
   "metadata": {},
   "source": [
    "## Data Access using AWS S3\n",
    "\n",
    "* **IMPORTANT**: This section will only work if this notebook is running on the AWS **us-west-2** zone\n",
    "\n",
    "There is more than one way of accessing data on AWS S3, either downloading it to your local machine using the official client library or using a python library. \n",
    "\n",
    "**Performance tip**: using the HTTPS URLs will decrease the access performance since these links have to internally be processed by AWS's content delivery system (CloudFront). To get a better performance we should access the `S3://` URLs with BOTO3 or a high level S3 enabled library (i.e. S3FS)\n",
    "\n",
    "\n",
    "Related links:\n",
    "* [HDF in the Cloud challenges and solutions for scientific data](http://matthewrocklin.com/blog/work/2018/02/06/hdf-in-the-cloud)\n",
    "* [Cloud Storage (Amazon S3) HDF5 Connector](https://www.hdfgroup.org/solutions/enterprise-support/cloud-amazon-s3-storage-hdf5-connector/)\n"
   ]
  },
  {
   "cell_type": "code",
   "execution_count": null,
   "id": "3c175b0f-cc33-4302-bce1-886943ebff6f",
   "metadata": {},
   "outputs": [],
   "source": [
    "import s3fs\n",
    "import h5py"
   ]
  },
  {
   "cell_type": "code",
   "execution_count": null,
   "id": "08fa47e7-26d6-4fe7-9740-667071462ae8",
   "metadata": {},
   "outputs": [],
   "source": [
    "access = Accessor(auth)"
   ]
  },
  {
   "cell_type": "code",
   "execution_count": null,
   "id": "fb112213-3487-47df-8088-f571f3d7b891",
   "metadata": {},
   "outputs": [],
   "source": [
    "Query = DataGranules().concept_id(\"C2144424132-NSIDC_ECS\")"
   ]
  },
  {
   "cell_type": "code",
   "execution_count": null,
   "id": "4ddb62f1-1878-4ec7-8ce2-eebbf6f3b5fd",
   "metadata": {},
   "outputs": [],
   "source": [
    "Query.hits()"
   ]
  },
  {
   "cell_type": "code",
   "execution_count": null,
   "id": "11ae48ff-f301-4b5d-a4f0-7d254748168b",
   "metadata": {},
   "outputs": [],
   "source": [
    "granules = Query.get(100)"
   ]
  },
  {
   "cell_type": "code",
   "execution_count": null,
   "id": "727d6863-6328-425d-9636-3cf1100083f2",
   "metadata": {},
   "outputs": [],
   "source": [
    "granules[0].cloud_hosted"
   ]
  },
  {
   "cell_type": "code",
   "execution_count": null,
   "id": "5b9a9fd7-5f88-4474-a4d8-d195ed63220c",
   "metadata": {},
   "outputs": [],
   "source": [
    "import os\n",
    "import glob\n",
    "\n",
    "atl08_dir = 'data/demo-atl08'\n",
    "files = glob.glob(f'{atl08_dir}/*.h5')\n",
    "\n",
    "for f in files:\n",
    "    try:\n",
    "        os.remove(f)\n",
    "    except OSError as e:\n",
    "        print(\"Error: %s : %s\" % (f, e.strerror))"
   ]
  },
  {
   "cell_type": "code",
   "execution_count": null,
   "id": "13d50f06-8418-4ee9-8231-561ab97efc9d",
   "metadata": {},
   "outputs": [],
   "source": [
    "%%time\n",
    "files = access.get(granules[0:3], atl08_dir)"
   ]
  },
  {
   "cell_type": "code",
   "execution_count": null,
   "id": "4303d3a3-1745-4baa-a70d-bed62ca54dce",
   "metadata": {},
   "outputs": [],
   "source": [
    "import h5py\n",
    "\n",
    "file = 'data/demo-atl08/ATL08_20181014001920_02350103_005_01.h5'\n",
    "ds = h5py.File(file, 'r')\n",
    "ds"
   ]
  },
  {
   "cell_type": "code",
   "execution_count": null,
   "id": "275e8c66-a45e-47a2-b9a7-a5a07ea31b30",
   "metadata": {},
   "outputs": [],
   "source": []
  },
  {
   "cell_type": "markdown",
   "id": "e68889d8-1eb5-4ca8-ba38-4749aab1717e",
   "metadata": {},
   "source": [
    "# Cloud-Hosted Granules"
   ]
  },
  {
   "cell_type": "code",
   "execution_count": null,
   "id": "377b507d-685e-4953-ab28-61d40f318a1a",
   "metadata": {},
   "outputs": [],
   "source": [
    "Query = DataGranules().concept_id(\"C1968980609-POCLOUD\").bounding_box(-134.7,54.9,-100.9,69.2)\n",
    "print(f\"Granule hits: {Query.hits()}\")\n",
    "cloud_granules = Query.get(100)\n",
    "# is this a cloud hosted data granule?\n",
    "cloud_granules[0].cloud_hosted"
   ]
  },
  {
   "cell_type": "markdown",
   "id": "imposed-valuation",
   "metadata": {},
   "source": [
    "## Using xarray to open files on S3\n",
    "\n",
    "ATL data is complex so xarray doesn't know how to extract the important bits out of it."
   ]
  },
  {
   "cell_type": "code",
   "execution_count": null,
   "id": "other-nowhere",
   "metadata": {},
   "outputs": [],
   "source": [
    "# Let's order them by size again.\n",
    "import operator\n",
    "cloud_granules_by_size = sorted(cloud_granules, key=operator.itemgetter(\"size\"))\n",
    "# now our array is sorted by size from less to more. Let's print the first 10\n",
    "cloud_granules_by_size[0:2]"
   ]
  },
  {
   "cell_type": "code",
   "execution_count": null,
   "id": "146b67af-a3bc-459e-9641-7b9316737b2a",
   "metadata": {},
   "outputs": [],
   "source": [
    "%%time\n",
    "\n",
    "jason_dir = 'data/jason'\n",
    "#files = access.get(cloud_granules_by_size[0:2], jason_dir)"
   ]
  },
  {
   "cell_type": "code",
   "execution_count": null,
   "id": "3a38d1c4-cd78-477b-91be-9c9216641c4c",
   "metadata": {},
   "outputs": [],
   "source": [
    "s3_cred_endpoint = {\n",
    "    'podaac':'https://archive.podaac.earthdata.nasa.gov/s3credentials',\n",
    "    'gesdisc': 'https://data.gesdisc.earthdata.nasa.gov/s3credentials',\n",
    "    'lpdaac':'https://data.lpdaac.earthdatacloud.nasa.gov/s3credentials',\n",
    "    'ornldaac': 'https://data.ornldaac.earthdata.nasa.gov/s3credentials',\n",
    "    'ghrcdaac': 'https://data.ghrc.earthdata.nasa.gov/s3credentials'\n",
    "}"
   ]
  },
  {
   "cell_type": "code",
   "execution_count": null,
   "id": "bf3a6c79-2719-4e4a-abde-acde7f597d92",
   "metadata": {},
   "outputs": [],
   "source": [
    "def get_temp_creds(daac):\n",
    "    temp_creds_url = s3_cred_endpoint\n",
    "    return requests.get(temp_creds_url[daac]).json()"
   ]
  },
  {
   "cell_type": "code",
   "execution_count": null,
   "id": "480875e7-bb2b-46df-8699-4ac251f4f4ea",
   "metadata": {},
   "outputs": [],
   "source": [
    "import requests\n",
    "temp_creds_req = get_temp_creds('podaac')"
   ]
  },
  {
   "cell_type": "code",
   "execution_count": null,
   "id": "64d9a03d-6bb2-45af-9c21-e6572b8eceb7",
   "metadata": {},
   "outputs": [],
   "source": [
    "#!pip install boto3\n",
    "import os\n",
    "import requests \n",
    "import boto3\n",
    "from osgeo import gdal\n",
    "import rasterio as rio\n",
    "from rasterio.session import AWSSession\n",
    "import rioxarray\n",
    "import hvplot.xarray\n",
    "import holoviews as hv"
   ]
  },
  {
   "cell_type": "code",
   "execution_count": null,
   "id": "d71909d2-35ea-417c-8364-d1ee716763be",
   "metadata": {},
   "outputs": [],
   "source": [
    "fs_s3 = s3fs.S3FileSystem(anon=False, \n",
    "                          key=temp_creds_req['accessKeyId'], \n",
    "                          secret=temp_creds_req['secretAccessKey'], \n",
    "                          token=temp_creds_req['sessionToken'])"
   ]
  },
  {
   "cell_type": "code",
   "execution_count": null,
   "id": "09c18ea7-b962-4283-8ee2-b66274bc6ab3",
   "metadata": {},
   "outputs": [],
   "source": [
    "#s3_url = cloud_granules[0].data_links()[0]\n",
    "s3_url = 's3://podaac-ops-cumulus-protected/ECCO_L4_SSH_05DEG_MONTHLY_V4R4/SEA_SURFACE_HEIGHT_mon_mean_2015-01_ECCO_V4r4_latlon_0p50deg.nc'"
   ]
  },
  {
   "cell_type": "code",
   "execution_count": null,
   "id": "f4be0f9a-43bd-452c-924f-1a42b69dac24",
   "metadata": {},
   "outputs": [],
   "source": [
    "s3_file_obj = fs_s3.open(s3_url, mode='rb')"
   ]
  },
  {
   "cell_type": "code",
   "execution_count": null,
   "id": "00d2e78e-8fb0-42f3-bbe7-09df51feb3c8",
   "metadata": {},
   "outputs": [],
   "source": [
    "s3_file_obj"
   ]
  },
  {
   "cell_type": "code",
   "execution_count": null,
   "id": "4a73d227-d3b4-4d35-9012-0924671ba6d0",
   "metadata": {},
   "outputs": [],
   "source": [
    "ssh_ds = xr.open_dataset(s3_file_obj, engine='h5netcdf')\n",
    "ssh_ds"
   ]
  },
  {
   "cell_type": "code",
   "execution_count": null,
   "id": "25a1550a-0c47-4d92-81e9-21912fd73cec",
   "metadata": {},
   "outputs": [],
   "source": [
    "ssh_da = ssh_ds.SSH\n",
    "ssh_da"
   ]
  },
  {
   "cell_type": "code",
   "execution_count": null,
   "id": "16026ca4-9b99-4d7f-9ed6-abde39c1f4a5",
   "metadata": {},
   "outputs": [],
   "source": [
    "ssh_da.hvplot.image(x='longitude', y='latitude', cmap='Spectral_r', aspect='equal').opts(clim=(ssh_da.attrs['valid_min'],ssh_da.attrs['valid_max']))"
   ]
  }
 ],
 "metadata": {
  "kernelspec": {
   "display_name": "Python 3 (ipykernel)",
   "language": "python",
   "name": "python3"
  },
  "language_info": {
   "codemirror_mode": {
    "name": "ipython",
    "version": 3
   },
   "file_extension": ".py",
   "mimetype": "text/x-python",
   "name": "python",
   "nbconvert_exporter": "python",
   "pygments_lexer": "ipython3",
   "version": "3.9.10"
  }
 },
 "nbformat": 4,
 "nbformat_minor": 5
}
